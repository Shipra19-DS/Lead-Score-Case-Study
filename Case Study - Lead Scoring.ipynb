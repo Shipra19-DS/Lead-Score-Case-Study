{
 "cells": [
  {
   "cell_type": "markdown",
   "metadata": {},
   "source": [
    "# LEAD SCORING"
   ]
  },
  {
   "cell_type": "markdown",
   "metadata": {},
   "source": [
    "### Problem Statement:\n",
    "\n",
    "An education company named X Education sells online courses to industry professionals. On any given day, many professionals who are interested in the courses land on their website and browse for courses. \n",
    "\n",
    "The company markets its courses on several websites and search engines like Google. Once these people land on the website, they might browse the courses or fill up a form for the course or watch some videos. When these people fill up a form providing their email address or phone number, they are classified to be a lead. Moreover, the company also gets leads through past referrals. Once these leads are acquired, employees from the sales team start making calls, writing emails, etc. Through this process, some of the leads get converted while most do not. The typical lead conversion rate at X education is around 30%. \n",
    "\n",
    "Now, although X Education gets a lot of leads, its lead conversion rate is very poor. For example, if, say, they acquire 100 leads in a day, only about 30 of them are converted. To make this process more efficient, the company wishes to identify the most potential leads, also known as ‘Hot Leads’. If they successfully identify this set of leads, the lead conversion rate should go up as the sales team will now be focusing more on communicating with the potential leads rather than making calls to everyone. \n",
    "\n",
    "As you can see, there are a lot of leads generated in the initial stage (top) but only a few of them come out as paying customers from the bottom. In the middle stage, you need to nurture the potential leads well (i.e. educating the leads about the product, constantly communicating etc. ) in order to get a higher lead conversion.\n",
    "\n",
    "X Education has appointed you to help them select the most promising leads, i.e. the leads that are most likely to convert into paying customers. The company requires you to build a model wherein you need to assign a lead score to each of the leads such that the customers with higher lead score have a higher conversion chance and the customers with lower lead score have a lower conversion chance. The CEO, in particular, has given a ballpark of the target lead conversion rate to be around 80%.\n",
    "\n",
    " "
   ]
  },
  {
   "cell_type": "code",
   "execution_count": 1,
   "metadata": {},
   "outputs": [],
   "source": [
    "# Suppressing Warnings\n",
    "import warnings\n",
    "warnings.filterwarnings('ignore')\n",
    "# Importing Pandas and NumPy\n",
    "import pandas as pd, numpy as np\n",
    "import matplotlib.pyplot as plt, seaborn as sns"
   ]
  },
  {
   "cell_type": "code",
   "execution_count": 2,
   "metadata": {},
   "outputs": [],
   "source": [
    "#function definitons\n",
    "\n",
    "#Function to print null values in all columns\n",
    "def nulls(df):\n",
    "    return (100*round(df.isnull().sum()/len(df),4).sort_values(ascending=False))\n",
    "\n",
    "#Function to get the VIFs for all the variables in a dataframe\n",
    "from statsmodels.stats.outliers_influence import variance_inflation_factor\n",
    "def getvif(df):\n",
    "    if 'const' in list(df.columns):\n",
    "        df1=df.drop('const', axis=1) \n",
    "    else:\n",
    "        df1 = df.copy()\n",
    "    vif=pd.DataFrame()\n",
    "    vif['Features'] = df1.columns\n",
    "    vif['VIF'] = [variance_inflation_factor(df1.values, i) for i in range(df1.shape[1])]\n",
    "    vif['VIF'] = round(vif.VIF,2)\n",
    "    vif = vif.sort_values(by = 'VIF', ascending = False)\n",
    "    return vif"
   ]
  },
  {
   "cell_type": "code",
   "execution_count": 3,
   "metadata": {},
   "outputs": [
    {
     "data": {
      "text/html": [
       "<div>\n",
       "<style scoped>\n",
       "    .dataframe tbody tr th:only-of-type {\n",
       "        vertical-align: middle;\n",
       "    }\n",
       "\n",
       "    .dataframe tbody tr th {\n",
       "        vertical-align: top;\n",
       "    }\n",
       "\n",
       "    .dataframe thead th {\n",
       "        text-align: right;\n",
       "    }\n",
       "</style>\n",
       "<table border=\"1\" class=\"dataframe\">\n",
       "  <thead>\n",
       "    <tr style=\"text-align: right;\">\n",
       "      <th></th>\n",
       "      <th>Prospect ID</th>\n",
       "      <th>Lead Number</th>\n",
       "      <th>Lead Origin</th>\n",
       "      <th>Lead Source</th>\n",
       "      <th>Do Not Email</th>\n",
       "      <th>Do Not Call</th>\n",
       "      <th>Converted</th>\n",
       "      <th>TotalVisits</th>\n",
       "      <th>Total Time Spent on Website</th>\n",
       "      <th>Page Views Per Visit</th>\n",
       "      <th>...</th>\n",
       "      <th>Get updates on DM Content</th>\n",
       "      <th>Lead Profile</th>\n",
       "      <th>City</th>\n",
       "      <th>Asymmetrique Activity Index</th>\n",
       "      <th>Asymmetrique Profile Index</th>\n",
       "      <th>Asymmetrique Activity Score</th>\n",
       "      <th>Asymmetrique Profile Score</th>\n",
       "      <th>I agree to pay the amount through cheque</th>\n",
       "      <th>A free copy of Mastering The Interview</th>\n",
       "      <th>Last Notable Activity</th>\n",
       "    </tr>\n",
       "  </thead>\n",
       "  <tbody>\n",
       "    <tr>\n",
       "      <th>0</th>\n",
       "      <td>7927b2df-8bba-4d29-b9a2-b6e0beafe620</td>\n",
       "      <td>660737</td>\n",
       "      <td>API</td>\n",
       "      <td>Olark Chat</td>\n",
       "      <td>No</td>\n",
       "      <td>No</td>\n",
       "      <td>0</td>\n",
       "      <td>0.0</td>\n",
       "      <td>0</td>\n",
       "      <td>0.0</td>\n",
       "      <td>...</td>\n",
       "      <td>No</td>\n",
       "      <td>Select</td>\n",
       "      <td>Select</td>\n",
       "      <td>02.Medium</td>\n",
       "      <td>02.Medium</td>\n",
       "      <td>15.0</td>\n",
       "      <td>15.0</td>\n",
       "      <td>No</td>\n",
       "      <td>No</td>\n",
       "      <td>Modified</td>\n",
       "    </tr>\n",
       "    <tr>\n",
       "      <th>1</th>\n",
       "      <td>2a272436-5132-4136-86fa-dcc88c88f482</td>\n",
       "      <td>660728</td>\n",
       "      <td>API</td>\n",
       "      <td>Organic Search</td>\n",
       "      <td>No</td>\n",
       "      <td>No</td>\n",
       "      <td>0</td>\n",
       "      <td>5.0</td>\n",
       "      <td>674</td>\n",
       "      <td>2.5</td>\n",
       "      <td>...</td>\n",
       "      <td>No</td>\n",
       "      <td>Select</td>\n",
       "      <td>Select</td>\n",
       "      <td>02.Medium</td>\n",
       "      <td>02.Medium</td>\n",
       "      <td>15.0</td>\n",
       "      <td>15.0</td>\n",
       "      <td>No</td>\n",
       "      <td>No</td>\n",
       "      <td>Email Opened</td>\n",
       "    </tr>\n",
       "    <tr>\n",
       "      <th>2</th>\n",
       "      <td>8cc8c611-a219-4f35-ad23-fdfd2656bd8a</td>\n",
       "      <td>660727</td>\n",
       "      <td>Landing Page Submission</td>\n",
       "      <td>Direct Traffic</td>\n",
       "      <td>No</td>\n",
       "      <td>No</td>\n",
       "      <td>1</td>\n",
       "      <td>2.0</td>\n",
       "      <td>1532</td>\n",
       "      <td>2.0</td>\n",
       "      <td>...</td>\n",
       "      <td>No</td>\n",
       "      <td>Potential Lead</td>\n",
       "      <td>Mumbai</td>\n",
       "      <td>02.Medium</td>\n",
       "      <td>01.High</td>\n",
       "      <td>14.0</td>\n",
       "      <td>20.0</td>\n",
       "      <td>No</td>\n",
       "      <td>Yes</td>\n",
       "      <td>Email Opened</td>\n",
       "    </tr>\n",
       "    <tr>\n",
       "      <th>3</th>\n",
       "      <td>0cc2df48-7cf4-4e39-9de9-19797f9b38cc</td>\n",
       "      <td>660719</td>\n",
       "      <td>Landing Page Submission</td>\n",
       "      <td>Direct Traffic</td>\n",
       "      <td>No</td>\n",
       "      <td>No</td>\n",
       "      <td>0</td>\n",
       "      <td>1.0</td>\n",
       "      <td>305</td>\n",
       "      <td>1.0</td>\n",
       "      <td>...</td>\n",
       "      <td>No</td>\n",
       "      <td>Select</td>\n",
       "      <td>Mumbai</td>\n",
       "      <td>02.Medium</td>\n",
       "      <td>01.High</td>\n",
       "      <td>13.0</td>\n",
       "      <td>17.0</td>\n",
       "      <td>No</td>\n",
       "      <td>No</td>\n",
       "      <td>Modified</td>\n",
       "    </tr>\n",
       "    <tr>\n",
       "      <th>4</th>\n",
       "      <td>3256f628-e534-4826-9d63-4a8b88782852</td>\n",
       "      <td>660681</td>\n",
       "      <td>Landing Page Submission</td>\n",
       "      <td>Google</td>\n",
       "      <td>No</td>\n",
       "      <td>No</td>\n",
       "      <td>1</td>\n",
       "      <td>2.0</td>\n",
       "      <td>1428</td>\n",
       "      <td>1.0</td>\n",
       "      <td>...</td>\n",
       "      <td>No</td>\n",
       "      <td>Select</td>\n",
       "      <td>Mumbai</td>\n",
       "      <td>02.Medium</td>\n",
       "      <td>01.High</td>\n",
       "      <td>15.0</td>\n",
       "      <td>18.0</td>\n",
       "      <td>No</td>\n",
       "      <td>No</td>\n",
       "      <td>Modified</td>\n",
       "    </tr>\n",
       "  </tbody>\n",
       "</table>\n",
       "<p>5 rows × 37 columns</p>\n",
       "</div>"
      ],
      "text/plain": [
       "                            Prospect ID  Lead Number              Lead Origin  \\\n",
       "0  7927b2df-8bba-4d29-b9a2-b6e0beafe620       660737                      API   \n",
       "1  2a272436-5132-4136-86fa-dcc88c88f482       660728                      API   \n",
       "2  8cc8c611-a219-4f35-ad23-fdfd2656bd8a       660727  Landing Page Submission   \n",
       "3  0cc2df48-7cf4-4e39-9de9-19797f9b38cc       660719  Landing Page Submission   \n",
       "4  3256f628-e534-4826-9d63-4a8b88782852       660681  Landing Page Submission   \n",
       "\n",
       "      Lead Source Do Not Email Do Not Call  Converted  TotalVisits  \\\n",
       "0      Olark Chat           No          No          0          0.0   \n",
       "1  Organic Search           No          No          0          5.0   \n",
       "2  Direct Traffic           No          No          1          2.0   \n",
       "3  Direct Traffic           No          No          0          1.0   \n",
       "4          Google           No          No          1          2.0   \n",
       "\n",
       "   Total Time Spent on Website  Page Views Per Visit  ...  \\\n",
       "0                            0                   0.0  ...   \n",
       "1                          674                   2.5  ...   \n",
       "2                         1532                   2.0  ...   \n",
       "3                          305                   1.0  ...   \n",
       "4                         1428                   1.0  ...   \n",
       "\n",
       "  Get updates on DM Content    Lead Profile    City  \\\n",
       "0                        No          Select  Select   \n",
       "1                        No          Select  Select   \n",
       "2                        No  Potential Lead  Mumbai   \n",
       "3                        No          Select  Mumbai   \n",
       "4                        No          Select  Mumbai   \n",
       "\n",
       "  Asymmetrique Activity Index Asymmetrique Profile Index  \\\n",
       "0                   02.Medium                  02.Medium   \n",
       "1                   02.Medium                  02.Medium   \n",
       "2                   02.Medium                    01.High   \n",
       "3                   02.Medium                    01.High   \n",
       "4                   02.Medium                    01.High   \n",
       "\n",
       "  Asymmetrique Activity Score Asymmetrique Profile Score  \\\n",
       "0                        15.0                       15.0   \n",
       "1                        15.0                       15.0   \n",
       "2                        14.0                       20.0   \n",
       "3                        13.0                       17.0   \n",
       "4                        15.0                       18.0   \n",
       "\n",
       "  I agree to pay the amount through cheque  \\\n",
       "0                                       No   \n",
       "1                                       No   \n",
       "2                                       No   \n",
       "3                                       No   \n",
       "4                                       No   \n",
       "\n",
       "  A free copy of Mastering The Interview Last Notable Activity  \n",
       "0                                     No              Modified  \n",
       "1                                     No          Email Opened  \n",
       "2                                    Yes          Email Opened  \n",
       "3                                     No              Modified  \n",
       "4                                     No              Modified  \n",
       "\n",
       "[5 rows x 37 columns]"
      ]
     },
     "execution_count": 3,
     "metadata": {},
     "output_type": "execute_result"
    }
   ],
   "source": [
    "#importing dataset\n",
    "df = pd.read_csv('Leads.csv')\n",
    "df.head()"
   ]
  },
  {
   "cell_type": "markdown",
   "metadata": {},
   "source": [
    "## Data Cleaning and EDA"
   ]
  },
  {
   "cell_type": "code",
   "execution_count": 4,
   "metadata": {
    "scrolled": true
   },
   "outputs": [
    {
     "data": {
      "text/plain": [
       "(9240, 37)"
      ]
     },
     "execution_count": 4,
     "metadata": {},
     "output_type": "execute_result"
    }
   ],
   "source": [
    "df.shape"
   ]
  },
  {
   "cell_type": "code",
   "execution_count": 5,
   "metadata": {
    "scrolled": true
   },
   "outputs": [
    {
     "name": "stdout",
     "output_type": "stream",
     "text": [
      "<class 'pandas.core.frame.DataFrame'>\n",
      "RangeIndex: 9240 entries, 0 to 9239\n",
      "Data columns (total 37 columns):\n",
      " #   Column                                         Non-Null Count  Dtype  \n",
      "---  ------                                         --------------  -----  \n",
      " 0   Prospect ID                                    9240 non-null   object \n",
      " 1   Lead Number                                    9240 non-null   int64  \n",
      " 2   Lead Origin                                    9240 non-null   object \n",
      " 3   Lead Source                                    9204 non-null   object \n",
      " 4   Do Not Email                                   9240 non-null   object \n",
      " 5   Do Not Call                                    9240 non-null   object \n",
      " 6   Converted                                      9240 non-null   int64  \n",
      " 7   TotalVisits                                    9103 non-null   float64\n",
      " 8   Total Time Spent on Website                    9240 non-null   int64  \n",
      " 9   Page Views Per Visit                           9103 non-null   float64\n",
      " 10  Last Activity                                  9137 non-null   object \n",
      " 11  Country                                        6779 non-null   object \n",
      " 12  Specialization                                 7802 non-null   object \n",
      " 13  How did you hear about X Education             7033 non-null   object \n",
      " 14  What is your current occupation                6550 non-null   object \n",
      " 15  What matters most to you in choosing a course  6531 non-null   object \n",
      " 16  Search                                         9240 non-null   object \n",
      " 17  Magazine                                       9240 non-null   object \n",
      " 18  Newspaper Article                              9240 non-null   object \n",
      " 19  X Education Forums                             9240 non-null   object \n",
      " 20  Newspaper                                      9240 non-null   object \n",
      " 21  Digital Advertisement                          9240 non-null   object \n",
      " 22  Through Recommendations                        9240 non-null   object \n",
      " 23  Receive More Updates About Our Courses         9240 non-null   object \n",
      " 24  Tags                                           5887 non-null   object \n",
      " 25  Lead Quality                                   4473 non-null   object \n",
      " 26  Update me on Supply Chain Content              9240 non-null   object \n",
      " 27  Get updates on DM Content                      9240 non-null   object \n",
      " 28  Lead Profile                                   6531 non-null   object \n",
      " 29  City                                           7820 non-null   object \n",
      " 30  Asymmetrique Activity Index                    5022 non-null   object \n",
      " 31  Asymmetrique Profile Index                     5022 non-null   object \n",
      " 32  Asymmetrique Activity Score                    5022 non-null   float64\n",
      " 33  Asymmetrique Profile Score                     5022 non-null   float64\n",
      " 34  I agree to pay the amount through cheque       9240 non-null   object \n",
      " 35  A free copy of Mastering The Interview         9240 non-null   object \n",
      " 36  Last Notable Activity                          9240 non-null   object \n",
      "dtypes: float64(4), int64(3), object(30)\n",
      "memory usage: 2.6+ MB\n"
     ]
    }
   ],
   "source": [
    "#Let's see what columns we have\n",
    "df.info()"
   ]
  },
  {
   "cell_type": "code",
   "execution_count": 6,
   "metadata": {},
   "outputs": [
    {
     "data": {
      "text/html": [
       "<div>\n",
       "<style scoped>\n",
       "    .dataframe tbody tr th:only-of-type {\n",
       "        vertical-align: middle;\n",
       "    }\n",
       "\n",
       "    .dataframe tbody tr th {\n",
       "        vertical-align: top;\n",
       "    }\n",
       "\n",
       "    .dataframe thead th {\n",
       "        text-align: right;\n",
       "    }\n",
       "</style>\n",
       "<table border=\"1\" class=\"dataframe\">\n",
       "  <thead>\n",
       "    <tr style=\"text-align: right;\">\n",
       "      <th></th>\n",
       "      <th>Lead Number</th>\n",
       "      <th>Converted</th>\n",
       "      <th>TotalVisits</th>\n",
       "      <th>Total Time Spent on Website</th>\n",
       "      <th>Page Views Per Visit</th>\n",
       "      <th>Asymmetrique Activity Score</th>\n",
       "      <th>Asymmetrique Profile Score</th>\n",
       "    </tr>\n",
       "  </thead>\n",
       "  <tbody>\n",
       "    <tr>\n",
       "      <th>count</th>\n",
       "      <td>9240.000000</td>\n",
       "      <td>9240.000000</td>\n",
       "      <td>9103.000000</td>\n",
       "      <td>9240.000000</td>\n",
       "      <td>9103.000000</td>\n",
       "      <td>5022.000000</td>\n",
       "      <td>5022.000000</td>\n",
       "    </tr>\n",
       "    <tr>\n",
       "      <th>mean</th>\n",
       "      <td>617188.435606</td>\n",
       "      <td>0.385390</td>\n",
       "      <td>3.445238</td>\n",
       "      <td>487.698268</td>\n",
       "      <td>2.362820</td>\n",
       "      <td>14.306252</td>\n",
       "      <td>16.344883</td>\n",
       "    </tr>\n",
       "    <tr>\n",
       "      <th>std</th>\n",
       "      <td>23405.995698</td>\n",
       "      <td>0.486714</td>\n",
       "      <td>4.854853</td>\n",
       "      <td>548.021466</td>\n",
       "      <td>2.161418</td>\n",
       "      <td>1.386694</td>\n",
       "      <td>1.811395</td>\n",
       "    </tr>\n",
       "    <tr>\n",
       "      <th>min</th>\n",
       "      <td>579533.000000</td>\n",
       "      <td>0.000000</td>\n",
       "      <td>0.000000</td>\n",
       "      <td>0.000000</td>\n",
       "      <td>0.000000</td>\n",
       "      <td>7.000000</td>\n",
       "      <td>11.000000</td>\n",
       "    </tr>\n",
       "    <tr>\n",
       "      <th>25%</th>\n",
       "      <td>596484.500000</td>\n",
       "      <td>0.000000</td>\n",
       "      <td>1.000000</td>\n",
       "      <td>12.000000</td>\n",
       "      <td>1.000000</td>\n",
       "      <td>14.000000</td>\n",
       "      <td>15.000000</td>\n",
       "    </tr>\n",
       "    <tr>\n",
       "      <th>50%</th>\n",
       "      <td>615479.000000</td>\n",
       "      <td>0.000000</td>\n",
       "      <td>3.000000</td>\n",
       "      <td>248.000000</td>\n",
       "      <td>2.000000</td>\n",
       "      <td>14.000000</td>\n",
       "      <td>16.000000</td>\n",
       "    </tr>\n",
       "    <tr>\n",
       "      <th>75%</th>\n",
       "      <td>637387.250000</td>\n",
       "      <td>1.000000</td>\n",
       "      <td>5.000000</td>\n",
       "      <td>936.000000</td>\n",
       "      <td>3.000000</td>\n",
       "      <td>15.000000</td>\n",
       "      <td>18.000000</td>\n",
       "    </tr>\n",
       "    <tr>\n",
       "      <th>max</th>\n",
       "      <td>660737.000000</td>\n",
       "      <td>1.000000</td>\n",
       "      <td>251.000000</td>\n",
       "      <td>2272.000000</td>\n",
       "      <td>55.000000</td>\n",
       "      <td>18.000000</td>\n",
       "      <td>20.000000</td>\n",
       "    </tr>\n",
       "  </tbody>\n",
       "</table>\n",
       "</div>"
      ],
      "text/plain": [
       "         Lead Number    Converted  TotalVisits  Total Time Spent on Website  \\\n",
       "count    9240.000000  9240.000000  9103.000000                  9240.000000   \n",
       "mean   617188.435606     0.385390     3.445238                   487.698268   \n",
       "std     23405.995698     0.486714     4.854853                   548.021466   \n",
       "min    579533.000000     0.000000     0.000000                     0.000000   \n",
       "25%    596484.500000     0.000000     1.000000                    12.000000   \n",
       "50%    615479.000000     0.000000     3.000000                   248.000000   \n",
       "75%    637387.250000     1.000000     5.000000                   936.000000   \n",
       "max    660737.000000     1.000000   251.000000                  2272.000000   \n",
       "\n",
       "       Page Views Per Visit  Asymmetrique Activity Score  \\\n",
       "count           9103.000000                  5022.000000   \n",
       "mean               2.362820                    14.306252   \n",
       "std                2.161418                     1.386694   \n",
       "min                0.000000                     7.000000   \n",
       "25%                1.000000                    14.000000   \n",
       "50%                2.000000                    14.000000   \n",
       "75%                3.000000                    15.000000   \n",
       "max               55.000000                    18.000000   \n",
       "\n",
       "       Asymmetrique Profile Score  \n",
       "count                 5022.000000  \n",
       "mean                    16.344883  \n",
       "std                      1.811395  \n",
       "min                     11.000000  \n",
       "25%                     15.000000  \n",
       "50%                     16.000000  \n",
       "75%                     18.000000  \n",
       "max                     20.000000  "
      ]
     },
     "execution_count": 6,
     "metadata": {},
     "output_type": "execute_result"
    }
   ],
   "source": [
    "#Description of numerical columns\n",
    "df.describe()"
   ]
  },
  {
   "cell_type": "code",
   "execution_count": 7,
   "metadata": {
    "scrolled": false
   },
   "outputs": [
    {
     "data": {
      "text/plain": [
       "Lead Quality                                     51.59\n",
       "Asymmetrique Profile Score                       45.65\n",
       "Asymmetrique Activity Score                      45.65\n",
       "Asymmetrique Profile Index                       45.65\n",
       "Asymmetrique Activity Index                      45.65\n",
       "Tags                                             36.29\n",
       "What matters most to you in choosing a course    29.32\n",
       "Lead Profile                                     29.32\n",
       "What is your current occupation                  29.11\n",
       "Country                                          26.63\n",
       "How did you hear about X Education               23.89\n",
       "Specialization                                   15.56\n",
       "City                                             15.37\n",
       "TotalVisits                                       1.48\n",
       "Page Views Per Visit                              1.48\n",
       "Last Activity                                     1.11\n",
       "Lead Source                                       0.39\n",
       "Do Not Email                                      0.00\n",
       "Do Not Call                                       0.00\n",
       "Converted                                         0.00\n",
       "Total Time Spent on Website                       0.00\n",
       "Lead Origin                                       0.00\n",
       "Lead Number                                       0.00\n",
       "Last Notable Activity                             0.00\n",
       "Newspaper Article                                 0.00\n",
       "Search                                            0.00\n",
       "Magazine                                          0.00\n",
       "A free copy of Mastering The Interview            0.00\n",
       "X Education Forums                                0.00\n",
       "Newspaper                                         0.00\n",
       "Digital Advertisement                             0.00\n",
       "Through Recommendations                           0.00\n",
       "Receive More Updates About Our Courses            0.00\n",
       "Update me on Supply Chain Content                 0.00\n",
       "Get updates on DM Content                         0.00\n",
       "I agree to pay the amount through cheque          0.00\n",
       "Prospect ID                                       0.00\n",
       "dtype: float64"
      ]
     },
     "execution_count": 7,
     "metadata": {},
     "output_type": "execute_result"
    }
   ],
   "source": [
    "#There are a lot of columns with a lot of null values\n",
    "nulls(df)"
   ]
  },
  {
   "cell_type": "code",
   "execution_count": 8,
   "metadata": {},
   "outputs": [
    {
     "data": {
      "text/plain": [
       "0"
      ]
     },
     "execution_count": 8,
     "metadata": {},
     "output_type": "execute_result"
    }
   ],
   "source": [
    "#Lets see if there are any duplicates rows in entirety\n",
    "df.duplicated(keep='first').sum()"
   ]
  },
  {
   "cell_type": "code",
   "execution_count": 9,
   "metadata": {},
   "outputs": [
    {
     "data": {
      "text/plain": [
       "0"
      ]
     },
     "execution_count": 9,
     "metadata": {},
     "output_type": "execute_result"
    }
   ],
   "source": [
    "#Lets see if there are any duplicates, this time using only the prospect ID as the identifier\n",
    "df.duplicated(keep='first',subset='Prospect ID').sum()"
   ]
  },
  {
   "cell_type": "code",
   "execution_count": 10,
   "metadata": {
    "scrolled": true
   },
   "outputs": [
    {
     "data": {
      "text/plain": [
       "Select                               24.891054\n",
       "Finance Management                   12.509613\n",
       "Human Resource Management            10.869008\n",
       "Marketing Management                 10.740836\n",
       "Operations Management                 6.447065\n",
       "Business Administration               5.165342\n",
       "IT Projects Management                4.691105\n",
       "Supply Chain Management               4.473212\n",
       "Banking, Investment And Insurance     4.332223\n",
       "Travel and Tourism                    2.601897\n",
       "Media and Advertising                 2.601897\n",
       "International Business                2.281466\n",
       "Healthcare Management                 2.037939\n",
       "Hospitality Management                1.461164\n",
       "E-COMMERCE                            1.435529\n",
       "Retail Management                     1.281723\n",
       "Rural and Agribusiness                0.935658\n",
       "E-Business                            0.730582\n",
       "Services Excellence                   0.512689\n",
       "Name: Specialization, dtype: float64"
      ]
     },
     "execution_count": 10,
     "metadata": {},
     "output_type": "execute_result"
    }
   ],
   "source": [
    "#There are some values that have been mentioned as \"Select\". As per the data dictionary, these are default values selected when the user does not make any other selection.\n",
    "df.Specialization.value_counts(normalize=True)*100"
   ]
  },
  {
   "cell_type": "code",
   "execution_count": 11,
   "metadata": {},
   "outputs": [],
   "source": [
    "#For our data to make more sense, we will be replacing the \"Select\" values with NaNs.\n",
    "df=df.replace('Select',np.nan)"
   ]
  },
  {
   "cell_type": "code",
   "execution_count": 12,
   "metadata": {
    "scrolled": true
   },
   "outputs": [
    {
     "name": "stdout",
     "output_type": "stream",
     "text": [
      "How did you hear about X Education               78.46\n",
      "Lead Profile                                     74.19\n",
      "Lead Quality                                     51.59\n",
      "Asymmetrique Profile Score                       45.65\n",
      "Asymmetrique Activity Score                      45.65\n",
      "Asymmetrique Profile Index                       45.65\n",
      "Asymmetrique Activity Index                      45.65\n",
      "City                                             39.71\n",
      "Specialization                                   36.58\n",
      "Tags                                             36.29\n",
      "What matters most to you in choosing a course    29.32\n",
      "What is your current occupation                  29.11\n",
      "Country                                          26.63\n",
      "TotalVisits                                       1.48\n",
      "Page Views Per Visit                              1.48\n",
      "Last Activity                                     1.11\n",
      "Lead Source                                       0.39\n",
      "Lead Origin                                       0.00\n",
      "Lead Number                                       0.00\n",
      "Do Not Email                                      0.00\n",
      "Do Not Call                                       0.00\n",
      "Converted                                         0.00\n",
      "Total Time Spent on Website                       0.00\n",
      "Last Notable Activity                             0.00\n",
      "Newspaper Article                                 0.00\n",
      "Search                                            0.00\n",
      "Magazine                                          0.00\n",
      "A free copy of Mastering The Interview            0.00\n",
      "X Education Forums                                0.00\n",
      "Newspaper                                         0.00\n",
      "Digital Advertisement                             0.00\n",
      "Through Recommendations                           0.00\n",
      "Receive More Updates About Our Courses            0.00\n",
      "Update me on Supply Chain Content                 0.00\n",
      "Get updates on DM Content                         0.00\n",
      "I agree to pay the amount through cheque          0.00\n",
      "Prospect ID                                       0.00\n",
      "dtype: float64\n"
     ]
    }
   ],
   "source": [
    "#Now, we check for null value percentages again \n",
    "nulls_list=nulls(df)\n",
    "print(nulls_list)"
   ]
  },
  {
   "cell_type": "code",
   "execution_count": 13,
   "metadata": {},
   "outputs": [],
   "source": [
    "#Let's drop the columns with more than 50% of null values. these would be of no use to our model building process.\n",
    "df.drop(list(nulls_list.loc[nulls_list>50].index),axis=1,inplace=True)"
   ]
  },
  {
   "cell_type": "code",
   "execution_count": 14,
   "metadata": {
    "scrolled": true
   },
   "outputs": [
    {
     "data": {
      "text/plain": [
       "Asymmetrique Profile Score                       45.65\n",
       "Asymmetrique Activity Score                      45.65\n",
       "Asymmetrique Profile Index                       45.65\n",
       "Asymmetrique Activity Index                      45.65\n",
       "City                                             39.71\n",
       "Specialization                                   36.58\n",
       "Tags                                             36.29\n",
       "What matters most to you in choosing a course    29.32\n",
       "What is your current occupation                  29.11\n",
       "Country                                          26.63\n",
       "TotalVisits                                       1.48\n",
       "Page Views Per Visit                              1.48\n",
       "Last Activity                                     1.11\n",
       "Lead Source                                       0.39\n",
       "Lead Origin                                       0.00\n",
       "Do Not Email                                      0.00\n",
       "Do Not Call                                       0.00\n",
       "Converted                                         0.00\n",
       "Total Time Spent on Website                       0.00\n",
       "Lead Number                                       0.00\n",
       "Last Notable Activity                             0.00\n",
       "Magazine                                          0.00\n",
       "Search                                            0.00\n",
       "A free copy of Mastering The Interview            0.00\n",
       "Newspaper Article                                 0.00\n",
       "X Education Forums                                0.00\n",
       "Newspaper                                         0.00\n",
       "Digital Advertisement                             0.00\n",
       "Through Recommendations                           0.00\n",
       "Receive More Updates About Our Courses            0.00\n",
       "Update me on Supply Chain Content                 0.00\n",
       "Get updates on DM Content                         0.00\n",
       "I agree to pay the amount through cheque          0.00\n",
       "Prospect ID                                       0.00\n",
       "dtype: float64"
      ]
     },
     "execution_count": 14,
     "metadata": {},
     "output_type": "execute_result"
    }
   ],
   "source": [
    "#checking nulls again\n",
    "nulls(df)"
   ]
  },
  {
   "cell_type": "code",
   "execution_count": 15,
   "metadata": {
    "scrolled": true
   },
   "outputs": [
    {
     "name": "stdout",
     "output_type": "stream",
     "text": [
      "count    5022.000000\n",
      "mean       16.344883\n",
      "std         1.811395\n",
      "min        11.000000\n",
      "25%        15.000000\n",
      "50%        16.000000\n",
      "75%        18.000000\n",
      "max        20.000000\n",
      "Name: Asymmetrique Profile Score, dtype: float64\n",
      "count    5022.000000\n",
      "mean       14.306252\n",
      "std         1.386694\n",
      "min         7.000000\n",
      "25%        14.000000\n",
      "50%        14.000000\n",
      "75%        15.000000\n",
      "max        18.000000\n",
      "Name: Asymmetrique Activity Score, dtype: float64\n",
      "count          5022\n",
      "unique            3\n",
      "top       02.Medium\n",
      "freq           2788\n",
      "Name: Asymmetrique Profile Index, dtype: object\n",
      "count          5022\n",
      "unique            3\n",
      "top       02.Medium\n",
      "freq           3839\n",
      "Name: Asymmetrique Activity Index, dtype: object\n"
     ]
    }
   ],
   "source": [
    "#We will try and see what these scores and indices contain\n",
    "for i,each in enumerate(list(nulls(df).index)[:4]):\n",
    "    print(df[each].describe())"
   ]
  },
  {
   "cell_type": "code",
   "execution_count": 16,
   "metadata": {},
   "outputs": [
    {
     "data": {
      "text/plain": [
       "<matplotlib.axes._subplots.AxesSubplot at 0x27d4a192130>"
      ]
     },
     "execution_count": 16,
     "metadata": {},
     "output_type": "execute_result"
    },
    {
     "data": {
      "image/png": "[encoded data removed]",
      "text/plain": [
       "<Figure size 1440x864 with 4 Axes>"
      ]
     },
     "metadata": {
      "needs_background": "light"
     },
     "output_type": "display_data"
    }
   ],
   "source": [
    "#The scores are numerical, using box plots\n",
    "plt.figure(figsize=(20,12))\n",
    "plt.subplot(221)\n",
    "sns.boxplot(df['Asymmetrique Profile Score'])\n",
    "plt.subplot(222)\n",
    "sns.boxplot(df['Asymmetrique Activity Score'])\n",
    "#Indices are categorical, using countplot\n",
    "plt.subplot(223)\n",
    "sns.countplot(df['Asymmetrique Profile Index'])\n",
    "plt.subplot(224)\n",
    "sns.countplot(df['Asymmetrique Activity Index'])"
   ]
  },
  {
   "cell_type": "code",
   "execution_count": 17,
   "metadata": {
    "scrolled": true
   },
   "outputs": [
    {
     "data": {
      "text/plain": [
       "City                                             39.71\n",
       "Specialization                                   36.58\n",
       "Tags                                             36.29\n",
       "What matters most to you in choosing a course    29.32\n",
       "What is your current occupation                  29.11\n",
       "Country                                          26.63\n",
       "TotalVisits                                       1.48\n",
       "Page Views Per Visit                              1.48\n",
       "Last Activity                                     1.11\n",
       "Lead Source                                       0.39\n",
       "Lead Number                                       0.00\n",
       "Lead Origin                                       0.00\n",
       "Do Not Email                                      0.00\n",
       "Do Not Call                                       0.00\n",
       "Converted                                         0.00\n",
       "Total Time Spent on Website                       0.00\n",
       "Last Notable Activity                             0.00\n",
       "A free copy of Mastering The Interview            0.00\n",
       "Search                                            0.00\n",
       "Magazine                                          0.00\n",
       "Newspaper Article                                 0.00\n",
       "X Education Forums                                0.00\n",
       "Newspaper                                         0.00\n",
       "Digital Advertisement                             0.00\n",
       "Through Recommendations                           0.00\n",
       "Receive More Updates About Our Courses            0.00\n",
       "Update me on Supply Chain Content                 0.00\n",
       "Get updates on DM Content                         0.00\n",
       "I agree to pay the amount through cheque          0.00\n",
       "Prospect ID                                       0.00\n",
       "dtype: float64"
      ]
     },
     "execution_count": 17,
     "metadata": {},
     "output_type": "execute_result"
    }
   ],
   "source": [
    "#We cannot see a substantial variance in these features across the data set. Thus, since a large chunk of these variables is missing, we can choose to drop it, since no vital information would be lost.\n",
    "df.drop(list(nulls(df).index)[:4],axis=1,inplace=True)\n",
    "nulls(df)"
   ]
  },
  {
   "cell_type": "code",
   "execution_count": 18,
   "metadata": {},
   "outputs": [
    {
     "data": {
      "text/plain": [
       "Mumbai                         57.835218\n",
       "Thane & Outskirts              13.498474\n",
       "Other Cities                   12.313768\n",
       "Other Cities of Maharashtra     8.203195\n",
       "Other Metro Cities              6.821038\n",
       "Tier II Cities                  1.328307\n",
       "Name: City, dtype: float64"
      ]
     },
     "execution_count": 18,
     "metadata": {},
     "output_type": "execute_result"
    }
   ],
   "source": [
    "#inspecting city\n",
    "df.City.value_counts(normalize=True)*100"
   ]
  },
  {
   "cell_type": "code",
   "execution_count": 19,
   "metadata": {
    "scrolled": true
   },
   "outputs": [
    {
     "data": {
      "text/plain": [
       "Specialization                                   36.58\n",
       "Tags                                             36.29\n",
       "What matters most to you in choosing a course    29.32\n",
       "What is your current occupation                  29.11\n",
       "Country                                          26.63\n",
       "TotalVisits                                       1.48\n",
       "Page Views Per Visit                              1.48\n",
       "Last Activity                                     1.11\n",
       "Lead Source                                       0.39\n",
       "Lead Number                                       0.00\n",
       "Lead Origin                                       0.00\n",
       "Do Not Email                                      0.00\n",
       "Do Not Call                                       0.00\n",
       "Converted                                         0.00\n",
       "Total Time Spent on Website                       0.00\n",
       "Last Notable Activity                             0.00\n",
       "A free copy of Mastering The Interview            0.00\n",
       "Search                                            0.00\n",
       "Magazine                                          0.00\n",
       "Newspaper Article                                 0.00\n",
       "X Education Forums                                0.00\n",
       "Newspaper                                         0.00\n",
       "Digital Advertisement                             0.00\n",
       "Through Recommendations                           0.00\n",
       "Receive More Updates About Our Courses            0.00\n",
       "Update me on Supply Chain Content                 0.00\n",
       "Get updates on DM Content                         0.00\n",
       "City                                              0.00\n",
       "I agree to pay the amount through cheque          0.00\n",
       "Prospect ID                                       0.00\n",
       "dtype: float64"
      ]
     },
     "execution_count": 19,
     "metadata": {},
     "output_type": "execute_result"
    }
   ],
   "source": [
    "#57% of our data points are from Mumbai. We can choose to impute the nulls in city column with Mumbai.\n",
    "df['City'] = df['City'].replace(np.nan, 'Mumbai')\n",
    "nulls(df)"
   ]
  },
  {
   "cell_type": "code",
   "execution_count": 20,
   "metadata": {},
   "outputs": [
    {
     "data": {
      "text/plain": [
       "Finance Management                   16.655290\n",
       "Human Resource Management            14.470990\n",
       "Marketing Management                 14.300341\n",
       "Operations Management                 8.583618\n",
       "Business Administration               6.877133\n",
       "IT Projects Management                6.245734\n",
       "Supply Chain Management               5.955631\n",
       "Banking, Investment And Insurance     5.767918\n",
       "Travel and Tourism                    3.464164\n",
       "Media and Advertising                 3.464164\n",
       "International Business                3.037543\n",
       "Healthcare Management                 2.713311\n",
       "Hospitality Management                1.945392\n",
       "E-COMMERCE                            1.911263\n",
       "Retail Management                     1.706485\n",
       "Rural and Agribusiness                1.245734\n",
       "E-Business                            0.972696\n",
       "Services Excellence                   0.682594\n",
       "Name: Specialization, dtype: float64"
      ]
     },
     "execution_count": 20,
     "metadata": {},
     "output_type": "execute_result"
    }
   ],
   "source": [
    "#inspecting specialization \n",
    "df['Specialization'].value_counts(normalize=True).sort_values(ascending=False)*100"
   ]
  },
  {
   "cell_type": "code",
   "execution_count": 21,
   "metadata": {
    "scrolled": true
   },
   "outputs": [
    {
     "data": {
      "text/plain": [
       "Tags                                             36.29\n",
       "What matters most to you in choosing a course    29.32\n",
       "What is your current occupation                  29.11\n",
       "Country                                          26.63\n",
       "TotalVisits                                       1.48\n",
       "Page Views Per Visit                              1.48\n",
       "Last Activity                                     1.11\n",
       "Lead Source                                       0.39\n",
       "Lead Number                                       0.00\n",
       "Lead Origin                                       0.00\n",
       "Do Not Email                                      0.00\n",
       "Do Not Call                                       0.00\n",
       "Converted                                         0.00\n",
       "Total Time Spent on Website                       0.00\n",
       "Specialization                                    0.00\n",
       "Last Notable Activity                             0.00\n",
       "A free copy of Mastering The Interview            0.00\n",
       "Search                                            0.00\n",
       "Magazine                                          0.00\n",
       "Newspaper Article                                 0.00\n",
       "X Education Forums                                0.00\n",
       "Newspaper                                         0.00\n",
       "Digital Advertisement                             0.00\n",
       "Through Recommendations                           0.00\n",
       "Receive More Updates About Our Courses            0.00\n",
       "Update me on Supply Chain Content                 0.00\n",
       "Get updates on DM Content                         0.00\n",
       "City                                              0.00\n",
       "I agree to pay the amount through cheque          0.00\n",
       "Prospect ID                                       0.00\n",
       "dtype: float64"
      ]
     },
     "execution_count": 21,
     "metadata": {},
     "output_type": "execute_result"
    }
   ],
   "source": [
    "#Here a null might mean that either the customer has a specialization that does not exist in this list, or no specialization. We can use 'Others' as a new category here. \n",
    "df['Specialization'] = df['Specialization'].replace(np.nan,'Others')\n",
    "nulls(df)"
   ]
  },
  {
   "cell_type": "code",
   "execution_count": 22,
   "metadata": {},
   "outputs": [
    {
     "data": {
      "text/plain": [
       "Will revert after reading the email                  35.196195\n",
       "Ringing                                              20.434856\n",
       "Interested in other courses                           8.714116\n",
       "Already a student                                     7.898760\n",
       "Closed by Horizzon                                    6.081196\n",
       "switched off                                          4.076779\n",
       "Busy                                                  3.159504\n",
       "Lost to EINS                                          2.972652\n",
       "Not doing further education                           2.463054\n",
       "Interested  in full time MBA                          1.987430\n",
       "Graduation in progress                                1.885510\n",
       "invalid number                                        1.409886\n",
       "Diploma holder (Not Eligible)                         1.070155\n",
       "wrong number given                                    0.798369\n",
       "opp hangup                                            0.560557\n",
       "number not provided                                   0.458638\n",
       "in touch with EINS                                    0.203839\n",
       "Lost to Others                                        0.118906\n",
       "Want to take admission but has financial problems     0.101919\n",
       "Still Thinking                                        0.101919\n",
       "In confusion whether part time or DLP                 0.084933\n",
       "Interested in Next batch                              0.084933\n",
       "Lateral student                                       0.050960\n",
       "University not recognized                             0.033973\n",
       "Shall take in the next coming month                   0.033973\n",
       "Recognition issue (DEC approval)                      0.016987\n",
       "Name: Tags, dtype: float64"
      ]
     },
     "execution_count": 22,
     "metadata": {},
     "output_type": "execute_result"
    }
   ],
   "source": [
    "#inspecing tags\n",
    "df.Tags.value_counts(normalize=True).sort_values(ascending=False)*100"
   ]
  },
  {
   "cell_type": "code",
   "execution_count": 23,
   "metadata": {
    "scrolled": true
   },
   "outputs": [],
   "source": [
    "#We'll remove tags since it is a score variable\n",
    "df.drop('Tags', axis=1, inplace=True)"
   ]
  },
  {
   "cell_type": "code",
   "execution_count": 24,
   "metadata": {},
   "outputs": [
    {
     "data": {
      "text/plain": [
       "Better Career Prospects      99.954065\n",
       "Flexibility & Convenience     0.030623\n",
       "Other                         0.015312\n",
       "Name: What matters most to you in choosing a course, dtype: float64"
      ]
     },
     "execution_count": 24,
     "metadata": {},
     "output_type": "execute_result"
    }
   ],
   "source": [
    "#inspecting What matters most to you in choosing a course\n",
    "df['What matters most to you in choosing a course'].value_counts(normalize=True).sort_values(ascending=False)*100"
   ]
  },
  {
   "cell_type": "code",
   "execution_count": 25,
   "metadata": {},
   "outputs": [
    {
     "data": {
      "text/plain": [
       "What is your current occupation                  29.11\n",
       "Country                                          26.63\n",
       "TotalVisits                                       1.48\n",
       "Page Views Per Visit                              1.48\n",
       "Last Activity                                     1.11\n",
       "Lead Source                                       0.39\n",
       "Last Notable Activity                             0.00\n",
       "Lead Number                                       0.00\n",
       "Lead Origin                                       0.00\n",
       "Do Not Email                                      0.00\n",
       "Do Not Call                                       0.00\n",
       "Converted                                         0.00\n",
       "Total Time Spent on Website                       0.00\n",
       "Specialization                                    0.00\n",
       "What matters most to you in choosing a course     0.00\n",
       "A free copy of Mastering The Interview            0.00\n",
       "Search                                            0.00\n",
       "Magazine                                          0.00\n",
       "Newspaper Article                                 0.00\n",
       "X Education Forums                                0.00\n",
       "Newspaper                                         0.00\n",
       "Digital Advertisement                             0.00\n",
       "Through Recommendations                           0.00\n",
       "Receive More Updates About Our Courses            0.00\n",
       "Update me on Supply Chain Content                 0.00\n",
       "Get updates on DM Content                         0.00\n",
       "City                                              0.00\n",
       "I agree to pay the amount through cheque          0.00\n",
       "Prospect ID                                       0.00\n",
       "dtype: float64"
      ]
     },
     "execution_count": 25,
     "metadata": {},
     "output_type": "execute_result"
    }
   ],
   "source": [
    "#Imputing nulls with mode\n",
    "df['What matters most to you in choosing a course'] = df['What matters most to you in choosing a course'].replace(np.nan,'Better Career Prospects')\n",
    "nulls(df)"
   ]
  },
  {
   "cell_type": "code",
   "execution_count": 26,
   "metadata": {},
   "outputs": [
    {
     "data": {
      "text/plain": [
       "Unemployed              85.496183\n",
       "Working Professional    10.778626\n",
       "Student                  3.206107\n",
       "Other                    0.244275\n",
       "Housewife                0.152672\n",
       "Businessman              0.122137\n",
       "Name: What is your current occupation, dtype: float64"
      ]
     },
     "execution_count": 26,
     "metadata": {},
     "output_type": "execute_result"
    }
   ],
   "source": [
    "#inspecing occupation feature\n",
    "df['What is your current occupation'].value_counts(normalize=True).sort_values(ascending=False)*100"
   ]
  },
  {
   "cell_type": "code",
   "execution_count": 27,
   "metadata": {
    "scrolled": true
   },
   "outputs": [
    {
     "data": {
      "text/plain": [
       "Country                                          26.63\n",
       "TotalVisits                                       1.48\n",
       "Page Views Per Visit                              1.48\n",
       "Last Activity                                     1.11\n",
       "Lead Source                                       0.39\n",
       "Last Notable Activity                             0.00\n",
       "What is your current occupation                   0.00\n",
       "Lead Number                                       0.00\n",
       "Lead Origin                                       0.00\n",
       "Do Not Email                                      0.00\n",
       "Do Not Call                                       0.00\n",
       "Converted                                         0.00\n",
       "Total Time Spent on Website                       0.00\n",
       "Specialization                                    0.00\n",
       "What matters most to you in choosing a course     0.00\n",
       "A free copy of Mastering The Interview            0.00\n",
       "Search                                            0.00\n",
       "Magazine                                          0.00\n",
       "Newspaper Article                                 0.00\n",
       "X Education Forums                                0.00\n",
       "Newspaper                                         0.00\n",
       "Digital Advertisement                             0.00\n",
       "Through Recommendations                           0.00\n",
       "Receive More Updates About Our Courses            0.00\n",
       "Update me on Supply Chain Content                 0.00\n",
       "Get updates on DM Content                         0.00\n",
       "City                                              0.00\n",
       "I agree to pay the amount through cheque          0.00\n",
       "Prospect ID                                       0.00\n",
       "dtype: float64"
      ]
     },
     "execution_count": 27,
     "metadata": {},
     "output_type": "execute_result"
    }
   ],
   "source": [
    "#imputing nulls with mode\n",
    "df['What is your current occupation']=df['What is your current occupation'].replace(np.nan,'Unemployed')\n",
    "nulls(df)"
   ]
  },
  {
   "cell_type": "code",
   "execution_count": 28,
   "metadata": {
    "scrolled": true
   },
   "outputs": [
    {
     "data": {
      "text/plain": [
       "India                   95.766337\n",
       "United States            1.017849\n",
       "United Arab Emirates     0.781826\n",
       "Singapore                0.354035\n",
       "Saudi Arabia             0.309780\n",
       "United Kingdom           0.221272\n",
       "Australia                0.191769\n",
       "Qatar                    0.147514\n",
       "Bahrain                  0.103260\n",
       "Hong Kong                0.103260\n",
       "France                   0.088509\n",
       "Oman                     0.088509\n",
       "unknown                  0.073757\n",
       "South Africa             0.059006\n",
       "Canada                   0.059006\n",
       "Germany                  0.059006\n",
       "Kuwait                   0.059006\n",
       "Nigeria                  0.059006\n",
       "Sweden                   0.044254\n",
       "Asia/Pacific Region      0.029503\n",
       "Ghana                    0.029503\n",
       "Italy                    0.029503\n",
       "Netherlands              0.029503\n",
       "China                    0.029503\n",
       "Uganda                   0.029503\n",
       "Bangladesh               0.029503\n",
       "Belgium                  0.029503\n",
       "Philippines              0.029503\n",
       "Denmark                  0.014751\n",
       "Russia                   0.014751\n",
       "Indonesia                0.014751\n",
       "Sri Lanka                0.014751\n",
       "Tanzania                 0.014751\n",
       "Switzerland              0.014751\n",
       "Liberia                  0.014751\n",
       "Kenya                    0.014751\n",
       "Vietnam                  0.014751\n",
       "Malaysia                 0.014751\n",
       "Name: Country, dtype: float64"
      ]
     },
     "execution_count": 28,
     "metadata": {},
     "output_type": "execute_result"
    }
   ],
   "source": [
    "#inspecting country\n",
    "df['Country'].value_counts(normalize=True).sort_values(ascending=False)*100"
   ]
  },
  {
   "cell_type": "code",
   "execution_count": 29,
   "metadata": {
    "scrolled": true
   },
   "outputs": [
    {
     "data": {
      "text/plain": [
       "TotalVisits                                      1.48\n",
       "Page Views Per Visit                             1.48\n",
       "Last Activity                                    1.11\n",
       "Lead Source                                      0.39\n",
       "Last Notable Activity                            0.00\n",
       "What is your current occupation                  0.00\n",
       "Lead Number                                      0.00\n",
       "Lead Origin                                      0.00\n",
       "Do Not Email                                     0.00\n",
       "Do Not Call                                      0.00\n",
       "Converted                                        0.00\n",
       "Total Time Spent on Website                      0.00\n",
       "Country                                          0.00\n",
       "Specialization                                   0.00\n",
       "What matters most to you in choosing a course    0.00\n",
       "A free copy of Mastering The Interview           0.00\n",
       "Search                                           0.00\n",
       "Magazine                                         0.00\n",
       "Newspaper Article                                0.00\n",
       "X Education Forums                               0.00\n",
       "Newspaper                                        0.00\n",
       "Digital Advertisement                            0.00\n",
       "Through Recommendations                          0.00\n",
       "Receive More Updates About Our Courses           0.00\n",
       "Update me on Supply Chain Content                0.00\n",
       "Get updates on DM Content                        0.00\n",
       "City                                             0.00\n",
       "I agree to pay the amount through cheque         0.00\n",
       "Prospect ID                                      0.00\n",
       "dtype: float64"
      ]
     },
     "execution_count": 29,
     "metadata": {},
     "output_type": "execute_result"
    }
   ],
   "source": [
    "#imputing mode\n",
    "df['Country'] = df['Country'].replace(np.nan, 'India')\n",
    "nulls(df)"
   ]
  },
  {
   "cell_type": "code",
   "execution_count": 30,
   "metadata": {
    "scrolled": true
   },
   "outputs": [
    {
     "data": {
      "text/plain": [
       "Last Notable Activity                            0.0\n",
       "What is your current occupation                  0.0\n",
       "Lead Number                                      0.0\n",
       "Lead Origin                                      0.0\n",
       "Lead Source                                      0.0\n",
       "Do Not Email                                     0.0\n",
       "Do Not Call                                      0.0\n",
       "Converted                                        0.0\n",
       "TotalVisits                                      0.0\n",
       "Total Time Spent on Website                      0.0\n",
       "Page Views Per Visit                             0.0\n",
       "Last Activity                                    0.0\n",
       "Country                                          0.0\n",
       "Specialization                                   0.0\n",
       "What matters most to you in choosing a course    0.0\n",
       "A free copy of Mastering The Interview           0.0\n",
       "Search                                           0.0\n",
       "Magazine                                         0.0\n",
       "Newspaper Article                                0.0\n",
       "X Education Forums                               0.0\n",
       "Newspaper                                        0.0\n",
       "Digital Advertisement                            0.0\n",
       "Through Recommendations                          0.0\n",
       "Receive More Updates About Our Courses           0.0\n",
       "Update me on Supply Chain Content                0.0\n",
       "Get updates on DM Content                        0.0\n",
       "City                                             0.0\n",
       "I agree to pay the amount through cheque         0.0\n",
       "Prospect ID                                      0.0\n",
       "dtype: float64"
      ]
     },
     "execution_count": 30,
     "metadata": {},
     "output_type": "execute_result"
    }
   ],
   "source": [
    "#the rest of the features contain less than 2% null values. We can safely drop these rows.\n",
    "df.dropna(inplace=True)\n",
    "nulls(df)"
   ]
  },
  {
   "cell_type": "code",
   "execution_count": 31,
   "metadata": {},
   "outputs": [
    {
     "data": {
      "text/plain": [
       "98.2034632034632"
      ]
     },
     "execution_count": 31,
     "metadata": {},
     "output_type": "execute_result"
    }
   ],
   "source": [
    "#Percentage of rows retained is pretty good.\n",
    "(df.shape[0]/9240)*100"
   ]
  },
  {
   "cell_type": "markdown",
   "metadata": {},
   "source": [
    "Now we have the cleaned dataset ready. We will be using this for our analysis."
   ]
  },
  {
   "cell_type": "code",
   "execution_count": 32,
   "metadata": {},
   "outputs": [
    {
     "data": {
      "image/png": "[encoded data removed]",
      "text/plain": [
       "<Figure size 1440x7488 with 23 Axes>"
      ]
     },
     "metadata": {
      "needs_background": "light"
     },
     "output_type": "display_data"
    }
   ],
   "source": [
    "#We will be inspecting all the cateogrical columns, looking for highly skewed features, and features with less prominent valus that can be clubbed\n",
    "\n",
    "plt.figure(figsize=(20,8*13))\n",
    "for i,each in enumerate(list(set(df.drop('Prospect ID',axis=1).columns) - set(df._get_numeric_data().columns))):\n",
    "    plt.subplot(13,2,i+1)\n",
    "    sns.countplot(y=df[each])"
   ]
  },
  {
   "cell_type": "code",
   "execution_count": 33,
   "metadata": {},
   "outputs": [
    {
     "name": "stdout",
     "output_type": "stream",
     "text": [
      "\n",
      "\n",
      "No     99.955918\n",
      "Yes     0.044082\n",
      "Name: Digital Advertisement, dtype: float64\n",
      "\n",
      "\n",
      "No     99.922857\n",
      "Yes     0.077143\n",
      "Name: Through Recommendations, dtype: float64\n",
      "\n",
      "\n",
      "No    100.0\n",
      "Name: Magazine, dtype: float64\n",
      "\n",
      "\n",
      "No     99.977959\n",
      "Yes     0.022041\n",
      "Name: Do Not Call, dtype: float64\n",
      "\n",
      "\n",
      "No     99.845713\n",
      "Yes     0.154287\n",
      "Name: Search, dtype: float64\n",
      "\n",
      "\n",
      "No     99.977959\n",
      "Yes     0.022041\n",
      "Name: Newspaper Article, dtype: float64\n",
      "\n",
      "\n",
      "No    100.0\n",
      "Name: Update me on Supply Chain Content, dtype: float64\n",
      "\n",
      "\n",
      "No    100.0\n",
      "Name: Receive More Updates About Our Courses, dtype: float64\n",
      "\n",
      "\n",
      "No    100.0\n",
      "Name: I agree to pay the amount through cheque, dtype: float64\n",
      "\n",
      "\n",
      "Better Career Prospects      99.977959\n",
      "Flexibility & Convenience     0.011020\n",
      "Other                         0.011020\n",
      "Name: What matters most to you in choosing a course, dtype: float64\n",
      "\n",
      "\n",
      "No     92.109323\n",
      "Yes     7.890677\n",
      "Name: Do Not Email, dtype: float64\n",
      "\n",
      "\n",
      "No     99.98898\n",
      "Yes     0.01102\n",
      "Name: X Education Forums, dtype: float64\n",
      "\n",
      "\n",
      "No     99.98898\n",
      "Yes     0.01102\n",
      "Name: Newspaper, dtype: float64\n",
      "\n",
      "\n",
      "India                   96.837117\n",
      "United States            0.760414\n",
      "United Arab Emirates     0.584086\n",
      "Singapore                0.264492\n",
      "Saudi Arabia             0.231430\n",
      "United Kingdom           0.165307\n",
      "Australia                0.143266\n",
      "Qatar                    0.110205\n",
      "Hong Kong                0.077143\n",
      "Bahrain                  0.077143\n",
      "France                   0.066123\n",
      "Oman                     0.066123\n",
      "unknown                  0.055102\n",
      "Canada                   0.044082\n",
      "Germany                  0.044082\n",
      "Kuwait                   0.044082\n",
      "Nigeria                  0.044082\n",
      "South Africa             0.044082\n",
      "Sweden                   0.033061\n",
      "Philippines              0.022041\n",
      "Ghana                    0.022041\n",
      "Italy                    0.022041\n",
      "Netherlands              0.022041\n",
      "China                    0.022041\n",
      "Uganda                   0.022041\n",
      "Bangladesh               0.022041\n",
      "Belgium                  0.022041\n",
      "Asia/Pacific Region      0.022041\n",
      "Vietnam                  0.011020\n",
      "Kenya                    0.011020\n",
      "Liberia                  0.011020\n",
      "Switzerland              0.011020\n",
      "Denmark                  0.011020\n",
      "Sri Lanka                0.011020\n",
      "Indonesia                0.011020\n",
      "Russia                   0.011020\n",
      "Tanzania                 0.011020\n",
      "Malaysia                 0.011020\n",
      "Name: Country, dtype: float64\n",
      "\n",
      "\n",
      "No    100.0\n",
      "Name: Get updates on DM Content, dtype: float64\n"
     ]
    }
   ],
   "source": [
    "#We can clearly see the following highly skewed variables, we will use value counts to confirm our suspicion\n",
    "for each in ['Digital Advertisement','Through Recommendations','Magazine','Do Not Call','Search','Newspaper Article',\n",
    "        'Update me on Supply Chain Content','Receive More Updates About Our Courses','I agree to pay the amount through cheque',\n",
    "        'What matters most to you in choosing a course','Do Not Email','X Education Forums','Newspaper','Country',\n",
    "        'Get updates on DM Content']:\n",
    "    print('\\n')\n",
    "    print(df[each].value_counts(normalize=True)*100)"
   ]
  },
  {
   "cell_type": "code",
   "execution_count": 34,
   "metadata": {},
   "outputs": [
    {
     "data": {
      "text/plain": [
       "(9074, 14)"
      ]
     },
     "execution_count": 34,
     "metadata": {},
     "output_type": "execute_result"
    }
   ],
   "source": [
    "#From the plots and value counts above, we can identify some highly skewed variables. These variables will not be of much value to the model, and don't contain valuable information. \n",
    "#We can remove all these redundant columns\n",
    "df.drop(['Digital Advertisement','Through Recommendations','Magazine','Do Not Call','Search','Newspaper Article',\n",
    "        'Update me on Supply Chain Content','Receive More Updates About Our Courses','I agree to pay the amount through cheque',\n",
    "        'What matters most to you in choosing a course','Do Not Email','X Education Forums','Newspaper','Country',\n",
    "        'Get updates on DM Content'],axis=1,inplace=True)\n",
    "df.shape"
   ]
  },
  {
   "cell_type": "code",
   "execution_count": 35,
   "metadata": {
    "scrolled": false
   },
   "outputs": [
    {
     "name": "stdout",
     "output_type": "stream",
     "text": [
      "<class 'pandas.core.frame.DataFrame'>\n",
      "Int64Index: 9074 entries, 0 to 9239\n",
      "Data columns (total 14 columns):\n",
      " #   Column                                  Non-Null Count  Dtype  \n",
      "---  ------                                  --------------  -----  \n",
      " 0   Prospect ID                             9074 non-null   object \n",
      " 1   Lead Number                             9074 non-null   int64  \n",
      " 2   Lead Origin                             9074 non-null   object \n",
      " 3   Lead Source                             9074 non-null   object \n",
      " 4   Converted                               9074 non-null   int64  \n",
      " 5   TotalVisits                             9074 non-null   float64\n",
      " 6   Total Time Spent on Website             9074 non-null   int64  \n",
      " 7   Page Views Per Visit                    9074 non-null   float64\n",
      " 8   Last Activity                           9074 non-null   object \n",
      " 9   Specialization                          9074 non-null   object \n",
      " 10  What is your current occupation         9074 non-null   object \n",
      " 11  City                                    9074 non-null   object \n",
      " 12  A free copy of Mastering The Interview  9074 non-null   object \n",
      " 13  Last Notable Activity                   9074 non-null   object \n",
      "dtypes: float64(2), int64(3), object(9)\n",
      "memory usage: 1.4+ MB\n"
     ]
    }
   ],
   "source": [
    "df.info()"
   ]
  },
  {
   "cell_type": "code",
   "execution_count": 36,
   "metadata": {},
   "outputs": [
    {
     "data": {
      "text/html": [
       "<div>\n",
       "<style scoped>\n",
       "    .dataframe tbody tr th:only-of-type {\n",
       "        vertical-align: middle;\n",
       "    }\n",
       "\n",
       "    .dataframe tbody tr th {\n",
       "        vertical-align: top;\n",
       "    }\n",
       "\n",
       "    .dataframe thead th {\n",
       "        text-align: right;\n",
       "    }\n",
       "</style>\n",
       "<table border=\"1\" class=\"dataframe\">\n",
       "  <thead>\n",
       "    <tr style=\"text-align: right;\">\n",
       "      <th></th>\n",
       "      <th>Lead Number</th>\n",
       "      <th>Converted</th>\n",
       "      <th>TotalVisits</th>\n",
       "      <th>Total Time Spent on Website</th>\n",
       "      <th>Page Views Per Visit</th>\n",
       "    </tr>\n",
       "  </thead>\n",
       "  <tbody>\n",
       "    <tr>\n",
       "      <th>Lead Number</th>\n",
       "      <td>1.000000</td>\n",
       "      <td>0.022830</td>\n",
       "      <td>0.022094</td>\n",
       "      <td>0.018360</td>\n",
       "      <td>0.058703</td>\n",
       "    </tr>\n",
       "    <tr>\n",
       "      <th>Converted</th>\n",
       "      <td>0.022830</td>\n",
       "      <td>1.000000</td>\n",
       "      <td>0.032855</td>\n",
       "      <td>0.359261</td>\n",
       "      <td>0.000260</td>\n",
       "    </tr>\n",
       "    <tr>\n",
       "      <th>TotalVisits</th>\n",
       "      <td>0.022094</td>\n",
       "      <td>0.032855</td>\n",
       "      <td>1.000000</td>\n",
       "      <td>0.219723</td>\n",
       "      <td>0.511068</td>\n",
       "    </tr>\n",
       "    <tr>\n",
       "      <th>Total Time Spent on Website</th>\n",
       "      <td>0.018360</td>\n",
       "      <td>0.359261</td>\n",
       "      <td>0.219723</td>\n",
       "      <td>1.000000</td>\n",
       "      <td>0.318350</td>\n",
       "    </tr>\n",
       "    <tr>\n",
       "      <th>Page Views Per Visit</th>\n",
       "      <td>0.058703</td>\n",
       "      <td>0.000260</td>\n",
       "      <td>0.511068</td>\n",
       "      <td>0.318350</td>\n",
       "      <td>1.000000</td>\n",
       "    </tr>\n",
       "  </tbody>\n",
       "</table>\n",
       "</div>"
      ],
      "text/plain": [
       "                             Lead Number  Converted  TotalVisits  \\\n",
       "Lead Number                     1.000000   0.022830     0.022094   \n",
       "Converted                       0.022830   1.000000     0.032855   \n",
       "TotalVisits                     0.022094   0.032855     1.000000   \n",
       "Total Time Spent on Website     0.018360   0.359261     0.219723   \n",
       "Page Views Per Visit            0.058703   0.000260     0.511068   \n",
       "\n",
       "                             Total Time Spent on Website  Page Views Per Visit  \n",
       "Lead Number                                     0.018360              0.058703  \n",
       "Converted                                       0.359261              0.000260  \n",
       "TotalVisits                                     0.219723              0.511068  \n",
       "Total Time Spent on Website                     1.000000              0.318350  \n",
       "Page Views Per Visit                            0.318350              1.000000  "
      ]
     },
     "execution_count": 36,
     "metadata": {},
     "output_type": "execute_result"
    }
   ],
   "source": [
    "#Checking correlation between remaining categorical variables\n",
    "df.corr()"
   ]
  },
  {
   "cell_type": "code",
   "execution_count": 37,
   "metadata": {},
   "outputs": [
    {
     "data": {
      "text/html": [
       "<div>\n",
       "<style scoped>\n",
       "    .dataframe tbody tr th:only-of-type {\n",
       "        vertical-align: middle;\n",
       "    }\n",
       "\n",
       "    .dataframe tbody tr th {\n",
       "        vertical-align: top;\n",
       "    }\n",
       "\n",
       "    .dataframe thead th {\n",
       "        text-align: right;\n",
       "    }\n",
       "</style>\n",
       "<table border=\"1\" class=\"dataframe\">\n",
       "  <thead>\n",
       "    <tr style=\"text-align: right;\">\n",
       "      <th></th>\n",
       "      <th>Prospect ID</th>\n",
       "      <th>Lead Number</th>\n",
       "      <th>Lead Origin</th>\n",
       "      <th>Lead Source</th>\n",
       "      <th>Converted</th>\n",
       "      <th>TotalVisits</th>\n",
       "      <th>Total Time Spent on Website</th>\n",
       "      <th>Page Views Per Visit</th>\n",
       "      <th>Last Activity</th>\n",
       "      <th>Specialization</th>\n",
       "      <th>What is your current occupation</th>\n",
       "      <th>City</th>\n",
       "      <th>A free copy of Mastering The Interview</th>\n",
       "      <th>Last Notable Activity</th>\n",
       "    </tr>\n",
       "  </thead>\n",
       "  <tbody>\n",
       "    <tr>\n",
       "      <th>0</th>\n",
       "      <td>7927b2df-8bba-4d29-b9a2-b6e0beafe620</td>\n",
       "      <td>660737</td>\n",
       "      <td>API</td>\n",
       "      <td>Olark Chat</td>\n",
       "      <td>0</td>\n",
       "      <td>0.0</td>\n",
       "      <td>0</td>\n",
       "      <td>0.0</td>\n",
       "      <td>Page Visited on Website</td>\n",
       "      <td>Others</td>\n",
       "      <td>Unemployed</td>\n",
       "      <td>Mumbai</td>\n",
       "      <td>No</td>\n",
       "      <td>Modified</td>\n",
       "    </tr>\n",
       "    <tr>\n",
       "      <th>1</th>\n",
       "      <td>2a272436-5132-4136-86fa-dcc88c88f482</td>\n",
       "      <td>660728</td>\n",
       "      <td>API</td>\n",
       "      <td>Organic Search</td>\n",
       "      <td>0</td>\n",
       "      <td>5.0</td>\n",
       "      <td>674</td>\n",
       "      <td>2.5</td>\n",
       "      <td>Email Opened</td>\n",
       "      <td>Others</td>\n",
       "      <td>Unemployed</td>\n",
       "      <td>Mumbai</td>\n",
       "      <td>No</td>\n",
       "      <td>Email Opened</td>\n",
       "    </tr>\n",
       "    <tr>\n",
       "      <th>2</th>\n",
       "      <td>8cc8c611-a219-4f35-ad23-fdfd2656bd8a</td>\n",
       "      <td>660727</td>\n",
       "      <td>Landing Page Submission</td>\n",
       "      <td>Direct Traffic</td>\n",
       "      <td>1</td>\n",
       "      <td>2.0</td>\n",
       "      <td>1532</td>\n",
       "      <td>2.0</td>\n",
       "      <td>Email Opened</td>\n",
       "      <td>Business Administration</td>\n",
       "      <td>Student</td>\n",
       "      <td>Mumbai</td>\n",
       "      <td>Yes</td>\n",
       "      <td>Email Opened</td>\n",
       "    </tr>\n",
       "    <tr>\n",
       "      <th>3</th>\n",
       "      <td>0cc2df48-7cf4-4e39-9de9-19797f9b38cc</td>\n",
       "      <td>660719</td>\n",
       "      <td>Landing Page Submission</td>\n",
       "      <td>Direct Traffic</td>\n",
       "      <td>0</td>\n",
       "      <td>1.0</td>\n",
       "      <td>305</td>\n",
       "      <td>1.0</td>\n",
       "      <td>Unreachable</td>\n",
       "      <td>Media and Advertising</td>\n",
       "      <td>Unemployed</td>\n",
       "      <td>Mumbai</td>\n",
       "      <td>No</td>\n",
       "      <td>Modified</td>\n",
       "    </tr>\n",
       "    <tr>\n",
       "      <th>4</th>\n",
       "      <td>3256f628-e534-4826-9d63-4a8b88782852</td>\n",
       "      <td>660681</td>\n",
       "      <td>Landing Page Submission</td>\n",
       "      <td>Google</td>\n",
       "      <td>1</td>\n",
       "      <td>2.0</td>\n",
       "      <td>1428</td>\n",
       "      <td>1.0</td>\n",
       "      <td>Converted to Lead</td>\n",
       "      <td>Others</td>\n",
       "      <td>Unemployed</td>\n",
       "      <td>Mumbai</td>\n",
       "      <td>No</td>\n",
       "      <td>Modified</td>\n",
       "    </tr>\n",
       "  </tbody>\n",
       "</table>\n",
       "</div>"
      ],
      "text/plain": [
       "                            Prospect ID  Lead Number              Lead Origin  \\\n",
       "0  7927b2df-8bba-4d29-b9a2-b6e0beafe620       660737                      API   \n",
       "1  2a272436-5132-4136-86fa-dcc88c88f482       660728                      API   \n",
       "2  8cc8c611-a219-4f35-ad23-fdfd2656bd8a       660727  Landing Page Submission   \n",
       "3  0cc2df48-7cf4-4e39-9de9-19797f9b38cc       660719  Landing Page Submission   \n",
       "4  3256f628-e534-4826-9d63-4a8b88782852       660681  Landing Page Submission   \n",
       "\n",
       "      Lead Source  Converted  TotalVisits  Total Time Spent on Website  \\\n",
       "0      Olark Chat          0          0.0                            0   \n",
       "1  Organic Search          0          5.0                          674   \n",
       "2  Direct Traffic          1          2.0                         1532   \n",
       "3  Direct Traffic          0          1.0                          305   \n",
       "4          Google          1          2.0                         1428   \n",
       "\n",
       "   Page Views Per Visit            Last Activity           Specialization  \\\n",
       "0                   0.0  Page Visited on Website                   Others   \n",
       "1                   2.5             Email Opened                   Others   \n",
       "2                   2.0             Email Opened  Business Administration   \n",
       "3                   1.0              Unreachable    Media and Advertising   \n",
       "4                   1.0        Converted to Lead                   Others   \n",
       "\n",
       "  What is your current occupation    City  \\\n",
       "0                      Unemployed  Mumbai   \n",
       "1                      Unemployed  Mumbai   \n",
       "2                         Student  Mumbai   \n",
       "3                      Unemployed  Mumbai   \n",
       "4                      Unemployed  Mumbai   \n",
       "\n",
       "  A free copy of Mastering The Interview Last Notable Activity  \n",
       "0                                     No              Modified  \n",
       "1                                     No          Email Opened  \n",
       "2                                    Yes          Email Opened  \n",
       "3                                     No              Modified  \n",
       "4                                     No              Modified  "
      ]
     },
     "execution_count": 37,
     "metadata": {},
     "output_type": "execute_result"
    }
   ],
   "source": [
    "df.head()"
   ]
  },
  {
   "cell_type": "code",
   "execution_count": 38,
   "metadata": {},
   "outputs": [],
   "source": [
    "#Lets change column names to more readable ones\n",
    "df=df.rename(columns={'Total Time Spent on Website':'Time Spent','Page Views Per Visit':'Views','What is your current occupation':'Occupation','A free copy of Mastering The Interview':'Free Copy'})"
   ]
  },
  {
   "cell_type": "code",
   "execution_count": 39,
   "metadata": {},
   "outputs": [
    {
     "data": {
      "text/plain": [
       "Email Opened                    37.822350\n",
       "SMS Sent                        29.931673\n",
       "Olark Chat Conversation         10.711924\n",
       "Page Visited on Website          7.053119\n",
       "Converted to Lead                4.716773\n",
       "Email Bounced                    3.438395\n",
       "Email Link Clicked               2.942473\n",
       "Form Submitted on Website        1.278378\n",
       "Unreachable                      0.991845\n",
       "Unsubscribed                     0.650209\n",
       "Had a Phone Conversation         0.275512\n",
       "View in browser link Clicked     0.066123\n",
       "Approached upfront               0.055102\n",
       "Email Received                   0.022041\n",
       "Email Marked Spam                0.022041\n",
       "Visited Booth in Tradeshow       0.011020\n",
       "Resubscribed to emails           0.011020\n",
       "Name: Last Activity, dtype: float64"
      ]
     },
     "execution_count": 39,
     "metadata": {},
     "output_type": "execute_result"
    }
   ],
   "source": [
    "#We will now work towards reducing the number of possible values each variable can take.\n",
    "#let's start with Last Activity\n",
    "df['Last Activity'].value_counts(normalize=True).sort_values(ascending=False)*100"
   ]
  },
  {
   "cell_type": "code",
   "execution_count": 40,
   "metadata": {},
   "outputs": [
    {
     "data": {
      "text/plain": [
       "['Unreachable',\n",
       " 'Unsubscribed',\n",
       " 'Had a Phone Conversation',\n",
       " 'View in browser link Clicked',\n",
       " 'Approached upfront',\n",
       " 'Email Received',\n",
       " 'Email Marked Spam',\n",
       " 'Visited Booth in Tradeshow',\n",
       " 'Resubscribed to emails']"
      ]
     },
     "execution_count": 40,
     "metadata": {},
     "output_type": "execute_result"
    }
   ],
   "source": [
    "#List of features that have less than 1% frequency\n",
    "to_combine = list(df['Last Activity'].value_counts(normalize=True).sort_values(ascending=False).loc[(df['Last Activity'].value_counts(normalize=True).sort_values(ascending=False)<0.01).values].index)\n",
    "to_combine"
   ]
  },
  {
   "cell_type": "code",
   "execution_count": 41,
   "metadata": {},
   "outputs": [
    {
     "data": {
      "text/plain": [
       "Email Opened                 3432\n",
       "SMS Sent                     2716\n",
       "Olark Chat Conversation       972\n",
       "Page Visited on Website       640\n",
       "Converted to Lead             428\n",
       "Email Bounced                 312\n",
       "Email Link Clicked            267\n",
       "Others                        191\n",
       "Form Submitted on Website     116\n",
       "Name: Last Activity, dtype: int64"
      ]
     },
     "execution_count": 41,
     "metadata": {},
     "output_type": "execute_result"
    }
   ],
   "source": [
    "#We'll club the less frequent features into a single category \"Others\"\n",
    "df['Last Activity'] = df['Last Activity'].replace(to_combine,'Others')\n",
    "df['Last Activity'].value_counts()"
   ]
  },
  {
   "cell_type": "code",
   "execution_count": 42,
   "metadata": {},
   "outputs": [
    {
     "data": {
      "text/plain": [
       "Google               31.606789\n",
       "Direct Traffic       28.025127\n",
       "Olark Chat           19.318933\n",
       "Organic Search       12.717655\n",
       "Reference             4.882081\n",
       "Welingak Website      1.421644\n",
       "Referral Sites        1.377562\n",
       "Facebook              0.341635\n",
       "bing                  0.066123\n",
       "google                0.055102\n",
       "Click2call            0.044082\n",
       "Press_Release         0.022041\n",
       "Social Media          0.022041\n",
       "Live Chat             0.022041\n",
       "Pay per Click Ads     0.011020\n",
       "testone               0.011020\n",
       "blog                  0.011020\n",
       "WeLearn               0.011020\n",
       "youtubechannel        0.011020\n",
       "welearnblog_Home      0.011020\n",
       "NC_EDM                0.011020\n",
       "Name: Lead Source, dtype: float64"
      ]
     },
     "execution_count": 42,
     "metadata": {},
     "output_type": "execute_result"
    }
   ],
   "source": [
    "#Inspecting lead source\n",
    "df['Lead Source'].value_counts(normalize=True).sort_values(ascending=False)*100"
   ]
  },
  {
   "cell_type": "code",
   "execution_count": 43,
   "metadata": {},
   "outputs": [
    {
     "data": {
      "text/plain": [
       "Google              2868\n",
       "Direct Traffic      2543\n",
       "Olark Chat          1753\n",
       "Organic Search      1154\n",
       "Reference            443\n",
       "Welingak Website     129\n",
       "Referral Sites       125\n",
       "Others                59\n",
       "Name: Lead Source, dtype: int64"
      ]
     },
     "execution_count": 43,
     "metadata": {},
     "output_type": "execute_result"
    }
   ],
   "source": [
    "#We'll club the less frequent features into a single category \"Others\"\n",
    "df['Lead Source'] = df['Lead Source'].replace(list(df['Lead Source'].value_counts(normalize=True).sort_values(ascending=False).loc[(df['Lead Source'].value_counts(normalize=True).sort_values(ascending=False)<0.01).values].index)\n",
    ",'Others')\n",
    "df['Lead Source'].value_counts()"
   ]
  },
  {
   "cell_type": "code",
   "execution_count": 44,
   "metadata": {},
   "outputs": [
    {
     "data": {
      "text/plain": [
       "Others                               36.169275\n",
       "Finance Management                   10.568658\n",
       "Human Resource Management             9.224157\n",
       "Marketing Management                  9.069870\n",
       "Operations Management                 5.499229\n",
       "Business Administration               4.397179\n",
       "IT Projects Management                4.033502\n",
       "Supply Chain Management               3.813092\n",
       "Banking, Investment And Insurance     3.691867\n",
       "Travel and Tourism                    2.226141\n",
       "Media and Advertising                 2.226141\n",
       "International Business                1.939608\n",
       "Healthcare Management                 1.719198\n",
       "E-COMMERCE                            1.223275\n",
       "Hospitality Management                1.223275\n",
       "Retail Management                     1.102050\n",
       "Rural and Agribusiness                0.804496\n",
       "E-Business                            0.628168\n",
       "Services Excellence                   0.440820\n",
       "Name: Specialization, dtype: float64"
      ]
     },
     "execution_count": 44,
     "metadata": {},
     "output_type": "execute_result"
    }
   ],
   "source": [
    "#inspecting specialization\n",
    "df['Specialization'].value_counts(normalize=True).sort_values(ascending=False)*100"
   ]
  },
  {
   "cell_type": "markdown",
   "metadata": {},
   "source": [
    "We'll be leaving specializations as-is."
   ]
  },
  {
   "cell_type": "code",
   "execution_count": 45,
   "metadata": {},
   "outputs": [
    {
     "data": {
      "text/plain": [
       "Unemployed              89.916244\n",
       "Working Professional     7.460877\n",
       "Student                  2.270223\n",
       "Other                    0.165307\n",
       "Housewife                0.099184\n",
       "Businessman              0.088164\n",
       "Name: Occupation, dtype: float64"
      ]
     },
     "execution_count": 45,
     "metadata": {},
     "output_type": "execute_result"
    }
   ],
   "source": [
    "#inspecting occupation\n",
    "df['Occupation'].value_counts(normalize=True).sort_values(ascending=False)*100"
   ]
  },
  {
   "cell_type": "code",
   "execution_count": 46,
   "metadata": {},
   "outputs": [
    {
     "data": {
      "text/plain": [
       "Modified                        36.003967\n",
       "Email Opened                    31.110866\n",
       "SMS Sent                        23.716112\n",
       "Page Visited on Website          3.504518\n",
       "Olark Chat Conversation          2.016751\n",
       "Email Link Clicked               1.906546\n",
       "Email Bounced                    0.661230\n",
       "Unsubscribed                     0.495922\n",
       "Unreachable                      0.352656\n",
       "Had a Phone Conversation         0.154287\n",
       "Email Marked Spam                0.022041\n",
       "Resubscribed to emails           0.011020\n",
       "View in browser link Clicked     0.011020\n",
       "Approached upfront               0.011020\n",
       "Email Received                   0.011020\n",
       "Form Submitted on Website        0.011020\n",
       "Name: Last Notable Activity, dtype: float64"
      ]
     },
     "execution_count": 46,
     "metadata": {},
     "output_type": "execute_result"
    }
   ],
   "source": [
    "#inspecting last notable activity\n",
    "df['Last Notable Activity'].value_counts(normalize=True).sort_values(ascending=False)*100"
   ]
  },
  {
   "cell_type": "code",
   "execution_count": 47,
   "metadata": {},
   "outputs": [
    {
     "data": {
      "text/plain": [
       "Modified                   3267\n",
       "Email Opened               2823\n",
       "SMS Sent                   2152\n",
       "Page Visited on Website     318\n",
       "Olark Chat Conversation     183\n",
       "Email Link Clicked          173\n",
       "Others                      158\n",
       "Name: Last Notable Activity, dtype: int64"
      ]
     },
     "execution_count": 47,
     "metadata": {},
     "output_type": "execute_result"
    }
   ],
   "source": [
    "#We'll club the less frequent features into a single category \"Others\"\n",
    "df['Last Notable Activity'] = df['Last Notable Activity'].replace(list(df['Last Notable Activity'].value_counts(normalize=True).sort_values(ascending=False).loc[(df['Last Notable Activity'].value_counts(normalize=True).sort_values(ascending=False)<0.01).values].index)\n",
    ",'Others')\n",
    "df['Last Notable Activity'].value_counts()"
   ]
  },
  {
   "cell_type": "code",
   "execution_count": 48,
   "metadata": {},
   "outputs": [
    {
     "data": {
      "text/plain": [
       "count    9074.000000\n",
       "mean        0.318272\n",
       "std         0.465831\n",
       "min         0.000000\n",
       "25%         0.000000\n",
       "50%         0.000000\n",
       "75%         1.000000\n",
       "max         1.000000\n",
       "Name: Free Copy, dtype: float64"
      ]
     },
     "execution_count": 48,
     "metadata": {},
     "output_type": "execute_result"
    }
   ],
   "source": [
    "#We can also covert the Free Copy column to numeric (one-hot encoding)\n",
    "df['Free Copy'] = df['Free Copy'].map({'No':0,'Yes':1})\n",
    "df['Free Copy'].describe()"
   ]
  },
  {
   "cell_type": "markdown",
   "metadata": {},
   "source": [
    "## Visualizations on final dataset"
   ]
  },
  {
   "cell_type": "code",
   "execution_count": 49,
   "metadata": {},
   "outputs": [
    {
     "data": {
      "text/plain": [
       "37.85541106458012"
      ]
     },
     "execution_count": 49,
     "metadata": {},
     "output_type": "execute_result"
    }
   ],
   "source": [
    "#Let's check data imbalance\n",
    "100*df['Converted'].sum()/len(df)"
   ]
  },
  {
   "cell_type": "markdown",
   "metadata": {},
   "source": [
    "Around 37% of the data corresponds to the leads which have been converted. Thus, the data is sufficiently balanced and we can continue with building our model here."
   ]
  },
  {
   "cell_type": "code",
   "execution_count": 50,
   "metadata": {},
   "outputs": [
    {
     "data": {
      "text/html": [
       "<div>\n",
       "<style scoped>\n",
       "    .dataframe tbody tr th:only-of-type {\n",
       "        vertical-align: middle;\n",
       "    }\n",
       "\n",
       "    .dataframe tbody tr th {\n",
       "        vertical-align: top;\n",
       "    }\n",
       "\n",
       "    .dataframe thead th {\n",
       "        text-align: right;\n",
       "    }\n",
       "</style>\n",
       "<table border=\"1\" class=\"dataframe\">\n",
       "  <thead>\n",
       "    <tr style=\"text-align: right;\">\n",
       "      <th></th>\n",
       "      <th>Prospect ID</th>\n",
       "      <th>Lead Number</th>\n",
       "      <th>Lead Origin</th>\n",
       "      <th>Lead Source</th>\n",
       "      <th>Converted</th>\n",
       "      <th>TotalVisits</th>\n",
       "      <th>Time Spent</th>\n",
       "      <th>Views</th>\n",
       "      <th>Last Activity</th>\n",
       "      <th>Specialization</th>\n",
       "      <th>Occupation</th>\n",
       "      <th>City</th>\n",
       "      <th>Free Copy</th>\n",
       "      <th>Last Notable Activity</th>\n",
       "    </tr>\n",
       "  </thead>\n",
       "  <tbody>\n",
       "    <tr>\n",
       "      <th>0</th>\n",
       "      <td>7927b2df-8bba-4d29-b9a2-b6e0beafe620</td>\n",
       "      <td>660737</td>\n",
       "      <td>API</td>\n",
       "      <td>Olark Chat</td>\n",
       "      <td>0</td>\n",
       "      <td>0.0</td>\n",
       "      <td>0</td>\n",
       "      <td>0.0</td>\n",
       "      <td>Page Visited on Website</td>\n",
       "      <td>Others</td>\n",
       "      <td>Unemployed</td>\n",
       "      <td>Mumbai</td>\n",
       "      <td>0</td>\n",
       "      <td>Modified</td>\n",
       "    </tr>\n",
       "    <tr>\n",
       "      <th>1</th>\n",
       "      <td>2a272436-5132-4136-86fa-dcc88c88f482</td>\n",
       "      <td>660728</td>\n",
       "      <td>API</td>\n",
       "      <td>Organic Search</td>\n",
       "      <td>0</td>\n",
       "      <td>5.0</td>\n",
       "      <td>674</td>\n",
       "      <td>2.5</td>\n",
       "      <td>Email Opened</td>\n",
       "      <td>Others</td>\n",
       "      <td>Unemployed</td>\n",
       "      <td>Mumbai</td>\n",
       "      <td>0</td>\n",
       "      <td>Email Opened</td>\n",
       "    </tr>\n",
       "    <tr>\n",
       "      <th>2</th>\n",
       "      <td>8cc8c611-a219-4f35-ad23-fdfd2656bd8a</td>\n",
       "      <td>660727</td>\n",
       "      <td>Landing Page Submission</td>\n",
       "      <td>Direct Traffic</td>\n",
       "      <td>1</td>\n",
       "      <td>2.0</td>\n",
       "      <td>1532</td>\n",
       "      <td>2.0</td>\n",
       "      <td>Email Opened</td>\n",
       "      <td>Business Administration</td>\n",
       "      <td>Student</td>\n",
       "      <td>Mumbai</td>\n",
       "      <td>1</td>\n",
       "      <td>Email Opened</td>\n",
       "    </tr>\n",
       "    <tr>\n",
       "      <th>3</th>\n",
       "      <td>0cc2df48-7cf4-4e39-9de9-19797f9b38cc</td>\n",
       "      <td>660719</td>\n",
       "      <td>Landing Page Submission</td>\n",
       "      <td>Direct Traffic</td>\n",
       "      <td>0</td>\n",
       "      <td>1.0</td>\n",
       "      <td>305</td>\n",
       "      <td>1.0</td>\n",
       "      <td>Others</td>\n",
       "      <td>Media and Advertising</td>\n",
       "      <td>Unemployed</td>\n",
       "      <td>Mumbai</td>\n",
       "      <td>0</td>\n",
       "      <td>Modified</td>\n",
       "    </tr>\n",
       "    <tr>\n",
       "      <th>4</th>\n",
       "      <td>3256f628-e534-4826-9d63-4a8b88782852</td>\n",
       "      <td>660681</td>\n",
       "      <td>Landing Page Submission</td>\n",
       "      <td>Google</td>\n",
       "      <td>1</td>\n",
       "      <td>2.0</td>\n",
       "      <td>1428</td>\n",
       "      <td>1.0</td>\n",
       "      <td>Converted to Lead</td>\n",
       "      <td>Others</td>\n",
       "      <td>Unemployed</td>\n",
       "      <td>Mumbai</td>\n",
       "      <td>0</td>\n",
       "      <td>Modified</td>\n",
       "    </tr>\n",
       "  </tbody>\n",
       "</table>\n",
       "</div>"
      ],
      "text/plain": [
       "                            Prospect ID  Lead Number              Lead Origin  \\\n",
       "0  7927b2df-8bba-4d29-b9a2-b6e0beafe620       660737                      API   \n",
       "1  2a272436-5132-4136-86fa-dcc88c88f482       660728                      API   \n",
       "2  8cc8c611-a219-4f35-ad23-fdfd2656bd8a       660727  Landing Page Submission   \n",
       "3  0cc2df48-7cf4-4e39-9de9-19797f9b38cc       660719  Landing Page Submission   \n",
       "4  3256f628-e534-4826-9d63-4a8b88782852       660681  Landing Page Submission   \n",
       "\n",
       "      Lead Source  Converted  TotalVisits  Time Spent  Views  \\\n",
       "0      Olark Chat          0          0.0           0    0.0   \n",
       "1  Organic Search          0          5.0         674    2.5   \n",
       "2  Direct Traffic          1          2.0        1532    2.0   \n",
       "3  Direct Traffic          0          1.0         305    1.0   \n",
       "4          Google          1          2.0        1428    1.0   \n",
       "\n",
       "             Last Activity           Specialization  Occupation    City  \\\n",
       "0  Page Visited on Website                   Others  Unemployed  Mumbai   \n",
       "1             Email Opened                   Others  Unemployed  Mumbai   \n",
       "2             Email Opened  Business Administration     Student  Mumbai   \n",
       "3                   Others    Media and Advertising  Unemployed  Mumbai   \n",
       "4        Converted to Lead                   Others  Unemployed  Mumbai   \n",
       "\n",
       "   Free Copy Last Notable Activity  \n",
       "0          0              Modified  \n",
       "1          0          Email Opened  \n",
       "2          1          Email Opened  \n",
       "3          0              Modified  \n",
       "4          0              Modified  "
      ]
     },
     "execution_count": 50,
     "metadata": {},
     "output_type": "execute_result"
    }
   ],
   "source": [
    "df.head()"
   ]
  },
  {
   "cell_type": "code",
   "execution_count": 51,
   "metadata": {
    "scrolled": false
   },
   "outputs": [
    {
     "data": {
      "text/plain": [
       "<matplotlib.axes._subplots.AxesSubplot at 0x27d4ad642b0>"
      ]
     },
     "execution_count": 51,
     "metadata": {},
     "output_type": "execute_result"
    },
    {
     "data": {
      "image/png": "[encoded data removed]",
      "text/plain": [
       "<Figure size 1152x576 with 1 Axes>"
      ]
     },
     "metadata": {
      "needs_background": "light"
     },
     "output_type": "display_data"
    }
   ],
   "source": [
    "plt.figure(figsize=(16,8))\n",
    "sns.countplot(x='Lead Source',hue='Converted',data=df)"
   ]
  },
  {
   "cell_type": "markdown",
   "metadata": {},
   "source": [
    "#### Inference\n",
    "'Reference' and 'Welingak Website' have great conversion rates"
   ]
  },
  {
   "cell_type": "code",
   "execution_count": 52,
   "metadata": {},
   "outputs": [
    {
     "data": {
      "image/png": "[encoded data removed]",
      "text/plain": [
       "<Figure size 576x432 with 3 Axes>"
      ]
     },
     "metadata": {
      "needs_background": "light"
     },
     "output_type": "display_data"
    }
   ],
   "source": [
    "num_vars=['TotalVisits','Time Spent','Views']\n",
    "plt.figure(figsize=(8,6))\n",
    "for i,each in enumerate(num_vars):\n",
    "    plt.subplot(1,3,i+1)\n",
    "    sns.boxplot(y=each,x='Converted',data=df)\n",
    "    plt.tight_layout()"
   ]
  },
  {
   "cell_type": "markdown",
   "metadata": {},
   "source": [
    "#### Inference\n",
    "Time spent on the website has a strong correlation with the coversion rate"
   ]
  },
  {
   "cell_type": "code",
   "execution_count": 53,
   "metadata": {
    "scrolled": false
   },
   "outputs": [
    {
     "data": {
      "image/png": "[encoded data removed]",
      "text/plain": [
       "<Figure size 1152x1800 with 6 Axes>"
      ]
     },
     "metadata": {
      "needs_background": "light"
     },
     "output_type": "display_data"
    }
   ],
   "source": [
    "#Let's analyze all the categorical variables against the target variable\n",
    "cats=['Lead Origin','Specialization','Occupation','City','Last Notable Activity', 'Last Activity']\n",
    "plt.figure(figsize=(16,25))\n",
    "for i,each in enumerate(cats):\n",
    "    plt.subplot(3,2,i+1)\n",
    "    sns.countplot(y=each,data=df,hue='Converted')\n",
    "plt.tight_layout()"
   ]
  },
  {
   "cell_type": "markdown",
   "metadata": {},
   "source": [
    "#### Inferences\n",
    "* Leads with last notable activity as SMS sent have a high chance of conversion\n",
    "* Working professionals have the highest conversion ratio\n",
    "* Leads originating from Lead Add Form have high coversion ratio"
   ]
  },
  {
   "cell_type": "code",
   "execution_count": 54,
   "metadata": {},
   "outputs": [
    {
     "data": {
      "text/plain": [
       "<matplotlib.axes._subplots.AxesSubplot at 0x27d50ec2be0>"
      ]
     },
     "execution_count": 54,
     "metadata": {},
     "output_type": "execute_result"
    },
    {
     "data": {
      "image/png": "[encoded data removed]",
      "text/plain": [
       "<Figure size 432x288 with 2 Axes>"
      ]
     },
     "metadata": {
      "needs_background": "light"
     },
     "output_type": "display_data"
    }
   ],
   "source": [
    "#Lets see the correaltion heatmap\n",
    "sns.heatmap(df.corr(), cmap=\"RdYlGn\",annot=True)"
   ]
  },
  {
   "cell_type": "markdown",
   "metadata": {},
   "source": [
    "We do not see any alarmingly high levels of correlation in the data"
   ]
  },
  {
   "cell_type": "markdown",
   "metadata": {},
   "source": [
    "### Data Preparation \n",
    "We will be converting all categorical features into dummy variables, by implmeneting one-hot encoding. "
   ]
  },
  {
   "cell_type": "code",
   "execution_count": 55,
   "metadata": {},
   "outputs": [],
   "source": [
    "#We can use prospect ID for identificatipon, dropping Lead Number\n",
    "df.drop('Lead Number',inplace=True, axis=1)"
   ]
  },
  {
   "cell_type": "code",
   "execution_count": 56,
   "metadata": {},
   "outputs": [
    {
     "data": {
      "text/plain": [
       "Index(['Prospect ID', 'Lead Origin', 'Lead Source', 'Converted', 'TotalVisits',\n",
       "       'Time Spent', 'Views', 'Last Activity', 'Specialization', 'Occupation',\n",
       "       'City', 'Free Copy', 'Last Notable Activity'],\n",
       "      dtype='object')"
      ]
     },
     "execution_count": 56,
     "metadata": {},
     "output_type": "execute_result"
    }
   ],
   "source": [
    "df.columns"
   ]
  },
  {
   "cell_type": "code",
   "execution_count": 57,
   "metadata": {},
   "outputs": [
    {
     "data": {
      "text/html": [
       "<div>\n",
       "<style scoped>\n",
       "    .dataframe tbody tr th:only-of-type {\n",
       "        vertical-align: middle;\n",
       "    }\n",
       "\n",
       "    .dataframe tbody tr th {\n",
       "        vertical-align: top;\n",
       "    }\n",
       "\n",
       "    .dataframe thead th {\n",
       "        text-align: right;\n",
       "    }\n",
       "</style>\n",
       "<table border=\"1\" class=\"dataframe\">\n",
       "  <thead>\n",
       "    <tr style=\"text-align: right;\">\n",
       "      <th></th>\n",
       "      <th>Lead Origin_Landing Page Submission</th>\n",
       "      <th>Lead Origin_Lead Add Form</th>\n",
       "      <th>Lead Origin_Lead Import</th>\n",
       "      <th>Lead Source_Google</th>\n",
       "      <th>Lead Source_Olark Chat</th>\n",
       "      <th>Lead Source_Organic Search</th>\n",
       "      <th>Lead Source_Others</th>\n",
       "      <th>Lead Source_Reference</th>\n",
       "      <th>Lead Source_Referral Sites</th>\n",
       "      <th>Lead Source_Welingak Website</th>\n",
       "      <th>...</th>\n",
       "      <th>City_Other Cities of Maharashtra</th>\n",
       "      <th>City_Other Metro Cities</th>\n",
       "      <th>City_Thane &amp; Outskirts</th>\n",
       "      <th>City_Tier II Cities</th>\n",
       "      <th>Last Notable Activity_Email Opened</th>\n",
       "      <th>Last Notable Activity_Modified</th>\n",
       "      <th>Last Notable Activity_Olark Chat Conversation</th>\n",
       "      <th>Last Notable Activity_Others</th>\n",
       "      <th>Last Notable Activity_Page Visited on Website</th>\n",
       "      <th>Last Notable Activity_SMS Sent</th>\n",
       "    </tr>\n",
       "  </thead>\n",
       "  <tbody>\n",
       "    <tr>\n",
       "      <th>0</th>\n",
       "      <td>0</td>\n",
       "      <td>0</td>\n",
       "      <td>0</td>\n",
       "      <td>0</td>\n",
       "      <td>1</td>\n",
       "      <td>0</td>\n",
       "      <td>0</td>\n",
       "      <td>0</td>\n",
       "      <td>0</td>\n",
       "      <td>0</td>\n",
       "      <td>...</td>\n",
       "      <td>0</td>\n",
       "      <td>0</td>\n",
       "      <td>0</td>\n",
       "      <td>0</td>\n",
       "      <td>0</td>\n",
       "      <td>1</td>\n",
       "      <td>0</td>\n",
       "      <td>0</td>\n",
       "      <td>0</td>\n",
       "      <td>0</td>\n",
       "    </tr>\n",
       "    <tr>\n",
       "      <th>1</th>\n",
       "      <td>0</td>\n",
       "      <td>0</td>\n",
       "      <td>0</td>\n",
       "      <td>0</td>\n",
       "      <td>0</td>\n",
       "      <td>1</td>\n",
       "      <td>0</td>\n",
       "      <td>0</td>\n",
       "      <td>0</td>\n",
       "      <td>0</td>\n",
       "      <td>...</td>\n",
       "      <td>0</td>\n",
       "      <td>0</td>\n",
       "      <td>0</td>\n",
       "      <td>0</td>\n",
       "      <td>1</td>\n",
       "      <td>0</td>\n",
       "      <td>0</td>\n",
       "      <td>0</td>\n",
       "      <td>0</td>\n",
       "      <td>0</td>\n",
       "    </tr>\n",
       "    <tr>\n",
       "      <th>2</th>\n",
       "      <td>1</td>\n",
       "      <td>0</td>\n",
       "      <td>0</td>\n",
       "      <td>0</td>\n",
       "      <td>0</td>\n",
       "      <td>0</td>\n",
       "      <td>0</td>\n",
       "      <td>0</td>\n",
       "      <td>0</td>\n",
       "      <td>0</td>\n",
       "      <td>...</td>\n",
       "      <td>0</td>\n",
       "      <td>0</td>\n",
       "      <td>0</td>\n",
       "      <td>0</td>\n",
       "      <td>1</td>\n",
       "      <td>0</td>\n",
       "      <td>0</td>\n",
       "      <td>0</td>\n",
       "      <td>0</td>\n",
       "      <td>0</td>\n",
       "    </tr>\n",
       "    <tr>\n",
       "      <th>3</th>\n",
       "      <td>1</td>\n",
       "      <td>0</td>\n",
       "      <td>0</td>\n",
       "      <td>0</td>\n",
       "      <td>0</td>\n",
       "      <td>0</td>\n",
       "      <td>0</td>\n",
       "      <td>0</td>\n",
       "      <td>0</td>\n",
       "      <td>0</td>\n",
       "      <td>...</td>\n",
       "      <td>0</td>\n",
       "      <td>0</td>\n",
       "      <td>0</td>\n",
       "      <td>0</td>\n",
       "      <td>0</td>\n",
       "      <td>1</td>\n",
       "      <td>0</td>\n",
       "      <td>0</td>\n",
       "      <td>0</td>\n",
       "      <td>0</td>\n",
       "    </tr>\n",
       "    <tr>\n",
       "      <th>4</th>\n",
       "      <td>1</td>\n",
       "      <td>0</td>\n",
       "      <td>0</td>\n",
       "      <td>1</td>\n",
       "      <td>0</td>\n",
       "      <td>0</td>\n",
       "      <td>0</td>\n",
       "      <td>0</td>\n",
       "      <td>0</td>\n",
       "      <td>0</td>\n",
       "      <td>...</td>\n",
       "      <td>0</td>\n",
       "      <td>0</td>\n",
       "      <td>0</td>\n",
       "      <td>0</td>\n",
       "      <td>0</td>\n",
       "      <td>1</td>\n",
       "      <td>0</td>\n",
       "      <td>0</td>\n",
       "      <td>0</td>\n",
       "      <td>0</td>\n",
       "    </tr>\n",
       "  </tbody>\n",
       "</table>\n",
       "<p>5 rows × 52 columns</p>\n",
       "</div>"
      ],
      "text/plain": [
       "   Lead Origin_Landing Page Submission  Lead Origin_Lead Add Form  \\\n",
       "0                                    0                          0   \n",
       "1                                    0                          0   \n",
       "2                                    1                          0   \n",
       "3                                    1                          0   \n",
       "4                                    1                          0   \n",
       "\n",
       "   Lead Origin_Lead Import  Lead Source_Google  Lead Source_Olark Chat  \\\n",
       "0                        0                   0                       1   \n",
       "1                        0                   0                       0   \n",
       "2                        0                   0                       0   \n",
       "3                        0                   0                       0   \n",
       "4                        0                   1                       0   \n",
       "\n",
       "   Lead Source_Organic Search  Lead Source_Others  Lead Source_Reference  \\\n",
       "0                           0                   0                      0   \n",
       "1                           1                   0                      0   \n",
       "2                           0                   0                      0   \n",
       "3                           0                   0                      0   \n",
       "4                           0                   0                      0   \n",
       "\n",
       "   Lead Source_Referral Sites  Lead Source_Welingak Website  ...  \\\n",
       "0                           0                             0  ...   \n",
       "1                           0                             0  ...   \n",
       "2                           0                             0  ...   \n",
       "3                           0                             0  ...   \n",
       "4                           0                             0  ...   \n",
       "\n",
       "   City_Other Cities of Maharashtra  City_Other Metro Cities  \\\n",
       "0                                 0                        0   \n",
       "1                                 0                        0   \n",
       "2                                 0                        0   \n",
       "3                                 0                        0   \n",
       "4                                 0                        0   \n",
       "\n",
       "   City_Thane & Outskirts  City_Tier II Cities  \\\n",
       "0                       0                    0   \n",
       "1                       0                    0   \n",
       "2                       0                    0   \n",
       "3                       0                    0   \n",
       "4                       0                    0   \n",
       "\n",
       "   Last Notable Activity_Email Opened  Last Notable Activity_Modified  \\\n",
       "0                                   0                               1   \n",
       "1                                   1                               0   \n",
       "2                                   1                               0   \n",
       "3                                   0                               1   \n",
       "4                                   0                               1   \n",
       "\n",
       "   Last Notable Activity_Olark Chat Conversation  \\\n",
       "0                                              0   \n",
       "1                                              0   \n",
       "2                                              0   \n",
       "3                                              0   \n",
       "4                                              0   \n",
       "\n",
       "   Last Notable Activity_Others  \\\n",
       "0                             0   \n",
       "1                             0   \n",
       "2                             0   \n",
       "3                             0   \n",
       "4                             0   \n",
       "\n",
       "   Last Notable Activity_Page Visited on Website  \\\n",
       "0                                              0   \n",
       "1                                              0   \n",
       "2                                              0   \n",
       "3                                              0   \n",
       "4                                              0   \n",
       "\n",
       "   Last Notable Activity_SMS Sent  \n",
       "0                               0  \n",
       "1                               0  \n",
       "2                               0  \n",
       "3                               0  \n",
       "4                               0  \n",
       "\n",
       "[5 rows x 52 columns]"
      ]
     },
     "execution_count": 57,
     "metadata": {},
     "output_type": "execute_result"
    }
   ],
   "source": [
    "#creating dummy variables\n",
    "dummy = pd.get_dummies(df[['Lead Origin','Lead Source','Last Activity','Specialization',\n",
    "                           'Occupation','City','Last Notable Activity']], drop_first=True)\n",
    "dummy.head()\n"
   ]
  },
  {
   "cell_type": "code",
   "execution_count": 58,
   "metadata": {},
   "outputs": [
    {
     "data": {
      "text/html": [
       "<div>\n",
       "<style scoped>\n",
       "    .dataframe tbody tr th:only-of-type {\n",
       "        vertical-align: middle;\n",
       "    }\n",
       "\n",
       "    .dataframe tbody tr th {\n",
       "        vertical-align: top;\n",
       "    }\n",
       "\n",
       "    .dataframe thead th {\n",
       "        text-align: right;\n",
       "    }\n",
       "</style>\n",
       "<table border=\"1\" class=\"dataframe\">\n",
       "  <thead>\n",
       "    <tr style=\"text-align: right;\">\n",
       "      <th></th>\n",
       "      <th>Prospect ID</th>\n",
       "      <th>Lead Origin</th>\n",
       "      <th>Lead Source</th>\n",
       "      <th>Converted</th>\n",
       "      <th>TotalVisits</th>\n",
       "      <th>Time Spent</th>\n",
       "      <th>Views</th>\n",
       "      <th>Last Activity</th>\n",
       "      <th>Specialization</th>\n",
       "      <th>Occupation</th>\n",
       "      <th>...</th>\n",
       "      <th>City_Other Cities of Maharashtra</th>\n",
       "      <th>City_Other Metro Cities</th>\n",
       "      <th>City_Thane &amp; Outskirts</th>\n",
       "      <th>City_Tier II Cities</th>\n",
       "      <th>Last Notable Activity_Email Opened</th>\n",
       "      <th>Last Notable Activity_Modified</th>\n",
       "      <th>Last Notable Activity_Olark Chat Conversation</th>\n",
       "      <th>Last Notable Activity_Others</th>\n",
       "      <th>Last Notable Activity_Page Visited on Website</th>\n",
       "      <th>Last Notable Activity_SMS Sent</th>\n",
       "    </tr>\n",
       "  </thead>\n",
       "  <tbody>\n",
       "    <tr>\n",
       "      <th>0</th>\n",
       "      <td>7927b2df-8bba-4d29-b9a2-b6e0beafe620</td>\n",
       "      <td>API</td>\n",
       "      <td>Olark Chat</td>\n",
       "      <td>0</td>\n",
       "      <td>0.0</td>\n",
       "      <td>0</td>\n",
       "      <td>0.0</td>\n",
       "      <td>Page Visited on Website</td>\n",
       "      <td>Others</td>\n",
       "      <td>Unemployed</td>\n",
       "      <td>...</td>\n",
       "      <td>0</td>\n",
       "      <td>0</td>\n",
       "      <td>0</td>\n",
       "      <td>0</td>\n",
       "      <td>0</td>\n",
       "      <td>1</td>\n",
       "      <td>0</td>\n",
       "      <td>0</td>\n",
       "      <td>0</td>\n",
       "      <td>0</td>\n",
       "    </tr>\n",
       "    <tr>\n",
       "      <th>1</th>\n",
       "      <td>2a272436-5132-4136-86fa-dcc88c88f482</td>\n",
       "      <td>API</td>\n",
       "      <td>Organic Search</td>\n",
       "      <td>0</td>\n",
       "      <td>5.0</td>\n",
       "      <td>674</td>\n",
       "      <td>2.5</td>\n",
       "      <td>Email Opened</td>\n",
       "      <td>Others</td>\n",
       "      <td>Unemployed</td>\n",
       "      <td>...</td>\n",
       "      <td>0</td>\n",
       "      <td>0</td>\n",
       "      <td>0</td>\n",
       "      <td>0</td>\n",
       "      <td>1</td>\n",
       "      <td>0</td>\n",
       "      <td>0</td>\n",
       "      <td>0</td>\n",
       "      <td>0</td>\n",
       "      <td>0</td>\n",
       "    </tr>\n",
       "    <tr>\n",
       "      <th>2</th>\n",
       "      <td>8cc8c611-a219-4f35-ad23-fdfd2656bd8a</td>\n",
       "      <td>Landing Page Submission</td>\n",
       "      <td>Direct Traffic</td>\n",
       "      <td>1</td>\n",
       "      <td>2.0</td>\n",
       "      <td>1532</td>\n",
       "      <td>2.0</td>\n",
       "      <td>Email Opened</td>\n",
       "      <td>Business Administration</td>\n",
       "      <td>Student</td>\n",
       "      <td>...</td>\n",
       "      <td>0</td>\n",
       "      <td>0</td>\n",
       "      <td>0</td>\n",
       "      <td>0</td>\n",
       "      <td>1</td>\n",
       "      <td>0</td>\n",
       "      <td>0</td>\n",
       "      <td>0</td>\n",
       "      <td>0</td>\n",
       "      <td>0</td>\n",
       "    </tr>\n",
       "    <tr>\n",
       "      <th>3</th>\n",
       "      <td>0cc2df48-7cf4-4e39-9de9-19797f9b38cc</td>\n",
       "      <td>Landing Page Submission</td>\n",
       "      <td>Direct Traffic</td>\n",
       "      <td>0</td>\n",
       "      <td>1.0</td>\n",
       "      <td>305</td>\n",
       "      <td>1.0</td>\n",
       "      <td>Others</td>\n",
       "      <td>Media and Advertising</td>\n",
       "      <td>Unemployed</td>\n",
       "      <td>...</td>\n",
       "      <td>0</td>\n",
       "      <td>0</td>\n",
       "      <td>0</td>\n",
       "      <td>0</td>\n",
       "      <td>0</td>\n",
       "      <td>1</td>\n",
       "      <td>0</td>\n",
       "      <td>0</td>\n",
       "      <td>0</td>\n",
       "      <td>0</td>\n",
       "    </tr>\n",
       "    <tr>\n",
       "      <th>4</th>\n",
       "      <td>3256f628-e534-4826-9d63-4a8b88782852</td>\n",
       "      <td>Landing Page Submission</td>\n",
       "      <td>Google</td>\n",
       "      <td>1</td>\n",
       "      <td>2.0</td>\n",
       "      <td>1428</td>\n",
       "      <td>1.0</td>\n",
       "      <td>Converted to Lead</td>\n",
       "      <td>Others</td>\n",
       "      <td>Unemployed</td>\n",
       "      <td>...</td>\n",
       "      <td>0</td>\n",
       "      <td>0</td>\n",
       "      <td>0</td>\n",
       "      <td>0</td>\n",
       "      <td>0</td>\n",
       "      <td>1</td>\n",
       "      <td>0</td>\n",
       "      <td>0</td>\n",
       "      <td>0</td>\n",
       "      <td>0</td>\n",
       "    </tr>\n",
       "  </tbody>\n",
       "</table>\n",
       "<p>5 rows × 65 columns</p>\n",
       "</div>"
      ],
      "text/plain": [
       "                            Prospect ID              Lead Origin  \\\n",
       "0  7927b2df-8bba-4d29-b9a2-b6e0beafe620                      API   \n",
       "1  2a272436-5132-4136-86fa-dcc88c88f482                      API   \n",
       "2  8cc8c611-a219-4f35-ad23-fdfd2656bd8a  Landing Page Submission   \n",
       "3  0cc2df48-7cf4-4e39-9de9-19797f9b38cc  Landing Page Submission   \n",
       "4  3256f628-e534-4826-9d63-4a8b88782852  Landing Page Submission   \n",
       "\n",
       "      Lead Source  Converted  TotalVisits  Time Spent  Views  \\\n",
       "0      Olark Chat          0          0.0           0    0.0   \n",
       "1  Organic Search          0          5.0         674    2.5   \n",
       "2  Direct Traffic          1          2.0        1532    2.0   \n",
       "3  Direct Traffic          0          1.0         305    1.0   \n",
       "4          Google          1          2.0        1428    1.0   \n",
       "\n",
       "             Last Activity           Specialization  Occupation  ...  \\\n",
       "0  Page Visited on Website                   Others  Unemployed  ...   \n",
       "1             Email Opened                   Others  Unemployed  ...   \n",
       "2             Email Opened  Business Administration     Student  ...   \n",
       "3                   Others    Media and Advertising  Unemployed  ...   \n",
       "4        Converted to Lead                   Others  Unemployed  ...   \n",
       "\n",
       "  City_Other Cities of Maharashtra  City_Other Metro Cities  \\\n",
       "0                                0                        0   \n",
       "1                                0                        0   \n",
       "2                                0                        0   \n",
       "3                                0                        0   \n",
       "4                                0                        0   \n",
       "\n",
       "  City_Thane & Outskirts  City_Tier II Cities  \\\n",
       "0                      0                    0   \n",
       "1                      0                    0   \n",
       "2                      0                    0   \n",
       "3                      0                    0   \n",
       "4                      0                    0   \n",
       "\n",
       "   Last Notable Activity_Email Opened  Last Notable Activity_Modified  \\\n",
       "0                                   0                               1   \n",
       "1                                   1                               0   \n",
       "2                                   1                               0   \n",
       "3                                   0                               1   \n",
       "4                                   0                               1   \n",
       "\n",
       "   Last Notable Activity_Olark Chat Conversation  \\\n",
       "0                                              0   \n",
       "1                                              0   \n",
       "2                                              0   \n",
       "3                                              0   \n",
       "4                                              0   \n",
       "\n",
       "   Last Notable Activity_Others  \\\n",
       "0                             0   \n",
       "1                             0   \n",
       "2                             0   \n",
       "3                             0   \n",
       "4                             0   \n",
       "\n",
       "   Last Notable Activity_Page Visited on Website  \\\n",
       "0                                              0   \n",
       "1                                              0   \n",
       "2                                              0   \n",
       "3                                              0   \n",
       "4                                              0   \n",
       "\n",
       "   Last Notable Activity_SMS Sent  \n",
       "0                               0  \n",
       "1                               0  \n",
       "2                               0  \n",
       "3                               0  \n",
       "4                               0  \n",
       "\n",
       "[5 rows x 65 columns]"
      ]
     },
     "execution_count": 58,
     "metadata": {},
     "output_type": "execute_result"
    }
   ],
   "source": [
    "#Merging dummies into dataset\n",
    "df=pd.concat([df,dummy],axis=1)\n",
    "df.head()"
   ]
  },
  {
   "cell_type": "code",
   "execution_count": 59,
   "metadata": {},
   "outputs": [],
   "source": [
    "#dropping dummified variables \n",
    "df.drop(['Lead Origin','Lead Source','Last Activity','Specialization',\n",
    "                           'Occupation','City','Last Notable Activity'],inplace=True,axis=1)"
   ]
  },
  {
   "cell_type": "code",
   "execution_count": 60,
   "metadata": {},
   "outputs": [
    {
     "data": {
      "text/html": [
       "<div>\n",
       "<style scoped>\n",
       "    .dataframe tbody tr th:only-of-type {\n",
       "        vertical-align: middle;\n",
       "    }\n",
       "\n",
       "    .dataframe tbody tr th {\n",
       "        vertical-align: top;\n",
       "    }\n",
       "\n",
       "    .dataframe thead th {\n",
       "        text-align: right;\n",
       "    }\n",
       "</style>\n",
       "<table border=\"1\" class=\"dataframe\">\n",
       "  <thead>\n",
       "    <tr style=\"text-align: right;\">\n",
       "      <th></th>\n",
       "      <th>Prospect ID</th>\n",
       "      <th>Converted</th>\n",
       "      <th>TotalVisits</th>\n",
       "      <th>Time Spent</th>\n",
       "      <th>Views</th>\n",
       "      <th>Free Copy</th>\n",
       "      <th>Lead Origin_Landing Page Submission</th>\n",
       "      <th>Lead Origin_Lead Add Form</th>\n",
       "      <th>Lead Origin_Lead Import</th>\n",
       "      <th>Lead Source_Google</th>\n",
       "      <th>...</th>\n",
       "      <th>City_Other Cities of Maharashtra</th>\n",
       "      <th>City_Other Metro Cities</th>\n",
       "      <th>City_Thane &amp; Outskirts</th>\n",
       "      <th>City_Tier II Cities</th>\n",
       "      <th>Last Notable Activity_Email Opened</th>\n",
       "      <th>Last Notable Activity_Modified</th>\n",
       "      <th>Last Notable Activity_Olark Chat Conversation</th>\n",
       "      <th>Last Notable Activity_Others</th>\n",
       "      <th>Last Notable Activity_Page Visited on Website</th>\n",
       "      <th>Last Notable Activity_SMS Sent</th>\n",
       "    </tr>\n",
       "  </thead>\n",
       "  <tbody>\n",
       "    <tr>\n",
       "      <th>0</th>\n",
       "      <td>7927b2df-8bba-4d29-b9a2-b6e0beafe620</td>\n",
       "      <td>0</td>\n",
       "      <td>0.0</td>\n",
       "      <td>0</td>\n",
       "      <td>0.0</td>\n",
       "      <td>0</td>\n",
       "      <td>0</td>\n",
       "      <td>0</td>\n",
       "      <td>0</td>\n",
       "      <td>0</td>\n",
       "      <td>...</td>\n",
       "      <td>0</td>\n",
       "      <td>0</td>\n",
       "      <td>0</td>\n",
       "      <td>0</td>\n",
       "      <td>0</td>\n",
       "      <td>1</td>\n",
       "      <td>0</td>\n",
       "      <td>0</td>\n",
       "      <td>0</td>\n",
       "      <td>0</td>\n",
       "    </tr>\n",
       "    <tr>\n",
       "      <th>1</th>\n",
       "      <td>2a272436-5132-4136-86fa-dcc88c88f482</td>\n",
       "      <td>0</td>\n",
       "      <td>5.0</td>\n",
       "      <td>674</td>\n",
       "      <td>2.5</td>\n",
       "      <td>0</td>\n",
       "      <td>0</td>\n",
       "      <td>0</td>\n",
       "      <td>0</td>\n",
       "      <td>0</td>\n",
       "      <td>...</td>\n",
       "      <td>0</td>\n",
       "      <td>0</td>\n",
       "      <td>0</td>\n",
       "      <td>0</td>\n",
       "      <td>1</td>\n",
       "      <td>0</td>\n",
       "      <td>0</td>\n",
       "      <td>0</td>\n",
       "      <td>0</td>\n",
       "      <td>0</td>\n",
       "    </tr>\n",
       "    <tr>\n",
       "      <th>2</th>\n",
       "      <td>8cc8c611-a219-4f35-ad23-fdfd2656bd8a</td>\n",
       "      <td>1</td>\n",
       "      <td>2.0</td>\n",
       "      <td>1532</td>\n",
       "      <td>2.0</td>\n",
       "      <td>1</td>\n",
       "      <td>1</td>\n",
       "      <td>0</td>\n",
       "      <td>0</td>\n",
       "      <td>0</td>\n",
       "      <td>...</td>\n",
       "      <td>0</td>\n",
       "      <td>0</td>\n",
       "      <td>0</td>\n",
       "      <td>0</td>\n",
       "      <td>1</td>\n",
       "      <td>0</td>\n",
       "      <td>0</td>\n",
       "      <td>0</td>\n",
       "      <td>0</td>\n",
       "      <td>0</td>\n",
       "    </tr>\n",
       "    <tr>\n",
       "      <th>3</th>\n",
       "      <td>0cc2df48-7cf4-4e39-9de9-19797f9b38cc</td>\n",
       "      <td>0</td>\n",
       "      <td>1.0</td>\n",
       "      <td>305</td>\n",
       "      <td>1.0</td>\n",
       "      <td>0</td>\n",
       "      <td>1</td>\n",
       "      <td>0</td>\n",
       "      <td>0</td>\n",
       "      <td>0</td>\n",
       "      <td>...</td>\n",
       "      <td>0</td>\n",
       "      <td>0</td>\n",
       "      <td>0</td>\n",
       "      <td>0</td>\n",
       "      <td>0</td>\n",
       "      <td>1</td>\n",
       "      <td>0</td>\n",
       "      <td>0</td>\n",
       "      <td>0</td>\n",
       "      <td>0</td>\n",
       "    </tr>\n",
       "    <tr>\n",
       "      <th>4</th>\n",
       "      <td>3256f628-e534-4826-9d63-4a8b88782852</td>\n",
       "      <td>1</td>\n",
       "      <td>2.0</td>\n",
       "      <td>1428</td>\n",
       "      <td>1.0</td>\n",
       "      <td>0</td>\n",
       "      <td>1</td>\n",
       "      <td>0</td>\n",
       "      <td>0</td>\n",
       "      <td>1</td>\n",
       "      <td>...</td>\n",
       "      <td>0</td>\n",
       "      <td>0</td>\n",
       "      <td>0</td>\n",
       "      <td>0</td>\n",
       "      <td>0</td>\n",
       "      <td>1</td>\n",
       "      <td>0</td>\n",
       "      <td>0</td>\n",
       "      <td>0</td>\n",
       "      <td>0</td>\n",
       "    </tr>\n",
       "  </tbody>\n",
       "</table>\n",
       "<p>5 rows × 58 columns</p>\n",
       "</div>"
      ],
      "text/plain": [
       "                            Prospect ID  Converted  TotalVisits  Time Spent  \\\n",
       "0  7927b2df-8bba-4d29-b9a2-b6e0beafe620          0          0.0           0   \n",
       "1  2a272436-5132-4136-86fa-dcc88c88f482          0          5.0         674   \n",
       "2  8cc8c611-a219-4f35-ad23-fdfd2656bd8a          1          2.0        1532   \n",
       "3  0cc2df48-7cf4-4e39-9de9-19797f9b38cc          0          1.0         305   \n",
       "4  3256f628-e534-4826-9d63-4a8b88782852          1          2.0        1428   \n",
       "\n",
       "   Views  Free Copy  Lead Origin_Landing Page Submission  \\\n",
       "0    0.0          0                                    0   \n",
       "1    2.5          0                                    0   \n",
       "2    2.0          1                                    1   \n",
       "3    1.0          0                                    1   \n",
       "4    1.0          0                                    1   \n",
       "\n",
       "   Lead Origin_Lead Add Form  Lead Origin_Lead Import  Lead Source_Google  \\\n",
       "0                          0                        0                   0   \n",
       "1                          0                        0                   0   \n",
       "2                          0                        0                   0   \n",
       "3                          0                        0                   0   \n",
       "4                          0                        0                   1   \n",
       "\n",
       "   ...  City_Other Cities of Maharashtra  City_Other Metro Cities  \\\n",
       "0  ...                                 0                        0   \n",
       "1  ...                                 0                        0   \n",
       "2  ...                                 0                        0   \n",
       "3  ...                                 0                        0   \n",
       "4  ...                                 0                        0   \n",
       "\n",
       "   City_Thane & Outskirts  City_Tier II Cities  \\\n",
       "0                       0                    0   \n",
       "1                       0                    0   \n",
       "2                       0                    0   \n",
       "3                       0                    0   \n",
       "4                       0                    0   \n",
       "\n",
       "   Last Notable Activity_Email Opened  Last Notable Activity_Modified  \\\n",
       "0                                   0                               1   \n",
       "1                                   1                               0   \n",
       "2                                   1                               0   \n",
       "3                                   0                               1   \n",
       "4                                   0                               1   \n",
       "\n",
       "   Last Notable Activity_Olark Chat Conversation  \\\n",
       "0                                              0   \n",
       "1                                              0   \n",
       "2                                              0   \n",
       "3                                              0   \n",
       "4                                              0   \n",
       "\n",
       "   Last Notable Activity_Others  \\\n",
       "0                             0   \n",
       "1                             0   \n",
       "2                             0   \n",
       "3                             0   \n",
       "4                             0   \n",
       "\n",
       "   Last Notable Activity_Page Visited on Website  \\\n",
       "0                                              0   \n",
       "1                                              0   \n",
       "2                                              0   \n",
       "3                                              0   \n",
       "4                                              0   \n",
       "\n",
       "   Last Notable Activity_SMS Sent  \n",
       "0                               0  \n",
       "1                               0  \n",
       "2                               0  \n",
       "3                               0  \n",
       "4                               0  \n",
       "\n",
       "[5 rows x 58 columns]"
      ]
     },
     "execution_count": 60,
     "metadata": {},
     "output_type": "execute_result"
    }
   ],
   "source": [
    "df.head()"
   ]
  },
  {
   "cell_type": "markdown",
   "metadata": {},
   "source": [
    "### Splitting the data into train and test set"
   ]
  },
  {
   "cell_type": "code",
   "execution_count": 61,
   "metadata": {},
   "outputs": [],
   "source": [
    "from sklearn.model_selection import train_test_split"
   ]
  },
  {
   "cell_type": "code",
   "execution_count": 62,
   "metadata": {},
   "outputs": [],
   "source": [
    "x=df.drop(['Converted','Prospect ID'],axis=1)\n",
    "y=df[['Converted']]\n",
    "x_train, x_test, y_train, y_test = train_test_split(x,y,train_size=0.7,test_size=0.3,random_state=1)"
   ]
  },
  {
   "cell_type": "code",
   "execution_count": 63,
   "metadata": {},
   "outputs": [],
   "source": [
    "# y_train.index = x_train['Prospect ID']\n",
    "# x_train.index = x_train['Prospect ID']\n",
    "# x_train.drop('Prospect ID',axis=1,inplace=True)"
   ]
  },
  {
   "cell_type": "code",
   "execution_count": 64,
   "metadata": {},
   "outputs": [
    {
     "data": {
      "text/plain": [
       "(6351, 56)"
      ]
     },
     "execution_count": 64,
     "metadata": {},
     "output_type": "execute_result"
    }
   ],
   "source": [
    "x_train.shape"
   ]
  },
  {
   "cell_type": "code",
   "execution_count": 65,
   "metadata": {},
   "outputs": [
    {
     "data": {
      "text/plain": [
       "(6351, 1)"
      ]
     },
     "execution_count": 65,
     "metadata": {},
     "output_type": "execute_result"
    }
   ],
   "source": [
    "y_train.shape"
   ]
  },
  {
   "cell_type": "code",
   "execution_count": 66,
   "metadata": {},
   "outputs": [],
   "source": [
    "# y_test.index = x_test['Prospect ID']\n",
    "# x_test.index=x_test['Prospect ID']\n",
    "# x_test.drop('Prospect ID',axis=1,inplace=True)"
   ]
  },
  {
   "cell_type": "code",
   "execution_count": 67,
   "metadata": {},
   "outputs": [
    {
     "data": {
      "text/plain": [
       "(2723, 56)"
      ]
     },
     "execution_count": 67,
     "metadata": {},
     "output_type": "execute_result"
    }
   ],
   "source": [
    "x_test.shape"
   ]
  },
  {
   "cell_type": "code",
   "execution_count": 68,
   "metadata": {},
   "outputs": [
    {
     "data": {
      "text/plain": [
       "(2723, 1)"
      ]
     },
     "execution_count": 68,
     "metadata": {},
     "output_type": "execute_result"
    }
   ],
   "source": [
    "y_test.shape"
   ]
  },
  {
   "cell_type": "markdown",
   "metadata": {},
   "source": [
    "### Scaling of numerical features"
   ]
  },
  {
   "cell_type": "code",
   "execution_count": 69,
   "metadata": {},
   "outputs": [],
   "source": [
    "from sklearn.preprocessing import StandardScaler"
   ]
  },
  {
   "cell_type": "code",
   "execution_count": 70,
   "metadata": {},
   "outputs": [],
   "source": [
    "scaler=StandardScaler()"
   ]
  },
  {
   "cell_type": "code",
   "execution_count": 71,
   "metadata": {},
   "outputs": [
    {
     "data": {
      "text/html": [
       "<div>\n",
       "<style scoped>\n",
       "    .dataframe tbody tr th:only-of-type {\n",
       "        vertical-align: middle;\n",
       "    }\n",
       "\n",
       "    .dataframe tbody tr th {\n",
       "        vertical-align: top;\n",
       "    }\n",
       "\n",
       "    .dataframe thead th {\n",
       "        text-align: right;\n",
       "    }\n",
       "</style>\n",
       "<table border=\"1\" class=\"dataframe\">\n",
       "  <thead>\n",
       "    <tr style=\"text-align: right;\">\n",
       "      <th></th>\n",
       "      <th>TotalVisits</th>\n",
       "      <th>Time Spent</th>\n",
       "      <th>Views</th>\n",
       "    </tr>\n",
       "  </thead>\n",
       "  <tbody>\n",
       "    <tr>\n",
       "      <th>count</th>\n",
       "      <td>6351.000000</td>\n",
       "      <td>6351.000000</td>\n",
       "      <td>6351.000000</td>\n",
       "    </tr>\n",
       "    <tr>\n",
       "      <th>mean</th>\n",
       "      <td>3.371438</td>\n",
       "      <td>480.565895</td>\n",
       "      <td>2.336221</td>\n",
       "    </tr>\n",
       "    <tr>\n",
       "      <th>std</th>\n",
       "      <td>3.970894</td>\n",
       "      <td>544.310899</td>\n",
       "      <td>2.149108</td>\n",
       "    </tr>\n",
       "    <tr>\n",
       "      <th>min</th>\n",
       "      <td>0.000000</td>\n",
       "      <td>0.000000</td>\n",
       "      <td>0.000000</td>\n",
       "    </tr>\n",
       "    <tr>\n",
       "      <th>25%</th>\n",
       "      <td>1.000000</td>\n",
       "      <td>8.000000</td>\n",
       "      <td>1.000000</td>\n",
       "    </tr>\n",
       "    <tr>\n",
       "      <th>50%</th>\n",
       "      <td>3.000000</td>\n",
       "      <td>246.000000</td>\n",
       "      <td>2.000000</td>\n",
       "    </tr>\n",
       "    <tr>\n",
       "      <th>75%</th>\n",
       "      <td>5.000000</td>\n",
       "      <td>908.000000</td>\n",
       "      <td>3.000000</td>\n",
       "    </tr>\n",
       "    <tr>\n",
       "      <th>max</th>\n",
       "      <td>141.000000</td>\n",
       "      <td>2272.000000</td>\n",
       "      <td>55.000000</td>\n",
       "    </tr>\n",
       "  </tbody>\n",
       "</table>\n",
       "</div>"
      ],
      "text/plain": [
       "       TotalVisits   Time Spent        Views\n",
       "count  6351.000000  6351.000000  6351.000000\n",
       "mean      3.371438   480.565895     2.336221\n",
       "std       3.970894   544.310899     2.149108\n",
       "min       0.000000     0.000000     0.000000\n",
       "25%       1.000000     8.000000     1.000000\n",
       "50%       3.000000   246.000000     2.000000\n",
       "75%       5.000000   908.000000     3.000000\n",
       "max     141.000000  2272.000000    55.000000"
      ]
     },
     "execution_count": 71,
     "metadata": {},
     "output_type": "execute_result"
    }
   ],
   "source": [
    "x_train[['TotalVisits','Time Spent','Views']].describe()"
   ]
  },
  {
   "cell_type": "code",
   "execution_count": 72,
   "metadata": {},
   "outputs": [
    {
     "data": {
      "text/html": [
       "<div>\n",
       "<style scoped>\n",
       "    .dataframe tbody tr th:only-of-type {\n",
       "        vertical-align: middle;\n",
       "    }\n",
       "\n",
       "    .dataframe tbody tr th {\n",
       "        vertical-align: top;\n",
       "    }\n",
       "\n",
       "    .dataframe thead th {\n",
       "        text-align: right;\n",
       "    }\n",
       "</style>\n",
       "<table border=\"1\" class=\"dataframe\">\n",
       "  <thead>\n",
       "    <tr style=\"text-align: right;\">\n",
       "      <th></th>\n",
       "      <th>TotalVisits</th>\n",
       "      <th>Time Spent</th>\n",
       "      <th>Views</th>\n",
       "    </tr>\n",
       "  </thead>\n",
       "  <tbody>\n",
       "    <tr>\n",
       "      <th>count</th>\n",
       "      <td>6.351000e+03</td>\n",
       "      <td>6.351000e+03</td>\n",
       "      <td>6.351000e+03</td>\n",
       "    </tr>\n",
       "    <tr>\n",
       "      <th>mean</th>\n",
       "      <td>-2.039102e-16</td>\n",
       "      <td>1.047553e-16</td>\n",
       "      <td>-3.568324e-16</td>\n",
       "    </tr>\n",
       "    <tr>\n",
       "      <th>std</th>\n",
       "      <td>1.000079e+00</td>\n",
       "      <td>1.000079e+00</td>\n",
       "      <td>1.000079e+00</td>\n",
       "    </tr>\n",
       "    <tr>\n",
       "      <th>min</th>\n",
       "      <td>-8.491043e-01</td>\n",
       "      <td>-8.829581e-01</td>\n",
       "      <td>-1.087151e+00</td>\n",
       "    </tr>\n",
       "    <tr>\n",
       "      <th>25%</th>\n",
       "      <td>-5.972520e-01</td>\n",
       "      <td>-8.682595e-01</td>\n",
       "      <td>-6.218050e-01</td>\n",
       "    </tr>\n",
       "    <tr>\n",
       "      <th>50%</th>\n",
       "      <td>-9.354741e-02</td>\n",
       "      <td>-4.309750e-01</td>\n",
       "      <td>-1.564591e-01</td>\n",
       "    </tr>\n",
       "    <tr>\n",
       "      <th>75%</th>\n",
       "      <td>4.101572e-01</td>\n",
       "      <td>7.853375e-01</td>\n",
       "      <td>3.088868e-01</td>\n",
       "    </tr>\n",
       "    <tr>\n",
       "      <th>max</th>\n",
       "      <td>3.466207e+01</td>\n",
       "      <td>3.291456e+00</td>\n",
       "      <td>2.450688e+01</td>\n",
       "    </tr>\n",
       "  </tbody>\n",
       "</table>\n",
       "</div>"
      ],
      "text/plain": [
       "        TotalVisits    Time Spent         Views\n",
       "count  6.351000e+03  6.351000e+03  6.351000e+03\n",
       "mean  -2.039102e-16  1.047553e-16 -3.568324e-16\n",
       "std    1.000079e+00  1.000079e+00  1.000079e+00\n",
       "min   -8.491043e-01 -8.829581e-01 -1.087151e+00\n",
       "25%   -5.972520e-01 -8.682595e-01 -6.218050e-01\n",
       "50%   -9.354741e-02 -4.309750e-01 -1.564591e-01\n",
       "75%    4.101572e-01  7.853375e-01  3.088868e-01\n",
       "max    3.466207e+01  3.291456e+00  2.450688e+01"
      ]
     },
     "execution_count": 72,
     "metadata": {},
     "output_type": "execute_result"
    }
   ],
   "source": [
    "x_train[['TotalVisits','Time Spent','Views']] = scaler.fit_transform(x_train[['TotalVisits','Time Spent','Views']])\n",
    "x_train[['TotalVisits','Time Spent','Views']].describe()"
   ]
  },
  {
   "cell_type": "markdown",
   "metadata": {},
   "source": [
    "### Building the model"
   ]
  },
  {
   "cell_type": "code",
   "execution_count": 73,
   "metadata": {},
   "outputs": [],
   "source": [
    "import statsmodels.api as sm"
   ]
  },
  {
   "cell_type": "code",
   "execution_count": 74,
   "metadata": {
    "scrolled": true
   },
   "outputs": [
    {
     "data": {
      "text/html": [
       "<table class=\"simpletable\">\n",
       "<caption>Generalized Linear Model Regression Results</caption>\n",
       "<tr>\n",
       "  <th>Dep. Variable:</th>       <td>Converted</td>    <th>  No. Observations:  </th>  <td>  6351</td> \n",
       "</tr>\n",
       "<tr>\n",
       "  <th>Model:</th>                  <td>GLM</td>       <th>  Df Residuals:      </th>  <td>  6294</td> \n",
       "</tr>\n",
       "<tr>\n",
       "  <th>Model Family:</th>        <td>Binomial</td>     <th>  Df Model:          </th>  <td>    56</td> \n",
       "</tr>\n",
       "<tr>\n",
       "  <th>Link Function:</th>         <td>logit</td>      <th>  Scale:             </th> <td>  1.0000</td>\n",
       "</tr>\n",
       "<tr>\n",
       "  <th>Method:</th>                <td>IRLS</td>       <th>  Log-Likelihood:    </th> <td> -2593.7</td>\n",
       "</tr>\n",
       "<tr>\n",
       "  <th>Date:</th>            <td>Sun, 06 Sep 2020</td> <th>  Deviance:          </th> <td>  5187.4</td>\n",
       "</tr>\n",
       "<tr>\n",
       "  <th>Time:</th>                <td>00:27:03</td>     <th>  Pearson chi2:      </th> <td>6.53e+03</td>\n",
       "</tr>\n",
       "<tr>\n",
       "  <th>No. Iterations:</th>         <td>21</td>        <th>                     </th>     <td> </td>   \n",
       "</tr>\n",
       "<tr>\n",
       "  <th>Covariance Type:</th>     <td>nonrobust</td>    <th>                     </th>     <td> </td>   \n",
       "</tr>\n",
       "</table>\n",
       "<table class=\"simpletable\">\n",
       "<tr>\n",
       "                        <td></td>                           <th>coef</th>     <th>std err</th>      <th>z</th>      <th>P>|z|</th>  <th>[0.025</th>    <th>0.975]</th>  \n",
       "</tr>\n",
       "<tr>\n",
       "  <th>const</th>                                         <td>    0.0919</td> <td>    1.266</td> <td>    0.073</td> <td> 0.942</td> <td>   -2.389</td> <td>    2.573</td>\n",
       "</tr>\n",
       "<tr>\n",
       "  <th>TotalVisits</th>                                   <td>    0.1336</td> <td>    0.049</td> <td>    2.747</td> <td> 0.006</td> <td>    0.038</td> <td>    0.229</td>\n",
       "</tr>\n",
       "<tr>\n",
       "  <th>Time Spent</th>                                    <td>    1.0790</td> <td>    0.041</td> <td>   26.584</td> <td> 0.000</td> <td>    0.999</td> <td>    1.159</td>\n",
       "</tr>\n",
       "<tr>\n",
       "  <th>Views</th>                                         <td>   -0.2119</td> <td>    0.057</td> <td>   -3.716</td> <td> 0.000</td> <td>   -0.324</td> <td>   -0.100</td>\n",
       "</tr>\n",
       "<tr>\n",
       "  <th>Free Copy</th>                                     <td>   -0.2042</td> <td>    0.109</td> <td>   -1.882</td> <td> 0.060</td> <td>   -0.417</td> <td>    0.009</td>\n",
       "</tr>\n",
       "<tr>\n",
       "  <th>Lead Origin_Landing Page Submission</th>           <td>   -1.0035</td> <td>    0.139</td> <td>   -7.243</td> <td> 0.000</td> <td>   -1.275</td> <td>   -0.732</td>\n",
       "</tr>\n",
       "<tr>\n",
       "  <th>Lead Origin_Lead Add Form</th>                     <td>    1.6567</td> <td>    0.963</td> <td>    1.721</td> <td> 0.085</td> <td>   -0.230</td> <td>    3.544</td>\n",
       "</tr>\n",
       "<tr>\n",
       "  <th>Lead Origin_Lead Import</th>                       <td>    0.5813</td> <td>    0.824</td> <td>    0.705</td> <td> 0.481</td> <td>   -1.034</td> <td>    2.197</td>\n",
       "</tr>\n",
       "<tr>\n",
       "  <th>Lead Source_Google</th>                            <td>    0.3079</td> <td>    0.115</td> <td>    2.667</td> <td> 0.008</td> <td>    0.082</td> <td>    0.534</td>\n",
       "</tr>\n",
       "<tr>\n",
       "  <th>Lead Source_Olark Chat</th>                        <td>    1.2734</td> <td>    0.164</td> <td>    7.745</td> <td> 0.000</td> <td>    0.951</td> <td>    1.596</td>\n",
       "</tr>\n",
       "<tr>\n",
       "  <th>Lead Source_Organic Search</th>                    <td>    0.3645</td> <td>    0.131</td> <td>    2.778</td> <td> 0.005</td> <td>    0.107</td> <td>    0.622</td>\n",
       "</tr>\n",
       "<tr>\n",
       "  <th>Lead Source_Others</th>                            <td>    0.2246</td> <td>    0.637</td> <td>    0.352</td> <td> 0.725</td> <td>   -1.025</td> <td>    1.474</td>\n",
       "</tr>\n",
       "<tr>\n",
       "  <th>Lead Source_Reference</th>                         <td>    1.8985</td> <td>    0.990</td> <td>    1.917</td> <td> 0.055</td> <td>   -0.043</td> <td>    3.840</td>\n",
       "</tr>\n",
       "<tr>\n",
       "  <th>Lead Source_Referral Sites</th>                    <td>    0.2491</td> <td>    0.333</td> <td>    0.747</td> <td> 0.455</td> <td>   -0.404</td> <td>    0.902</td>\n",
       "</tr>\n",
       "<tr>\n",
       "  <th>Lead Source_Welingak Website</th>                  <td>    4.9277</td> <td>    1.398</td> <td>    3.524</td> <td> 0.000</td> <td>    2.187</td> <td>    7.669</td>\n",
       "</tr>\n",
       "<tr>\n",
       "  <th>Last Activity_Email Bounced</th>                   <td>   -1.2011</td> <td>    0.432</td> <td>   -2.778</td> <td> 0.005</td> <td>   -2.049</td> <td>   -0.354</td>\n",
       "</tr>\n",
       "<tr>\n",
       "  <th>Last Activity_Email Link Clicked</th>              <td>    0.7214</td> <td>    0.394</td> <td>    1.829</td> <td> 0.067</td> <td>   -0.052</td> <td>    1.495</td>\n",
       "</tr>\n",
       "<tr>\n",
       "  <th>Last Activity_Email Opened</th>                    <td>    1.0822</td> <td>    0.239</td> <td>    4.530</td> <td> 0.000</td> <td>    0.614</td> <td>    1.550</td>\n",
       "</tr>\n",
       "<tr>\n",
       "  <th>Last Activity_Form Submitted on Website</th>       <td>   -0.1180</td> <td>    0.404</td> <td>   -0.292</td> <td> 0.770</td> <td>   -0.910</td> <td>    0.673</td>\n",
       "</tr>\n",
       "<tr>\n",
       "  <th>Last Activity_Olark Chat Conversation</th>         <td>   -0.3329</td> <td>    0.269</td> <td>   -1.235</td> <td> 0.217</td> <td>   -0.861</td> <td>    0.195</td>\n",
       "</tr>\n",
       "<tr>\n",
       "  <th>Last Activity_Others</th>                          <td>    0.9195</td> <td>    0.387</td> <td>    2.376</td> <td> 0.018</td> <td>    0.161</td> <td>    1.678</td>\n",
       "</tr>\n",
       "<tr>\n",
       "  <th>Last Activity_Page Visited on Website</th>         <td>    0.1932</td> <td>    0.299</td> <td>    0.645</td> <td> 0.519</td> <td>   -0.394</td> <td>    0.780</td>\n",
       "</tr>\n",
       "<tr>\n",
       "  <th>Last Activity_SMS Sent</th>                        <td>    1.1685</td> <td>    0.241</td> <td>    4.858</td> <td> 0.000</td> <td>    0.697</td> <td>    1.640</td>\n",
       "</tr>\n",
       "<tr>\n",
       "  <th>Specialization_Business Administration</th>        <td>   -0.3302</td> <td>    0.236</td> <td>   -1.401</td> <td> 0.161</td> <td>   -0.792</td> <td>    0.132</td>\n",
       "</tr>\n",
       "<tr>\n",
       "  <th>Specialization_E-Business</th>                     <td>   -0.1604</td> <td>    0.477</td> <td>   -0.336</td> <td> 0.737</td> <td>   -1.096</td> <td>    0.775</td>\n",
       "</tr>\n",
       "<tr>\n",
       "  <th>Specialization_E-COMMERCE</th>                     <td>   -0.4092</td> <td>    0.365</td> <td>   -1.121</td> <td> 0.262</td> <td>   -1.125</td> <td>    0.306</td>\n",
       "</tr>\n",
       "<tr>\n",
       "  <th>Specialization_Finance Management</th>             <td>   -0.2231</td> <td>    0.203</td> <td>   -1.100</td> <td> 0.271</td> <td>   -0.620</td> <td>    0.174</td>\n",
       "</tr>\n",
       "<tr>\n",
       "  <th>Specialization_Healthcare Management</th>          <td>   -0.5662</td> <td>    0.327</td> <td>   -1.731</td> <td> 0.083</td> <td>   -1.207</td> <td>    0.075</td>\n",
       "</tr>\n",
       "<tr>\n",
       "  <th>Specialization_Hospitality Management</th>         <td>   -0.9426</td> <td>    0.374</td> <td>   -2.523</td> <td> 0.012</td> <td>   -1.675</td> <td>   -0.210</td>\n",
       "</tr>\n",
       "<tr>\n",
       "  <th>Specialization_Human Resource Management</th>      <td>   -0.2482</td> <td>    0.207</td> <td>   -1.201</td> <td> 0.230</td> <td>   -0.653</td> <td>    0.157</td>\n",
       "</tr>\n",
       "<tr>\n",
       "  <th>Specialization_IT Projects Management</th>         <td>   -0.2379</td> <td>    0.246</td> <td>   -0.966</td> <td> 0.334</td> <td>   -0.721</td> <td>    0.245</td>\n",
       "</tr>\n",
       "<tr>\n",
       "  <th>Specialization_International Business</th>         <td>   -0.6027</td> <td>    0.292</td> <td>   -2.065</td> <td> 0.039</td> <td>   -1.175</td> <td>   -0.031</td>\n",
       "</tr>\n",
       "<tr>\n",
       "  <th>Specialization_Marketing Management</th>           <td>   -0.1557</td> <td>    0.208</td> <td>   -0.750</td> <td> 0.453</td> <td>   -0.563</td> <td>    0.251</td>\n",
       "</tr>\n",
       "<tr>\n",
       "  <th>Specialization_Media and Advertising</th>          <td>   -0.1762</td> <td>    0.282</td> <td>   -0.624</td> <td> 0.533</td> <td>   -0.730</td> <td>    0.377</td>\n",
       "</tr>\n",
       "<tr>\n",
       "  <th>Specialization_Operations Management</th>          <td>   -0.1722</td> <td>    0.230</td> <td>   -0.748</td> <td> 0.454</td> <td>   -0.623</td> <td>    0.279</td>\n",
       "</tr>\n",
       "<tr>\n",
       "  <th>Specialization_Others</th>                         <td>   -1.6221</td> <td>    0.214</td> <td>   -7.594</td> <td> 0.000</td> <td>   -2.041</td> <td>   -1.203</td>\n",
       "</tr>\n",
       "<tr>\n",
       "  <th>Specialization_Retail Management</th>              <td>   -0.7852</td> <td>    0.362</td> <td>   -2.171</td> <td> 0.030</td> <td>   -1.494</td> <td>   -0.076</td>\n",
       "</tr>\n",
       "<tr>\n",
       "  <th>Specialization_Rural and Agribusiness</th>         <td>   -0.3307</td> <td>    0.412</td> <td>   -0.803</td> <td> 0.422</td> <td>   -1.139</td> <td>    0.477</td>\n",
       "</tr>\n",
       "<tr>\n",
       "  <th>Specialization_Services Excellence</th>            <td>   -0.6241</td> <td>    0.615</td> <td>   -1.014</td> <td> 0.310</td> <td>   -1.830</td> <td>    0.582</td>\n",
       "</tr>\n",
       "<tr>\n",
       "  <th>Specialization_Supply Chain Management</th>        <td>    0.0453</td> <td>    0.243</td> <td>    0.186</td> <td> 0.852</td> <td>   -0.432</td> <td>    0.522</td>\n",
       "</tr>\n",
       "<tr>\n",
       "  <th>Specialization_Travel and Tourism</th>             <td>   -0.1464</td> <td>    0.298</td> <td>   -0.490</td> <td> 0.624</td> <td>   -0.731</td> <td>    0.439</td>\n",
       "</tr>\n",
       "<tr>\n",
       "  <th>Occupation_Housewife</th>                          <td>   21.6405</td> <td> 1.33e+04</td> <td>    0.002</td> <td> 0.999</td> <td> -2.6e+04</td> <td> 2.61e+04</td>\n",
       "</tr>\n",
       "<tr>\n",
       "  <th>Occupation_Other</th>                              <td>   -0.3572</td> <td>    1.397</td> <td>   -0.256</td> <td> 0.798</td> <td>   -3.095</td> <td>    2.380</td>\n",
       "</tr>\n",
       "<tr>\n",
       "  <th>Occupation_Student</th>                            <td>   -0.6954</td> <td>    1.181</td> <td>   -0.589</td> <td> 0.556</td> <td>   -3.011</td> <td>    1.620</td>\n",
       "</tr>\n",
       "<tr>\n",
       "  <th>Occupation_Unemployed</th>                         <td>   -1.3254</td> <td>    1.160</td> <td>   -1.143</td> <td> 0.253</td> <td>   -3.598</td> <td>    0.947</td>\n",
       "</tr>\n",
       "<tr>\n",
       "  <th>Occupation_Working Professional</th>               <td>    1.2457</td> <td>    1.174</td> <td>    1.061</td> <td> 0.289</td> <td>   -1.055</td> <td>    3.546</td>\n",
       "</tr>\n",
       "<tr>\n",
       "  <th>City_Other Cities</th>                             <td>    0.1013</td> <td>    0.138</td> <td>    0.733</td> <td> 0.463</td> <td>   -0.169</td> <td>    0.372</td>\n",
       "</tr>\n",
       "<tr>\n",
       "  <th>City_Other Cities of Maharashtra</th>              <td>    0.0349</td> <td>    0.163</td> <td>    0.214</td> <td> 0.830</td> <td>   -0.285</td> <td>    0.355</td>\n",
       "</tr>\n",
       "<tr>\n",
       "  <th>City_Other Metro Cities</th>                       <td>    0.1151</td> <td>    0.176</td> <td>    0.652</td> <td> 0.514</td> <td>   -0.231</td> <td>    0.461</td>\n",
       "</tr>\n",
       "<tr>\n",
       "  <th>City_Thane & Outskirts</th>                        <td>    0.1345</td> <td>    0.129</td> <td>    1.044</td> <td> 0.296</td> <td>   -0.118</td> <td>    0.387</td>\n",
       "</tr>\n",
       "<tr>\n",
       "  <th>City_Tier II Cities</th>                           <td>   -0.2190</td> <td>    0.390</td> <td>   -0.562</td> <td> 0.574</td> <td>   -0.983</td> <td>    0.545</td>\n",
       "</tr>\n",
       "<tr>\n",
       "  <th>Last Notable Activity_Email Opened</th>            <td>    0.0418</td> <td>    0.447</td> <td>    0.094</td> <td> 0.925</td> <td>   -0.835</td> <td>    0.919</td>\n",
       "</tr>\n",
       "<tr>\n",
       "  <th>Last Notable Activity_Modified</th>                <td>   -0.0769</td> <td>    0.425</td> <td>   -0.181</td> <td> 0.856</td> <td>   -0.910</td> <td>    0.756</td>\n",
       "</tr>\n",
       "<tr>\n",
       "  <th>Last Notable Activity_Olark Chat Conversation</th> <td>    0.1227</td> <td>    0.554</td> <td>    0.221</td> <td> 0.825</td> <td>   -0.964</td> <td>    1.209</td>\n",
       "</tr>\n",
       "<tr>\n",
       "  <th>Last Notable Activity_Others</th>                  <td>    0.8158</td> <td>    0.577</td> <td>    1.414</td> <td> 0.157</td> <td>   -0.315</td> <td>    1.946</td>\n",
       "</tr>\n",
       "<tr>\n",
       "  <th>Last Notable Activity_Page Visited on Website</th> <td>    0.2597</td> <td>    0.518</td> <td>    0.502</td> <td> 0.616</td> <td>   -0.755</td> <td>    1.274</td>\n",
       "</tr>\n",
       "<tr>\n",
       "  <th>Last Notable Activity_SMS Sent</th>                <td>    1.3400</td> <td>    0.449</td> <td>    2.982</td> <td> 0.003</td> <td>    0.459</td> <td>    2.221</td>\n",
       "</tr>\n",
       "</table>"
      ],
      "text/plain": [
       "<class 'statsmodels.iolib.summary.Summary'>\n",
       "\"\"\"\n",
       "                 Generalized Linear Model Regression Results                  \n",
       "==============================================================================\n",
       "Dep. Variable:              Converted   No. Observations:                 6351\n",
       "Model:                            GLM   Df Residuals:                     6294\n",
       "Model Family:                Binomial   Df Model:                           56\n",
       "Link Function:                  logit   Scale:                          1.0000\n",
       "Method:                          IRLS   Log-Likelihood:                -2593.7\n",
       "Date:                Sun, 06 Sep 2020   Deviance:                       5187.4\n",
       "Time:                        00:27:03   Pearson chi2:                 6.53e+03\n",
       "No. Iterations:                    21                                         \n",
       "Covariance Type:            nonrobust                                         \n",
       "=================================================================================================================\n",
       "                                                    coef    std err          z      P>|z|      [0.025      0.975]\n",
       "-----------------------------------------------------------------------------------------------------------------\n",
       "const                                             0.0919      1.266      0.073      0.942      -2.389       2.573\n",
       "TotalVisits                                       0.1336      0.049      2.747      0.006       0.038       0.229\n",
       "Time Spent                                        1.0790      0.041     26.584      0.000       0.999       1.159\n",
       "Views                                            -0.2119      0.057     -3.716      0.000      -0.324      -0.100\n",
       "Free Copy                                        -0.2042      0.109     -1.882      0.060      -0.417       0.009\n",
       "Lead Origin_Landing Page Submission              -1.0035      0.139     -7.243      0.000      -1.275      -0.732\n",
       "Lead Origin_Lead Add Form                         1.6567      0.963      1.721      0.085      -0.230       3.544\n",
       "Lead Origin_Lead Import                           0.5813      0.824      0.705      0.481      -1.034       2.197\n",
       "Lead Source_Google                                0.3079      0.115      2.667      0.008       0.082       0.534\n",
       "Lead Source_Olark Chat                            1.2734      0.164      7.745      0.000       0.951       1.596\n",
       "Lead Source_Organic Search                        0.3645      0.131      2.778      0.005       0.107       0.622\n",
       "Lead Source_Others                                0.2246      0.637      0.352      0.725      -1.025       1.474\n",
       "Lead Source_Reference                             1.8985      0.990      1.917      0.055      -0.043       3.840\n",
       "Lead Source_Referral Sites                        0.2491      0.333      0.747      0.455      -0.404       0.902\n",
       "Lead Source_Welingak Website                      4.9277      1.398      3.524      0.000       2.187       7.669\n",
       "Last Activity_Email Bounced                      -1.2011      0.432     -2.778      0.005      -2.049      -0.354\n",
       "Last Activity_Email Link Clicked                  0.7214      0.394      1.829      0.067      -0.052       1.495\n",
       "Last Activity_Email Opened                        1.0822      0.239      4.530      0.000       0.614       1.550\n",
       "Last Activity_Form Submitted on Website          -0.1180      0.404     -0.292      0.770      -0.910       0.673\n",
       "Last Activity_Olark Chat Conversation            -0.3329      0.269     -1.235      0.217      -0.861       0.195\n",
       "Last Activity_Others                              0.9195      0.387      2.376      0.018       0.161       1.678\n",
       "Last Activity_Page Visited on Website             0.1932      0.299      0.645      0.519      -0.394       0.780\n",
       "Last Activity_SMS Sent                            1.1685      0.241      4.858      0.000       0.697       1.640\n",
       "Specialization_Business Administration           -0.3302      0.236     -1.401      0.161      -0.792       0.132\n",
       "Specialization_E-Business                        -0.1604      0.477     -0.336      0.737      -1.096       0.775\n",
       "Specialization_E-COMMERCE                        -0.4092      0.365     -1.121      0.262      -1.125       0.306\n",
       "Specialization_Finance Management                -0.2231      0.203     -1.100      0.271      -0.620       0.174\n",
       "Specialization_Healthcare Management             -0.5662      0.327     -1.731      0.083      -1.207       0.075\n",
       "Specialization_Hospitality Management            -0.9426      0.374     -2.523      0.012      -1.675      -0.210\n",
       "Specialization_Human Resource Management         -0.2482      0.207     -1.201      0.230      -0.653       0.157\n",
       "Specialization_IT Projects Management            -0.2379      0.246     -0.966      0.334      -0.721       0.245\n",
       "Specialization_International Business            -0.6027      0.292     -2.065      0.039      -1.175      -0.031\n",
       "Specialization_Marketing Management              -0.1557      0.208     -0.750      0.453      -0.563       0.251\n",
       "Specialization_Media and Advertising             -0.1762      0.282     -0.624      0.533      -0.730       0.377\n",
       "Specialization_Operations Management             -0.1722      0.230     -0.748      0.454      -0.623       0.279\n",
       "Specialization_Others                            -1.6221      0.214     -7.594      0.000      -2.041      -1.203\n",
       "Specialization_Retail Management                 -0.7852      0.362     -2.171      0.030      -1.494      -0.076\n",
       "Specialization_Rural and Agribusiness            -0.3307      0.412     -0.803      0.422      -1.139       0.477\n",
       "Specialization_Services Excellence               -0.6241      0.615     -1.014      0.310      -1.830       0.582\n",
       "Specialization_Supply Chain Management            0.0453      0.243      0.186      0.852      -0.432       0.522\n",
       "Specialization_Travel and Tourism                -0.1464      0.298     -0.490      0.624      -0.731       0.439\n",
       "Occupation_Housewife                             21.6405   1.33e+04      0.002      0.999    -2.6e+04    2.61e+04\n",
       "Occupation_Other                                 -0.3572      1.397     -0.256      0.798      -3.095       2.380\n",
       "Occupation_Student                               -0.6954      1.181     -0.589      0.556      -3.011       1.620\n",
       "Occupation_Unemployed                            -1.3254      1.160     -1.143      0.253      -3.598       0.947\n",
       "Occupation_Working Professional                   1.2457      1.174      1.061      0.289      -1.055       3.546\n",
       "City_Other Cities                                 0.1013      0.138      0.733      0.463      -0.169       0.372\n",
       "City_Other Cities of Maharashtra                  0.0349      0.163      0.214      0.830      -0.285       0.355\n",
       "City_Other Metro Cities                           0.1151      0.176      0.652      0.514      -0.231       0.461\n",
       "City_Thane & Outskirts                            0.1345      0.129      1.044      0.296      -0.118       0.387\n",
       "City_Tier II Cities                              -0.2190      0.390     -0.562      0.574      -0.983       0.545\n",
       "Last Notable Activity_Email Opened                0.0418      0.447      0.094      0.925      -0.835       0.919\n",
       "Last Notable Activity_Modified                   -0.0769      0.425     -0.181      0.856      -0.910       0.756\n",
       "Last Notable Activity_Olark Chat Conversation     0.1227      0.554      0.221      0.825      -0.964       1.209\n",
       "Last Notable Activity_Others                      0.8158      0.577      1.414      0.157      -0.315       1.946\n",
       "Last Notable Activity_Page Visited on Website     0.2597      0.518      0.502      0.616      -0.755       1.274\n",
       "Last Notable Activity_SMS Sent                    1.3400      0.449      2.982      0.003       0.459       2.221\n",
       "=================================================================================================================\n",
       "\"\"\""
      ]
     },
     "execution_count": 74,
     "metadata": {},
     "output_type": "execute_result"
    }
   ],
   "source": [
    "#Logistic Regression Model\n",
    "m1 = sm.GLM(y_train,sm.add_constant(x_train), family = sm.families.Binomial())\n",
    "m1.fit().summary()"
   ]
  },
  {
   "cell_type": "markdown",
   "metadata": {},
   "source": [
    "Now we shall work towards refining this model"
   ]
  },
  {
   "cell_type": "markdown",
   "metadata": {},
   "source": [
    "### Feature selection using RFE"
   ]
  },
  {
   "cell_type": "code",
   "execution_count": 75,
   "metadata": {
    "scrolled": true
   },
   "outputs": [
    {
     "data": {
      "text/plain": [
       "array([False,  True, False, False,  True,  True, False, False,  True,\n",
       "       False, False,  True, False,  True,  True,  True,  True, False,\n",
       "        True,  True, False,  True, False, False, False, False, False,\n",
       "        True, False, False, False, False, False, False,  True, False,\n",
       "       False, False, False, False,  True, False,  True,  True,  True,\n",
       "       False, False, False, False, False, False, False, False,  True,\n",
       "       False,  True])"
      ]
     },
     "execution_count": 75,
     "metadata": {},
     "output_type": "execute_result"
    }
   ],
   "source": [
    "from sklearn.linear_model import LogisticRegression\n",
    "logreg = LogisticRegression()\n",
    "from sklearn.feature_selection import RFE\n",
    "rfe = RFE(logreg, 20)             # running RFE with 20 variables as output\n",
    "rfe = rfe.fit(x_train, y_train)\n",
    "rfe.support_"
   ]
  },
  {
   "cell_type": "code",
   "execution_count": 76,
   "metadata": {},
   "outputs": [
    {
     "data": {
      "text/plain": [
       "[('TotalVisits', False, 20),\n",
       " ('Time Spent', True, 1),\n",
       " ('Views', False, 18),\n",
       " ('Free Copy', False, 14),\n",
       " ('Lead Origin_Landing Page Submission', True, 1),\n",
       " ('Lead Origin_Lead Add Form', True, 1),\n",
       " ('Lead Origin_Lead Import', False, 3),\n",
       " ('Lead Source_Google', False, 11),\n",
       " ('Lead Source_Olark Chat', True, 1),\n",
       " ('Lead Source_Organic Search', False, 12),\n",
       " ('Lead Source_Others', False, 30),\n",
       " ('Lead Source_Reference', True, 1),\n",
       " ('Lead Source_Referral Sites', False, 17),\n",
       " ('Lead Source_Welingak Website', True, 1),\n",
       " ('Last Activity_Email Bounced', True, 1),\n",
       " ('Last Activity_Email Link Clicked', True, 1),\n",
       " ('Last Activity_Email Opened', True, 1),\n",
       " ('Last Activity_Form Submitted on Website', False, 21),\n",
       " ('Last Activity_Olark Chat Conversation', True, 1),\n",
       " ('Last Activity_Others', True, 1),\n",
       " ('Last Activity_Page Visited on Website', False, 16),\n",
       " ('Last Activity_SMS Sent', True, 1),\n",
       " ('Specialization_Business Administration', False, 19),\n",
       " ('Specialization_E-Business', False, 35),\n",
       " ('Specialization_E-COMMERCE', False, 15),\n",
       " ('Specialization_Finance Management', False, 29),\n",
       " ('Specialization_Healthcare Management', False, 8),\n",
       " ('Specialization_Hospitality Management', True, 1),\n",
       " ('Specialization_Human Resource Management', False, 28),\n",
       " ('Specialization_IT Projects Management', False, 27),\n",
       " ('Specialization_International Business', False, 4),\n",
       " ('Specialization_Marketing Management', False, 34),\n",
       " ('Specialization_Media and Advertising', False, 36),\n",
       " ('Specialization_Operations Management', False, 33),\n",
       " ('Specialization_Others', True, 1),\n",
       " ('Specialization_Retail Management', False, 2),\n",
       " ('Specialization_Rural and Agribusiness', False, 25),\n",
       " ('Specialization_Services Excellence', False, 5),\n",
       " ('Specialization_Supply Chain Management', False, 13),\n",
       " ('Specialization_Travel and Tourism', False, 37),\n",
       " ('Occupation_Housewife', True, 1),\n",
       " ('Occupation_Other', False, 7),\n",
       " ('Occupation_Student', True, 1),\n",
       " ('Occupation_Unemployed', True, 1),\n",
       " ('Occupation_Working Professional', True, 1),\n",
       " ('City_Other Cities', False, 26),\n",
       " ('City_Other Cities of Maharashtra', False, 31),\n",
       " ('City_Other Metro Cities', False, 24),\n",
       " ('City_Thane & Outskirts', False, 22),\n",
       " ('City_Tier II Cities', False, 6),\n",
       " ('Last Notable Activity_Email Opened', False, 10),\n",
       " ('Last Notable Activity_Modified', False, 9),\n",
       " ('Last Notable Activity_Olark Chat Conversation', False, 23),\n",
       " ('Last Notable Activity_Others', True, 1),\n",
       " ('Last Notable Activity_Page Visited on Website', False, 32),\n",
       " ('Last Notable Activity_SMS Sent', True, 1)]"
      ]
     },
     "execution_count": 76,
     "metadata": {},
     "output_type": "execute_result"
    }
   ],
   "source": [
    "list(zip(x_train.columns, rfe.support_, rfe.ranking_))"
   ]
  },
  {
   "cell_type": "code",
   "execution_count": 77,
   "metadata": {},
   "outputs": [
    {
     "data": {
      "text/plain": [
       "Index(['Time Spent', 'Lead Origin_Landing Page Submission',\n",
       "       'Lead Origin_Lead Add Form', 'Lead Source_Olark Chat',\n",
       "       'Lead Source_Reference', 'Lead Source_Welingak Website',\n",
       "       'Last Activity_Email Bounced', 'Last Activity_Email Link Clicked',\n",
       "       'Last Activity_Email Opened', 'Last Activity_Olark Chat Conversation',\n",
       "       'Last Activity_Others', 'Last Activity_SMS Sent',\n",
       "       'Specialization_Hospitality Management', 'Specialization_Others',\n",
       "       'Occupation_Housewife', 'Occupation_Student', 'Occupation_Unemployed',\n",
       "       'Occupation_Working Professional', 'Last Notable Activity_Others',\n",
       "       'Last Notable Activity_SMS Sent'],\n",
       "      dtype='object')"
      ]
     },
     "execution_count": 77,
     "metadata": {},
     "output_type": "execute_result"
    }
   ],
   "source": [
    "#columns chosen upon running RFE\n",
    "cols=x_train.columns[rfe.support_]\n",
    "cols"
   ]
  },
  {
   "cell_type": "markdown",
   "metadata": {},
   "source": [
    "#### Rebuilding the model and assessing using sm"
   ]
  },
  {
   "cell_type": "code",
   "execution_count": 78,
   "metadata": {},
   "outputs": [
    {
     "data": {
      "text/html": [
       "<table class=\"simpletable\">\n",
       "<caption>Generalized Linear Model Regression Results</caption>\n",
       "<tr>\n",
       "  <th>Dep. Variable:</th>       <td>Converted</td>    <th>  No. Observations:  </th>  <td>  6351</td> \n",
       "</tr>\n",
       "<tr>\n",
       "  <th>Model:</th>                  <td>GLM</td>       <th>  Df Residuals:      </th>  <td>  6330</td> \n",
       "</tr>\n",
       "<tr>\n",
       "  <th>Model Family:</th>        <td>Binomial</td>     <th>  Df Model:          </th>  <td>    20</td> \n",
       "</tr>\n",
       "<tr>\n",
       "  <th>Link Function:</th>         <td>logit</td>      <th>  Scale:             </th> <td>  1.0000</td>\n",
       "</tr>\n",
       "<tr>\n",
       "  <th>Method:</th>                <td>IRLS</td>       <th>  Log-Likelihood:    </th> <td> -2625.6</td>\n",
       "</tr>\n",
       "<tr>\n",
       "  <th>Date:</th>            <td>Sun, 06 Sep 2020</td> <th>  Deviance:          </th> <td>  5251.1</td>\n",
       "</tr>\n",
       "<tr>\n",
       "  <th>Time:</th>                <td>00:27:08</td>     <th>  Pearson chi2:      </th> <td>6.53e+03</td>\n",
       "</tr>\n",
       "<tr>\n",
       "  <th>No. Iterations:</th>         <td>21</td>        <th>                     </th>     <td> </td>   \n",
       "</tr>\n",
       "<tr>\n",
       "  <th>Covariance Type:</th>     <td>nonrobust</td>    <th>                     </th>     <td> </td>   \n",
       "</tr>\n",
       "</table>\n",
       "<table class=\"simpletable\">\n",
       "<tr>\n",
       "                    <td></td>                       <th>coef</th>     <th>std err</th>      <th>z</th>      <th>P>|z|</th>  <th>[0.025</th>    <th>0.975]</th>  \n",
       "</tr>\n",
       "<tr>\n",
       "  <th>const</th>                                 <td>   -0.1122</td> <td>    0.653</td> <td>   -0.172</td> <td> 0.863</td> <td>   -1.392</td> <td>    1.167</td>\n",
       "</tr>\n",
       "<tr>\n",
       "  <th>Time Spent</th>                            <td>    1.0804</td> <td>    0.040</td> <td>   27.023</td> <td> 0.000</td> <td>    1.002</td> <td>    1.159</td>\n",
       "</tr>\n",
       "<tr>\n",
       "  <th>Lead Origin_Landing Page Submission</th>   <td>   -1.2272</td> <td>    0.128</td> <td>   -9.569</td> <td> 0.000</td> <td>   -1.479</td> <td>   -0.976</td>\n",
       "</tr>\n",
       "<tr>\n",
       "  <th>Lead Origin_Lead Add Form</th>             <td>    1.7938</td> <td>    0.838</td> <td>    2.141</td> <td> 0.032</td> <td>    0.152</td> <td>    3.436</td>\n",
       "</tr>\n",
       "<tr>\n",
       "  <th>Lead Source_Olark Chat</th>                <td>    1.0865</td> <td>    0.123</td> <td>    8.809</td> <td> 0.000</td> <td>    0.845</td> <td>    1.328</td>\n",
       "</tr>\n",
       "<tr>\n",
       "  <th>Lead Source_Reference</th>                 <td>    1.5865</td> <td>    0.866</td> <td>    1.831</td> <td> 0.067</td> <td>   -0.111</td> <td>    3.284</td>\n",
       "</tr>\n",
       "<tr>\n",
       "  <th>Lead Source_Welingak Website</th>          <td>    4.6260</td> <td>    1.314</td> <td>    3.520</td> <td> 0.000</td> <td>    2.051</td> <td>    7.202</td>\n",
       "</tr>\n",
       "<tr>\n",
       "  <th>Last Activity_Email Bounced</th>           <td>   -1.4156</td> <td>    0.396</td> <td>   -3.572</td> <td> 0.000</td> <td>   -2.192</td> <td>   -0.639</td>\n",
       "</tr>\n",
       "<tr>\n",
       "  <th>Last Activity_Email Link Clicked</th>      <td>    0.5335</td> <td>    0.232</td> <td>    2.304</td> <td> 0.021</td> <td>    0.080</td> <td>    0.987</td>\n",
       "</tr>\n",
       "<tr>\n",
       "  <th>Last Activity_Email Opened</th>            <td>    0.9302</td> <td>    0.123</td> <td>    7.561</td> <td> 0.000</td> <td>    0.689</td> <td>    1.171</td>\n",
       "</tr>\n",
       "<tr>\n",
       "  <th>Last Activity_Olark Chat Conversation</th> <td>   -0.5155</td> <td>    0.193</td> <td>   -2.672</td> <td> 0.008</td> <td>   -0.894</td> <td>   -0.137</td>\n",
       "</tr>\n",
       "<tr>\n",
       "  <th>Last Activity_Others</th>                  <td>    0.7126</td> <td>    0.343</td> <td>    2.075</td> <td> 0.038</td> <td>    0.039</td> <td>    1.386</td>\n",
       "</tr>\n",
       "<tr>\n",
       "  <th>Last Activity_SMS Sent</th>                <td>    0.9181</td> <td>    0.171</td> <td>    5.369</td> <td> 0.000</td> <td>    0.583</td> <td>    1.253</td>\n",
       "</tr>\n",
       "<tr>\n",
       "  <th>Specialization_Hospitality Management</th> <td>   -0.6686</td> <td>    0.332</td> <td>   -2.013</td> <td> 0.044</td> <td>   -1.319</td> <td>   -0.018</td>\n",
       "</tr>\n",
       "<tr>\n",
       "  <th>Specialization_Others</th>                 <td>   -1.3531</td> <td>    0.126</td> <td>  -10.770</td> <td> 0.000</td> <td>   -1.599</td> <td>   -1.107</td>\n",
       "</tr>\n",
       "<tr>\n",
       "  <th>Occupation_Housewife</th>                  <td>   22.0642</td> <td> 1.33e+04</td> <td>    0.002</td> <td> 0.999</td> <td> -2.6e+04</td> <td> 2.61e+04</td>\n",
       "</tr>\n",
       "<tr>\n",
       "  <th>Occupation_Student</th>                    <td>   -0.3173</td> <td>    0.680</td> <td>   -0.466</td> <td> 0.641</td> <td>   -1.651</td> <td>    1.016</td>\n",
       "</tr>\n",
       "<tr>\n",
       "  <th>Occupation_Unemployed</th>                 <td>   -0.9041</td> <td>    0.643</td> <td>   -1.405</td> <td> 0.160</td> <td>   -2.165</td> <td>    0.357</td>\n",
       "</tr>\n",
       "<tr>\n",
       "  <th>Occupation_Working Professional</th>       <td>    1.6648</td> <td>    0.669</td> <td>    2.489</td> <td> 0.013</td> <td>    0.354</td> <td>    2.976</td>\n",
       "</tr>\n",
       "<tr>\n",
       "  <th>Last Notable Activity_Others</th>          <td>    0.7964</td> <td>    0.386</td> <td>    2.064</td> <td> 0.039</td> <td>    0.040</td> <td>    1.553</td>\n",
       "</tr>\n",
       "<tr>\n",
       "  <th>Last Notable Activity_SMS Sent</th>        <td>    1.3854</td> <td>    0.147</td> <td>    9.454</td> <td> 0.000</td> <td>    1.098</td> <td>    1.673</td>\n",
       "</tr>\n",
       "</table>"
      ],
      "text/plain": [
       "<class 'statsmodels.iolib.summary.Summary'>\n",
       "\"\"\"\n",
       "                 Generalized Linear Model Regression Results                  \n",
       "==============================================================================\n",
       "Dep. Variable:              Converted   No. Observations:                 6351\n",
       "Model:                            GLM   Df Residuals:                     6330\n",
       "Model Family:                Binomial   Df Model:                           20\n",
       "Link Function:                  logit   Scale:                          1.0000\n",
       "Method:                          IRLS   Log-Likelihood:                -2625.6\n",
       "Date:                Sun, 06 Sep 2020   Deviance:                       5251.1\n",
       "Time:                        00:27:08   Pearson chi2:                 6.53e+03\n",
       "No. Iterations:                    21                                         \n",
       "Covariance Type:            nonrobust                                         \n",
       "=========================================================================================================\n",
       "                                            coef    std err          z      P>|z|      [0.025      0.975]\n",
       "---------------------------------------------------------------------------------------------------------\n",
       "const                                    -0.1122      0.653     -0.172      0.863      -1.392       1.167\n",
       "Time Spent                                1.0804      0.040     27.023      0.000       1.002       1.159\n",
       "Lead Origin_Landing Page Submission      -1.2272      0.128     -9.569      0.000      -1.479      -0.976\n",
       "Lead Origin_Lead Add Form                 1.7938      0.838      2.141      0.032       0.152       3.436\n",
       "Lead Source_Olark Chat                    1.0865      0.123      8.809      0.000       0.845       1.328\n",
       "Lead Source_Reference                     1.5865      0.866      1.831      0.067      -0.111       3.284\n",
       "Lead Source_Welingak Website              4.6260      1.314      3.520      0.000       2.051       7.202\n",
       "Last Activity_Email Bounced              -1.4156      0.396     -3.572      0.000      -2.192      -0.639\n",
       "Last Activity_Email Link Clicked          0.5335      0.232      2.304      0.021       0.080       0.987\n",
       "Last Activity_Email Opened                0.9302      0.123      7.561      0.000       0.689       1.171\n",
       "Last Activity_Olark Chat Conversation    -0.5155      0.193     -2.672      0.008      -0.894      -0.137\n",
       "Last Activity_Others                      0.7126      0.343      2.075      0.038       0.039       1.386\n",
       "Last Activity_SMS Sent                    0.9181      0.171      5.369      0.000       0.583       1.253\n",
       "Specialization_Hospitality Management    -0.6686      0.332     -2.013      0.044      -1.319      -0.018\n",
       "Specialization_Others                    -1.3531      0.126    -10.770      0.000      -1.599      -1.107\n",
       "Occupation_Housewife                     22.0642   1.33e+04      0.002      0.999    -2.6e+04    2.61e+04\n",
       "Occupation_Student                       -0.3173      0.680     -0.466      0.641      -1.651       1.016\n",
       "Occupation_Unemployed                    -0.9041      0.643     -1.405      0.160      -2.165       0.357\n",
       "Occupation_Working Professional           1.6648      0.669      2.489      0.013       0.354       2.976\n",
       "Last Notable Activity_Others              0.7964      0.386      2.064      0.039       0.040       1.553\n",
       "Last Notable Activity_SMS Sent            1.3854      0.147      9.454      0.000       1.098       1.673\n",
       "=========================================================================================================\n",
       "\"\"\""
      ]
     },
     "execution_count": 78,
     "metadata": {},
     "output_type": "execute_result"
    }
   ],
   "source": [
    "x_train_sm = sm.add_constant(x_train[cols])\n",
    "m2=sm.GLM(y_train,x_train_sm,family=sm.families.Binomial())\n",
    "m2.fit().summary()"
   ]
  },
  {
   "cell_type": "code",
   "execution_count": 79,
   "metadata": {},
   "outputs": [
    {
     "data": {
      "text/html": [
       "<div>\n",
       "<style scoped>\n",
       "    .dataframe tbody tr th:only-of-type {\n",
       "        vertical-align: middle;\n",
       "    }\n",
       "\n",
       "    .dataframe tbody tr th {\n",
       "        vertical-align: top;\n",
       "    }\n",
       "\n",
       "    .dataframe thead th {\n",
       "        text-align: right;\n",
       "    }\n",
       "</style>\n",
       "<table border=\"1\" class=\"dataframe\">\n",
       "  <thead>\n",
       "    <tr style=\"text-align: right;\">\n",
       "      <th></th>\n",
       "      <th>Features</th>\n",
       "      <th>VIF</th>\n",
       "    </tr>\n",
       "  </thead>\n",
       "  <tbody>\n",
       "    <tr>\n",
       "      <th>2</th>\n",
       "      <td>Lead Origin_Lead Add Form</td>\n",
       "      <td>46.19</td>\n",
       "    </tr>\n",
       "    <tr>\n",
       "      <th>4</th>\n",
       "      <td>Lead Source_Reference</td>\n",
       "      <td>35.67</td>\n",
       "    </tr>\n",
       "    <tr>\n",
       "      <th>16</th>\n",
       "      <td>Occupation_Unemployed</td>\n",
       "      <td>16.51</td>\n",
       "    </tr>\n",
       "    <tr>\n",
       "      <th>5</th>\n",
       "      <td>Lead Source_Welingak Website</td>\n",
       "      <td>11.42</td>\n",
       "    </tr>\n",
       "    <tr>\n",
       "      <th>11</th>\n",
       "      <td>Last Activity_SMS Sent</td>\n",
       "      <td>7.10</td>\n",
       "    </tr>\n",
       "    <tr>\n",
       "      <th>1</th>\n",
       "      <td>Lead Origin_Landing Page Submission</td>\n",
       "      <td>7.09</td>\n",
       "    </tr>\n",
       "    <tr>\n",
       "      <th>19</th>\n",
       "      <td>Last Notable Activity_SMS Sent</td>\n",
       "      <td>4.74</td>\n",
       "    </tr>\n",
       "    <tr>\n",
       "      <th>13</th>\n",
       "      <td>Specialization_Others</td>\n",
       "      <td>4.52</td>\n",
       "    </tr>\n",
       "    <tr>\n",
       "      <th>8</th>\n",
       "      <td>Last Activity_Email Opened</td>\n",
       "      <td>3.96</td>\n",
       "    </tr>\n",
       "    <tr>\n",
       "      <th>3</th>\n",
       "      <td>Lead Source_Olark Chat</td>\n",
       "      <td>2.40</td>\n",
       "    </tr>\n",
       "    <tr>\n",
       "      <th>9</th>\n",
       "      <td>Last Activity_Olark Chat Conversation</td>\n",
       "      <td>2.21</td>\n",
       "    </tr>\n",
       "    <tr>\n",
       "      <th>17</th>\n",
       "      <td>Occupation_Working Professional</td>\n",
       "      <td>2.18</td>\n",
       "    </tr>\n",
       "    <tr>\n",
       "      <th>10</th>\n",
       "      <td>Last Activity_Others</td>\n",
       "      <td>1.74</td>\n",
       "    </tr>\n",
       "    <tr>\n",
       "      <th>18</th>\n",
       "      <td>Last Notable Activity_Others</td>\n",
       "      <td>1.71</td>\n",
       "    </tr>\n",
       "    <tr>\n",
       "      <th>15</th>\n",
       "      <td>Occupation_Student</td>\n",
       "      <td>1.45</td>\n",
       "    </tr>\n",
       "    <tr>\n",
       "      <th>6</th>\n",
       "      <td>Last Activity_Email Bounced</td>\n",
       "      <td>1.41</td>\n",
       "    </tr>\n",
       "    <tr>\n",
       "      <th>0</th>\n",
       "      <td>Time Spent</td>\n",
       "      <td>1.32</td>\n",
       "    </tr>\n",
       "    <tr>\n",
       "      <th>7</th>\n",
       "      <td>Last Activity_Email Link Clicked</td>\n",
       "      <td>1.25</td>\n",
       "    </tr>\n",
       "    <tr>\n",
       "      <th>14</th>\n",
       "      <td>Occupation_Housewife</td>\n",
       "      <td>1.03</td>\n",
       "    </tr>\n",
       "    <tr>\n",
       "      <th>12</th>\n",
       "      <td>Specialization_Hospitality Management</td>\n",
       "      <td>1.02</td>\n",
       "    </tr>\n",
       "  </tbody>\n",
       "</table>\n",
       "</div>"
      ],
      "text/plain": [
       "                                 Features    VIF\n",
       "2               Lead Origin_Lead Add Form  46.19\n",
       "4                   Lead Source_Reference  35.67\n",
       "16                  Occupation_Unemployed  16.51\n",
       "5            Lead Source_Welingak Website  11.42\n",
       "11                 Last Activity_SMS Sent   7.10\n",
       "1     Lead Origin_Landing Page Submission   7.09\n",
       "19         Last Notable Activity_SMS Sent   4.74\n",
       "13                  Specialization_Others   4.52\n",
       "8              Last Activity_Email Opened   3.96\n",
       "3                  Lead Source_Olark Chat   2.40\n",
       "9   Last Activity_Olark Chat Conversation   2.21\n",
       "17        Occupation_Working Professional   2.18\n",
       "10                   Last Activity_Others   1.74\n",
       "18           Last Notable Activity_Others   1.71\n",
       "15                     Occupation_Student   1.45\n",
       "6             Last Activity_Email Bounced   1.41\n",
       "0                              Time Spent   1.32\n",
       "7        Last Activity_Email Link Clicked   1.25\n",
       "14                   Occupation_Housewife   1.03\n",
       "12  Specialization_Hospitality Management   1.02"
      ]
     },
     "execution_count": 79,
     "metadata": {},
     "output_type": "execute_result"
    }
   ],
   "source": [
    "#checking VIF\n",
    "\n",
    "getvif(x_train_sm)"
   ]
  },
  {
   "cell_type": "code",
   "execution_count": 80,
   "metadata": {},
   "outputs": [],
   "source": [
    "#let's drop Occupation_Housewife since it shows to be less signficant in the model (relatively higher p value)\n",
    "x_train_sm.drop('Occupation_Housewife',axis=1,inplace=True)"
   ]
  },
  {
   "cell_type": "code",
   "execution_count": 81,
   "metadata": {
    "scrolled": true
   },
   "outputs": [
    {
     "name": "stdout",
     "output_type": "stream",
     "text": [
      "                 Generalized Linear Model Regression Results                  \n",
      "==============================================================================\n",
      "Dep. Variable:              Converted   No. Observations:                 6351\n",
      "Model:                            GLM   Df Residuals:                     6331\n",
      "Model Family:                Binomial   Df Model:                           19\n",
      "Link Function:                  logit   Scale:                          1.0000\n",
      "Method:                          IRLS   Log-Likelihood:                -2628.8\n",
      "Date:                Sun, 06 Sep 2020   Deviance:                       5257.5\n",
      "Time:                        00:27:09   Pearson chi2:                 6.55e+03\n",
      "No. Iterations:                     7                                         \n",
      "Covariance Type:            nonrobust                                         \n",
      "=========================================================================================================\n",
      "                                            coef    std err          z      P>|z|      [0.025      0.975]\n",
      "---------------------------------------------------------------------------------------------------------\n",
      "const                                     0.6870      0.585      1.174      0.240      -0.460       1.834\n",
      "Time Spent                                1.0789      0.040     27.005      0.000       1.001       1.157\n",
      "Lead Origin_Landing Page Submission      -1.2199      0.128     -9.519      0.000      -1.471      -0.969\n",
      "Lead Origin_Lead Add Form                 1.7966      0.838      2.145      0.032       0.155       3.438\n",
      "Lead Source_Olark Chat                    1.0844      0.123      8.793      0.000       0.843       1.326\n",
      "Lead Source_Reference                     1.5866      0.866      1.832      0.067      -0.111       3.284\n",
      "Lead Source_Welingak Website              4.6225      1.314      3.518      0.000       2.047       7.198\n",
      "Last Activity_Email Bounced              -1.4140      0.396     -3.569      0.000      -2.190      -0.637\n",
      "Last Activity_Email Link Clicked          0.5368      0.231      2.321      0.020       0.083       0.990\n",
      "Last Activity_Email Opened                0.9333      0.123      7.596      0.000       0.693       1.174\n",
      "Last Activity_Olark Chat Conversation    -0.5161      0.193     -2.675      0.007      -0.894      -0.138\n",
      "Last Activity_Others                      0.7138      0.343      2.079      0.038       0.041       1.387\n",
      "Last Activity_SMS Sent                    0.9192      0.171      5.377      0.000       0.584       1.254\n",
      "Specialization_Hospitality Management    -0.6683      0.332     -2.013      0.044      -1.319      -0.018\n",
      "Specialization_Others                    -1.3482      0.125    -10.743      0.000      -1.594      -1.102\n",
      "Occupation_Student                       -1.1243      0.614     -1.830      0.067      -2.328       0.080\n",
      "Occupation_Unemployed                    -1.7105      0.574     -2.982      0.003      -2.835      -0.586\n",
      "Occupation_Working Professional           0.8579      0.602      1.426      0.154      -0.321       2.037\n",
      "Last Notable Activity_Others              0.7969      0.386      2.066      0.039       0.041       1.553\n",
      "Last Notable Activity_SMS Sent            1.3856      0.147      9.456      0.000       1.098       1.673\n",
      "=========================================================================================================\n"
     ]
    },
    {
     "data": {
      "text/html": [
       "<div>\n",
       "<style scoped>\n",
       "    .dataframe tbody tr th:only-of-type {\n",
       "        vertical-align: middle;\n",
       "    }\n",
       "\n",
       "    .dataframe tbody tr th {\n",
       "        vertical-align: top;\n",
       "    }\n",
       "\n",
       "    .dataframe thead th {\n",
       "        text-align: right;\n",
       "    }\n",
       "</style>\n",
       "<table border=\"1\" class=\"dataframe\">\n",
       "  <thead>\n",
       "    <tr style=\"text-align: right;\">\n",
       "      <th></th>\n",
       "      <th>Features</th>\n",
       "      <th>VIF</th>\n",
       "    </tr>\n",
       "  </thead>\n",
       "  <tbody>\n",
       "    <tr>\n",
       "      <th>2</th>\n",
       "      <td>Lead Origin_Lead Add Form</td>\n",
       "      <td>46.19</td>\n",
       "    </tr>\n",
       "    <tr>\n",
       "      <th>4</th>\n",
       "      <td>Lead Source_Reference</td>\n",
       "      <td>35.66</td>\n",
       "    </tr>\n",
       "    <tr>\n",
       "      <th>15</th>\n",
       "      <td>Occupation_Unemployed</td>\n",
       "      <td>16.20</td>\n",
       "    </tr>\n",
       "    <tr>\n",
       "      <th>5</th>\n",
       "      <td>Lead Source_Welingak Website</td>\n",
       "      <td>11.42</td>\n",
       "    </tr>\n",
       "    <tr>\n",
       "      <th>11</th>\n",
       "      <td>Last Activity_SMS Sent</td>\n",
       "      <td>7.08</td>\n",
       "    </tr>\n",
       "    <tr>\n",
       "      <th>1</th>\n",
       "      <td>Lead Origin_Landing Page Submission</td>\n",
       "      <td>7.01</td>\n",
       "    </tr>\n",
       "    <tr>\n",
       "      <th>18</th>\n",
       "      <td>Last Notable Activity_SMS Sent</td>\n",
       "      <td>4.74</td>\n",
       "    </tr>\n",
       "    <tr>\n",
       "      <th>13</th>\n",
       "      <td>Specialization_Others</td>\n",
       "      <td>4.50</td>\n",
       "    </tr>\n",
       "    <tr>\n",
       "      <th>8</th>\n",
       "      <td>Last Activity_Email Opened</td>\n",
       "      <td>3.92</td>\n",
       "    </tr>\n",
       "    <tr>\n",
       "      <th>3</th>\n",
       "      <td>Lead Source_Olark Chat</td>\n",
       "      <td>2.40</td>\n",
       "    </tr>\n",
       "    <tr>\n",
       "      <th>9</th>\n",
       "      <td>Last Activity_Olark Chat Conversation</td>\n",
       "      <td>2.21</td>\n",
       "    </tr>\n",
       "    <tr>\n",
       "      <th>16</th>\n",
       "      <td>Occupation_Working Professional</td>\n",
       "      <td>2.15</td>\n",
       "    </tr>\n",
       "    <tr>\n",
       "      <th>10</th>\n",
       "      <td>Last Activity_Others</td>\n",
       "      <td>1.74</td>\n",
       "    </tr>\n",
       "    <tr>\n",
       "      <th>17</th>\n",
       "      <td>Last Notable Activity_Others</td>\n",
       "      <td>1.71</td>\n",
       "    </tr>\n",
       "    <tr>\n",
       "      <th>14</th>\n",
       "      <td>Occupation_Student</td>\n",
       "      <td>1.44</td>\n",
       "    </tr>\n",
       "    <tr>\n",
       "      <th>6</th>\n",
       "      <td>Last Activity_Email Bounced</td>\n",
       "      <td>1.41</td>\n",
       "    </tr>\n",
       "    <tr>\n",
       "      <th>0</th>\n",
       "      <td>Time Spent</td>\n",
       "      <td>1.32</td>\n",
       "    </tr>\n",
       "    <tr>\n",
       "      <th>7</th>\n",
       "      <td>Last Activity_Email Link Clicked</td>\n",
       "      <td>1.24</td>\n",
       "    </tr>\n",
       "    <tr>\n",
       "      <th>12</th>\n",
       "      <td>Specialization_Hospitality Management</td>\n",
       "      <td>1.02</td>\n",
       "    </tr>\n",
       "  </tbody>\n",
       "</table>\n",
       "</div>"
      ],
      "text/plain": [
       "                                 Features    VIF\n",
       "2               Lead Origin_Lead Add Form  46.19\n",
       "4                   Lead Source_Reference  35.66\n",
       "15                  Occupation_Unemployed  16.20\n",
       "5            Lead Source_Welingak Website  11.42\n",
       "11                 Last Activity_SMS Sent   7.08\n",
       "1     Lead Origin_Landing Page Submission   7.01\n",
       "18         Last Notable Activity_SMS Sent   4.74\n",
       "13                  Specialization_Others   4.50\n",
       "8              Last Activity_Email Opened   3.92\n",
       "3                  Lead Source_Olark Chat   2.40\n",
       "9   Last Activity_Olark Chat Conversation   2.21\n",
       "16        Occupation_Working Professional   2.15\n",
       "10                   Last Activity_Others   1.74\n",
       "17           Last Notable Activity_Others   1.71\n",
       "14                     Occupation_Student   1.44\n",
       "6             Last Activity_Email Bounced   1.41\n",
       "0                              Time Spent   1.32\n",
       "7        Last Activity_Email Link Clicked   1.24\n",
       "12  Specialization_Hospitality Management   1.02"
      ]
     },
     "execution_count": 81,
     "metadata": {},
     "output_type": "execute_result"
    }
   ],
   "source": [
    "#Rebuilding the model\n",
    "x_train_sm = sm.add_constant(x_train_sm)\n",
    "m3 = sm.GLM(y_train,x_train_sm,family=sm.families.Binomial())\n",
    "print(m3.fit().summary())\n",
    "#checking vifs\n",
    "getvif(x_train_sm)"
   ]
  },
  {
   "cell_type": "code",
   "execution_count": 82,
   "metadata": {
    "scrolled": true
   },
   "outputs": [
    {
     "name": "stdout",
     "output_type": "stream",
     "text": [
      "                 Generalized Linear Model Regression Results                  \n",
      "==============================================================================\n",
      "Dep. Variable:              Converted   No. Observations:                 6351\n",
      "Model:                            GLM   Df Residuals:                     6332\n",
      "Model Family:                Binomial   Df Model:                           18\n",
      "Link Function:                  logit   Scale:                          1.0000\n",
      "Method:                          IRLS   Log-Likelihood:                -2630.1\n",
      "Date:                Sun, 06 Sep 2020   Deviance:                       5260.2\n",
      "Time:                        00:27:09   Pearson chi2:                 6.53e+03\n",
      "No. Iterations:                     7                                         \n",
      "Covariance Type:            nonrobust                                         \n",
      "=========================================================================================================\n",
      "                                            coef    std err          z      P>|z|      [0.025      0.975]\n",
      "---------------------------------------------------------------------------------------------------------\n",
      "const                                     0.6862      0.585      1.174      0.241      -0.460       1.832\n",
      "Time Spent                                1.0780      0.040     26.978      0.000       1.000       1.156\n",
      "Lead Origin_Landing Page Submission      -1.2169      0.128     -9.502      0.000      -1.468      -0.966\n",
      "Lead Origin_Lead Add Form                 3.3048      0.245     13.489      0.000       2.825       3.785\n",
      "Lead Source_Olark Chat                    1.0807      0.123      8.758      0.000       0.839       1.323\n",
      "Lead Source_Welingak Website              3.1106      1.039      2.994      0.003       1.074       5.147\n",
      "Last Activity_Email Bounced              -1.4130      0.396     -3.567      0.000      -2.189      -0.637\n",
      "Last Activity_Email Link Clicked          0.5422      0.231      2.348      0.019       0.090       0.995\n",
      "Last Activity_Email Opened                0.9342      0.123      7.600      0.000       0.693       1.175\n",
      "Last Activity_Olark Chat Conversation    -0.5139      0.193     -2.663      0.008      -0.892      -0.136\n",
      "Last Activity_Others                      0.7156      0.343      2.086      0.037       0.043       1.388\n",
      "Last Activity_SMS Sent                    0.9240      0.171      5.409      0.000       0.589       1.259\n",
      "Specialization_Hospitality Management    -0.6630      0.331     -2.001      0.045      -1.312      -0.014\n",
      "Specialization_Others                    -1.3429      0.125    -10.713      0.000      -1.589      -1.097\n",
      "Occupation_Student                       -1.1253      0.614     -1.834      0.067      -2.328       0.077\n",
      "Occupation_Unemployed                    -1.7137      0.573     -2.991      0.003      -2.837      -0.591\n",
      "Occupation_Working Professional           0.8563      0.601      1.425      0.154      -0.322       2.034\n",
      "Last Notable Activity_Others              0.7966      0.386      2.066      0.039       0.041       1.552\n",
      "Last Notable Activity_SMS Sent            1.3812      0.146      9.441      0.000       1.094       1.668\n",
      "=========================================================================================================\n"
     ]
    },
    {
     "data": {
      "text/html": [
       "<div>\n",
       "<style scoped>\n",
       "    .dataframe tbody tr th:only-of-type {\n",
       "        vertical-align: middle;\n",
       "    }\n",
       "\n",
       "    .dataframe tbody tr th {\n",
       "        vertical-align: top;\n",
       "    }\n",
       "\n",
       "    .dataframe thead th {\n",
       "        text-align: right;\n",
       "    }\n",
       "</style>\n",
       "<table border=\"1\" class=\"dataframe\">\n",
       "  <thead>\n",
       "    <tr style=\"text-align: right;\">\n",
       "      <th></th>\n",
       "      <th>Features</th>\n",
       "      <th>VIF</th>\n",
       "    </tr>\n",
       "  </thead>\n",
       "  <tbody>\n",
       "    <tr>\n",
       "      <th>14</th>\n",
       "      <td>Occupation_Unemployed</td>\n",
       "      <td>16.20</td>\n",
       "    </tr>\n",
       "    <tr>\n",
       "      <th>10</th>\n",
       "      <td>Last Activity_SMS Sent</td>\n",
       "      <td>7.08</td>\n",
       "    </tr>\n",
       "    <tr>\n",
       "      <th>1</th>\n",
       "      <td>Lead Origin_Landing Page Submission</td>\n",
       "      <td>7.01</td>\n",
       "    </tr>\n",
       "    <tr>\n",
       "      <th>17</th>\n",
       "      <td>Last Notable Activity_SMS Sent</td>\n",
       "      <td>4.74</td>\n",
       "    </tr>\n",
       "    <tr>\n",
       "      <th>12</th>\n",
       "      <td>Specialization_Others</td>\n",
       "      <td>4.50</td>\n",
       "    </tr>\n",
       "    <tr>\n",
       "      <th>7</th>\n",
       "      <td>Last Activity_Email Opened</td>\n",
       "      <td>3.92</td>\n",
       "    </tr>\n",
       "    <tr>\n",
       "      <th>3</th>\n",
       "      <td>Lead Source_Olark Chat</td>\n",
       "      <td>2.39</td>\n",
       "    </tr>\n",
       "    <tr>\n",
       "      <th>8</th>\n",
       "      <td>Last Activity_Olark Chat Conversation</td>\n",
       "      <td>2.21</td>\n",
       "    </tr>\n",
       "    <tr>\n",
       "      <th>15</th>\n",
       "      <td>Occupation_Working Professional</td>\n",
       "      <td>2.15</td>\n",
       "    </tr>\n",
       "    <tr>\n",
       "      <th>2</th>\n",
       "      <td>Lead Origin_Lead Add Form</td>\n",
       "      <td>1.95</td>\n",
       "    </tr>\n",
       "    <tr>\n",
       "      <th>9</th>\n",
       "      <td>Last Activity_Others</td>\n",
       "      <td>1.74</td>\n",
       "    </tr>\n",
       "    <tr>\n",
       "      <th>16</th>\n",
       "      <td>Last Notable Activity_Others</td>\n",
       "      <td>1.71</td>\n",
       "    </tr>\n",
       "    <tr>\n",
       "      <th>13</th>\n",
       "      <td>Occupation_Student</td>\n",
       "      <td>1.44</td>\n",
       "    </tr>\n",
       "    <tr>\n",
       "      <th>5</th>\n",
       "      <td>Last Activity_Email Bounced</td>\n",
       "      <td>1.41</td>\n",
       "    </tr>\n",
       "    <tr>\n",
       "      <th>4</th>\n",
       "      <td>Lead Source_Welingak Website</td>\n",
       "      <td>1.36</td>\n",
       "    </tr>\n",
       "    <tr>\n",
       "      <th>0</th>\n",
       "      <td>Time Spent</td>\n",
       "      <td>1.32</td>\n",
       "    </tr>\n",
       "    <tr>\n",
       "      <th>6</th>\n",
       "      <td>Last Activity_Email Link Clicked</td>\n",
       "      <td>1.24</td>\n",
       "    </tr>\n",
       "    <tr>\n",
       "      <th>11</th>\n",
       "      <td>Specialization_Hospitality Management</td>\n",
       "      <td>1.02</td>\n",
       "    </tr>\n",
       "  </tbody>\n",
       "</table>\n",
       "</div>"
      ],
      "text/plain": [
       "                                 Features    VIF\n",
       "14                  Occupation_Unemployed  16.20\n",
       "10                 Last Activity_SMS Sent   7.08\n",
       "1     Lead Origin_Landing Page Submission   7.01\n",
       "17         Last Notable Activity_SMS Sent   4.74\n",
       "12                  Specialization_Others   4.50\n",
       "7              Last Activity_Email Opened   3.92\n",
       "3                  Lead Source_Olark Chat   2.39\n",
       "8   Last Activity_Olark Chat Conversation   2.21\n",
       "15        Occupation_Working Professional   2.15\n",
       "2               Lead Origin_Lead Add Form   1.95\n",
       "9                    Last Activity_Others   1.74\n",
       "16           Last Notable Activity_Others   1.71\n",
       "13                     Occupation_Student   1.44\n",
       "5             Last Activity_Email Bounced   1.41\n",
       "4            Lead Source_Welingak Website   1.36\n",
       "0                              Time Spent   1.32\n",
       "6        Last Activity_Email Link Clicked   1.24\n",
       "11  Specialization_Hospitality Management   1.02"
      ]
     },
     "execution_count": 82,
     "metadata": {},
     "output_type": "execute_result"
    }
   ],
   "source": [
    "#Dropping Lead Source_Reference since it is least signficant, and has a high VIF\n",
    "x_train_sm = sm.add_constant(x_train_sm.drop('Lead Source_Reference',axis=1))\n",
    "#Rebuilding the model\n",
    "m4 = sm.GLM(y_train,x_train_sm,family=sm.families.Binomial())\n",
    "print(m4.fit().summary())\n",
    "#checking vifs\n",
    "getvif(x_train_sm)"
   ]
  },
  {
   "cell_type": "code",
   "execution_count": 83,
   "metadata": {
    "scrolled": true
   },
   "outputs": [
    {
     "name": "stdout",
     "output_type": "stream",
     "text": [
      "                 Generalized Linear Model Regression Results                  \n",
      "==============================================================================\n",
      "Dep. Variable:              Converted   No. Observations:                 6351\n",
      "Model:                            GLM   Df Residuals:                     6333\n",
      "Model Family:                Binomial   Df Model:                           17\n",
      "Link Function:                  logit   Scale:                          1.0000\n",
      "Method:                          IRLS   Log-Likelihood:                -2635.1\n",
      "Date:                Sun, 06 Sep 2020   Deviance:                       5270.2\n",
      "Time:                        00:27:09   Pearson chi2:                 6.53e+03\n",
      "No. Iterations:                     7                                         \n",
      "Covariance Type:            nonrobust                                         \n",
      "=========================================================================================================\n",
      "                                            coef    std err          z      P>|z|      [0.025      0.975]\n",
      "---------------------------------------------------------------------------------------------------------\n",
      "const                                    -0.9971      0.157     -6.362      0.000      -1.304      -0.690\n",
      "Time Spent                                1.0802      0.040     27.060      0.000       1.002       1.158\n",
      "Lead Origin_Landing Page Submission      -1.2275      0.128     -9.597      0.000      -1.478      -0.977\n",
      "Lead Origin_Lead Add Form                 3.3156      0.245     13.546      0.000       2.836       3.795\n",
      "Lead Source_Olark Chat                    1.0841      0.123      8.789      0.000       0.842       1.326\n",
      "Lead Source_Welingak Website              3.1013      1.039      2.985      0.003       1.065       5.138\n",
      "Last Activity_Email Bounced              -1.4300      0.396     -3.611      0.000      -2.206      -0.654\n",
      "Last Activity_Email Link Clicked          0.5276      0.230      2.289      0.022       0.076       0.979\n",
      "Last Activity_Email Opened                0.9261      0.123      7.552      0.000       0.686       1.166\n",
      "Last Activity_Olark Chat Conversation    -0.5223      0.193     -2.711      0.007      -0.900      -0.145\n",
      "Last Activity_Others                      0.6968      0.343      2.031      0.042       0.024       1.369\n",
      "Last Activity_SMS Sent                    0.9073      0.170      5.322      0.000       0.573       1.241\n",
      "Specialization_Hospitality Management    -0.6744      0.331     -2.035      0.042      -1.324      -0.025\n",
      "Specialization_Others                    -1.3614      0.125    -10.864      0.000      -1.607      -1.116\n",
      "Occupation_Student                        0.5792      0.227      2.554      0.011       0.135       1.024\n",
      "Occupation_Working Professional           2.5592      0.192     13.353      0.000       2.184       2.935\n",
      "Last Notable Activity_Others              0.7962      0.386      2.064      0.039       0.040       1.552\n",
      "Last Notable Activity_SMS Sent            1.3800      0.146      9.435      0.000       1.093       1.667\n",
      "=========================================================================================================\n"
     ]
    },
    {
     "data": {
      "text/html": [
       "<div>\n",
       "<style scoped>\n",
       "    .dataframe tbody tr th:only-of-type {\n",
       "        vertical-align: middle;\n",
       "    }\n",
       "\n",
       "    .dataframe tbody tr th {\n",
       "        vertical-align: top;\n",
       "    }\n",
       "\n",
       "    .dataframe thead th {\n",
       "        text-align: right;\n",
       "    }\n",
       "</style>\n",
       "<table border=\"1\" class=\"dataframe\">\n",
       "  <thead>\n",
       "    <tr style=\"text-align: right;\">\n",
       "      <th></th>\n",
       "      <th>Features</th>\n",
       "      <th>VIF</th>\n",
       "    </tr>\n",
       "  </thead>\n",
       "  <tbody>\n",
       "    <tr>\n",
       "      <th>10</th>\n",
       "      <td>Last Activity_SMS Sent</td>\n",
       "      <td>6.20</td>\n",
       "    </tr>\n",
       "    <tr>\n",
       "      <th>16</th>\n",
       "      <td>Last Notable Activity_SMS Sent</td>\n",
       "      <td>4.73</td>\n",
       "    </tr>\n",
       "    <tr>\n",
       "      <th>1</th>\n",
       "      <td>Lead Origin_Landing Page Submission</td>\n",
       "      <td>3.14</td>\n",
       "    </tr>\n",
       "    <tr>\n",
       "      <th>7</th>\n",
       "      <td>Last Activity_Email Opened</td>\n",
       "      <td>2.80</td>\n",
       "    </tr>\n",
       "    <tr>\n",
       "      <th>12</th>\n",
       "      <td>Specialization_Others</td>\n",
       "      <td>2.76</td>\n",
       "    </tr>\n",
       "    <tr>\n",
       "      <th>3</th>\n",
       "      <td>Lead Source_Olark Chat</td>\n",
       "      <td>2.29</td>\n",
       "    </tr>\n",
       "    <tr>\n",
       "      <th>8</th>\n",
       "      <td>Last Activity_Olark Chat Conversation</td>\n",
       "      <td>1.90</td>\n",
       "    </tr>\n",
       "    <tr>\n",
       "      <th>2</th>\n",
       "      <td>Lead Origin_Lead Add Form</td>\n",
       "      <td>1.74</td>\n",
       "    </tr>\n",
       "    <tr>\n",
       "      <th>15</th>\n",
       "      <td>Last Notable Activity_Others</td>\n",
       "      <td>1.71</td>\n",
       "    </tr>\n",
       "    <tr>\n",
       "      <th>9</th>\n",
       "      <td>Last Activity_Others</td>\n",
       "      <td>1.68</td>\n",
       "    </tr>\n",
       "    <tr>\n",
       "      <th>4</th>\n",
       "      <td>Lead Source_Welingak Website</td>\n",
       "      <td>1.35</td>\n",
       "    </tr>\n",
       "    <tr>\n",
       "      <th>5</th>\n",
       "      <td>Last Activity_Email Bounced</td>\n",
       "      <td>1.34</td>\n",
       "    </tr>\n",
       "    <tr>\n",
       "      <th>0</th>\n",
       "      <td>Time Spent</td>\n",
       "      <td>1.31</td>\n",
       "    </tr>\n",
       "    <tr>\n",
       "      <th>14</th>\n",
       "      <td>Occupation_Working Professional</td>\n",
       "      <td>1.19</td>\n",
       "    </tr>\n",
       "    <tr>\n",
       "      <th>6</th>\n",
       "      <td>Last Activity_Email Link Clicked</td>\n",
       "      <td>1.16</td>\n",
       "    </tr>\n",
       "    <tr>\n",
       "      <th>13</th>\n",
       "      <td>Occupation_Student</td>\n",
       "      <td>1.03</td>\n",
       "    </tr>\n",
       "    <tr>\n",
       "      <th>11</th>\n",
       "      <td>Specialization_Hospitality Management</td>\n",
       "      <td>1.02</td>\n",
       "    </tr>\n",
       "  </tbody>\n",
       "</table>\n",
       "</div>"
      ],
      "text/plain": [
       "                                 Features   VIF\n",
       "10                 Last Activity_SMS Sent  6.20\n",
       "16         Last Notable Activity_SMS Sent  4.73\n",
       "1     Lead Origin_Landing Page Submission  3.14\n",
       "7              Last Activity_Email Opened  2.80\n",
       "12                  Specialization_Others  2.76\n",
       "3                  Lead Source_Olark Chat  2.29\n",
       "8   Last Activity_Olark Chat Conversation  1.90\n",
       "2               Lead Origin_Lead Add Form  1.74\n",
       "15           Last Notable Activity_Others  1.71\n",
       "9                    Last Activity_Others  1.68\n",
       "4            Lead Source_Welingak Website  1.35\n",
       "5             Last Activity_Email Bounced  1.34\n",
       "0                              Time Spent  1.31\n",
       "14        Occupation_Working Professional  1.19\n",
       "6        Last Activity_Email Link Clicked  1.16\n",
       "13                     Occupation_Student  1.03\n",
       "11  Specialization_Hospitality Management  1.02"
      ]
     },
     "execution_count": 83,
     "metadata": {},
     "output_type": "execute_result"
    }
   ],
   "source": [
    "#Dropping Occupation_Unemployed since it has a high correlation with other features\n",
    "x_train_sm = sm.add_constant(x_train_sm.drop('Occupation_Unemployed',axis=1))\n",
    "#Rebuilding the model\n",
    "m5 = sm.GLM(y_train,x_train_sm,family=sm.families.Binomial())\n",
    "print(m5.fit().summary())\n",
    "#checking vifs\n",
    "getvif(x_train_sm)"
   ]
  },
  {
   "cell_type": "code",
   "execution_count": 84,
   "metadata": {
    "scrolled": true
   },
   "outputs": [
    {
     "name": "stdout",
     "output_type": "stream",
     "text": [
      "                 Generalized Linear Model Regression Results                  \n",
      "==============================================================================\n",
      "Dep. Variable:              Converted   No. Observations:                 6351\n",
      "Model:                            GLM   Df Residuals:                     6334\n",
      "Model Family:                Binomial   Df Model:                           16\n",
      "Link Function:                  logit   Scale:                          1.0000\n",
      "Method:                          IRLS   Log-Likelihood:                -2637.0\n",
      "Date:                Sun, 06 Sep 2020   Deviance:                       5274.1\n",
      "Time:                        00:27:10   Pearson chi2:                 6.54e+03\n",
      "No. Iterations:                     7                                         \n",
      "Covariance Type:            nonrobust                                         \n",
      "=========================================================================================================\n",
      "                                            coef    std err          z      P>|z|      [0.025      0.975]\n",
      "---------------------------------------------------------------------------------------------------------\n",
      "const                                    -0.9365      0.153     -6.128      0.000      -1.236      -0.637\n",
      "Time Spent                                1.0779      0.040     27.046      0.000       1.000       1.156\n",
      "Lead Origin_Landing Page Submission      -1.2233      0.128     -9.575      0.000      -1.474      -0.973\n",
      "Lead Origin_Lead Add Form                 3.3167      0.245     13.556      0.000       2.837       3.796\n",
      "Lead Source_Olark Chat                    1.0830      0.123      8.783      0.000       0.841       1.325\n",
      "Lead Source_Welingak Website              3.0729      1.038      2.962      0.003       1.039       5.107\n",
      "Last Activity_Email Bounced              -1.7050      0.383     -4.453      0.000      -2.455      -0.955\n",
      "Last Activity_Email Link Clicked          0.4644      0.228      2.040      0.041       0.018       0.911\n",
      "Last Activity_Email Opened                0.8630      0.117      7.355      0.000       0.633       1.093\n",
      "Last Activity_Olark Chat Conversation    -0.5851      0.189     -3.090      0.002      -0.956      -0.214\n",
      "Last Activity_SMS Sent                    0.8442      0.167      5.065      0.000       0.518       1.171\n",
      "Specialization_Hospitality Management    -0.6665      0.332     -2.007      0.045      -1.318      -0.016\n",
      "Specialization_Others                    -1.3583      0.125    -10.848      0.000      -1.604      -1.113\n",
      "Occupation_Student                        0.5723      0.226      2.527      0.012       0.128       1.016\n",
      "Occupation_Working Professional           2.5530      0.191     13.353      0.000       2.178       2.928\n",
      "Last Notable Activity_Others              1.3410      0.278      4.819      0.000       0.796       1.886\n",
      "Last Notable Activity_SMS Sent            1.3792      0.146      9.435      0.000       1.093       1.666\n",
      "=========================================================================================================\n"
     ]
    },
    {
     "data": {
      "text/html": [
       "<div>\n",
       "<style scoped>\n",
       "    .dataframe tbody tr th:only-of-type {\n",
       "        vertical-align: middle;\n",
       "    }\n",
       "\n",
       "    .dataframe tbody tr th {\n",
       "        vertical-align: top;\n",
       "    }\n",
       "\n",
       "    .dataframe thead th {\n",
       "        text-align: right;\n",
       "    }\n",
       "</style>\n",
       "<table border=\"1\" class=\"dataframe\">\n",
       "  <thead>\n",
       "    <tr style=\"text-align: right;\">\n",
       "      <th></th>\n",
       "      <th>Features</th>\n",
       "      <th>VIF</th>\n",
       "    </tr>\n",
       "  </thead>\n",
       "  <tbody>\n",
       "    <tr>\n",
       "      <th>9</th>\n",
       "      <td>Last Activity_SMS Sent</td>\n",
       "      <td>6.12</td>\n",
       "    </tr>\n",
       "    <tr>\n",
       "      <th>15</th>\n",
       "      <td>Last Notable Activity_SMS Sent</td>\n",
       "      <td>4.73</td>\n",
       "    </tr>\n",
       "    <tr>\n",
       "      <th>1</th>\n",
       "      <td>Lead Origin_Landing Page Submission</td>\n",
       "      <td>2.97</td>\n",
       "    </tr>\n",
       "    <tr>\n",
       "      <th>7</th>\n",
       "      <td>Last Activity_Email Opened</td>\n",
       "      <td>2.70</td>\n",
       "    </tr>\n",
       "    <tr>\n",
       "      <th>11</th>\n",
       "      <td>Specialization_Others</td>\n",
       "      <td>2.69</td>\n",
       "    </tr>\n",
       "    <tr>\n",
       "      <th>3</th>\n",
       "      <td>Lead Source_Olark Chat</td>\n",
       "      <td>2.28</td>\n",
       "    </tr>\n",
       "    <tr>\n",
       "      <th>8</th>\n",
       "      <td>Last Activity_Olark Chat Conversation</td>\n",
       "      <td>1.87</td>\n",
       "    </tr>\n",
       "    <tr>\n",
       "      <th>2</th>\n",
       "      <td>Lead Origin_Lead Add Form</td>\n",
       "      <td>1.73</td>\n",
       "    </tr>\n",
       "    <tr>\n",
       "      <th>4</th>\n",
       "      <td>Lead Source_Welingak Website</td>\n",
       "      <td>1.35</td>\n",
       "    </tr>\n",
       "    <tr>\n",
       "      <th>0</th>\n",
       "      <td>Time Spent</td>\n",
       "      <td>1.31</td>\n",
       "    </tr>\n",
       "    <tr>\n",
       "      <th>5</th>\n",
       "      <td>Last Activity_Email Bounced</td>\n",
       "      <td>1.24</td>\n",
       "    </tr>\n",
       "    <tr>\n",
       "      <th>13</th>\n",
       "      <td>Occupation_Working Professional</td>\n",
       "      <td>1.19</td>\n",
       "    </tr>\n",
       "    <tr>\n",
       "      <th>6</th>\n",
       "      <td>Last Activity_Email Link Clicked</td>\n",
       "      <td>1.15</td>\n",
       "    </tr>\n",
       "    <tr>\n",
       "      <th>14</th>\n",
       "      <td>Last Notable Activity_Others</td>\n",
       "      <td>1.12</td>\n",
       "    </tr>\n",
       "    <tr>\n",
       "      <th>12</th>\n",
       "      <td>Occupation_Student</td>\n",
       "      <td>1.03</td>\n",
       "    </tr>\n",
       "    <tr>\n",
       "      <th>10</th>\n",
       "      <td>Specialization_Hospitality Management</td>\n",
       "      <td>1.02</td>\n",
       "    </tr>\n",
       "  </tbody>\n",
       "</table>\n",
       "</div>"
      ],
      "text/plain": [
       "                                 Features   VIF\n",
       "9                  Last Activity_SMS Sent  6.12\n",
       "15         Last Notable Activity_SMS Sent  4.73\n",
       "1     Lead Origin_Landing Page Submission  2.97\n",
       "7              Last Activity_Email Opened  2.70\n",
       "11                  Specialization_Others  2.69\n",
       "3                  Lead Source_Olark Chat  2.28\n",
       "8   Last Activity_Olark Chat Conversation  1.87\n",
       "2               Lead Origin_Lead Add Form  1.73\n",
       "4            Lead Source_Welingak Website  1.35\n",
       "0                              Time Spent  1.31\n",
       "5             Last Activity_Email Bounced  1.24\n",
       "13        Occupation_Working Professional  1.19\n",
       "6        Last Activity_Email Link Clicked  1.15\n",
       "14           Last Notable Activity_Others  1.12\n",
       "12                     Occupation_Student  1.03\n",
       "10  Specialization_Hospitality Management  1.02"
      ]
     },
     "execution_count": 84,
     "metadata": {},
     "output_type": "execute_result"
    }
   ],
   "source": [
    "#Dropping Last Activity_Others since it is coming out to be relatively less significant\n",
    "x_train_sm = sm.add_constant(x_train_sm.drop('Last Activity_Others',axis=1))\n",
    "#Rebuilding the model\n",
    "m6 = sm.GLM(y_train,x_train_sm,family=sm.families.Binomial())\n",
    "print(m6.fit().summary())\n",
    "#checking vifs\n",
    "getvif(x_train_sm)"
   ]
  },
  {
   "cell_type": "code",
   "execution_count": 85,
   "metadata": {
    "scrolled": true
   },
   "outputs": [
    {
     "name": "stdout",
     "output_type": "stream",
     "text": [
      "                 Generalized Linear Model Regression Results                  \n",
      "==============================================================================\n",
      "Dep. Variable:              Converted   No. Observations:                 6351\n",
      "Model:                            GLM   Df Residuals:                     6335\n",
      "Model Family:                Binomial   Df Model:                           15\n",
      "Link Function:                  logit   Scale:                          1.0000\n",
      "Method:                          IRLS   Log-Likelihood:                -2639.1\n",
      "Date:                Sun, 06 Sep 2020   Deviance:                       5278.2\n",
      "Time:                        00:27:10   Pearson chi2:                 6.57e+03\n",
      "No. Iterations:                     7                                         \n",
      "Covariance Type:            nonrobust                                         \n",
      "=========================================================================================================\n",
      "                                            coef    std err          z      P>|z|      [0.025      0.975]\n",
      "---------------------------------------------------------------------------------------------------------\n",
      "const                                    -0.9458      0.153     -6.195      0.000      -1.245      -0.647\n",
      "Time Spent                                1.0753      0.040     27.020      0.000       0.997       1.153\n",
      "Lead Origin_Landing Page Submission      -1.2200      0.128     -9.554      0.000      -1.470      -0.970\n",
      "Lead Origin_Lead Add Form                 3.3055      0.244     13.520      0.000       2.826       3.785\n",
      "Lead Source_Olark Chat                    1.0818      0.123      8.776      0.000       0.840       1.323\n",
      "Lead Source_Welingak Website              3.0837      1.038      2.972      0.003       1.050       5.117\n",
      "Last Activity_Email Bounced              -1.7354      0.383     -4.531      0.000      -2.486      -0.985\n",
      "Last Activity_Email Link Clicked          0.4552      0.228      1.997      0.046       0.008       0.902\n",
      "Last Activity_Email Opened                0.8588      0.117      7.331      0.000       0.629       1.088\n",
      "Last Activity_Olark Chat Conversation    -0.5919      0.189     -3.130      0.002      -0.963      -0.221\n",
      "Last Activity_SMS Sent                    0.8381      0.167      5.034      0.000       0.512       1.164\n",
      "Specialization_Others                    -1.3445      0.125    -10.761      0.000      -1.589      -1.100\n",
      "Occupation_Student                        0.5710      0.226      2.522      0.012       0.127       1.015\n",
      "Occupation_Working Professional           2.5415      0.191     13.309      0.000       2.167       2.916\n",
      "Last Notable Activity_Others              1.3423      0.278      4.827      0.000       0.797       1.887\n",
      "Last Notable Activity_SMS Sent            1.3836      0.146      9.469      0.000       1.097       1.670\n",
      "=========================================================================================================\n"
     ]
    },
    {
     "data": {
      "text/html": [
       "<div>\n",
       "<style scoped>\n",
       "    .dataframe tbody tr th:only-of-type {\n",
       "        vertical-align: middle;\n",
       "    }\n",
       "\n",
       "    .dataframe tbody tr th {\n",
       "        vertical-align: top;\n",
       "    }\n",
       "\n",
       "    .dataframe thead th {\n",
       "        text-align: right;\n",
       "    }\n",
       "</style>\n",
       "<table border=\"1\" class=\"dataframe\">\n",
       "  <thead>\n",
       "    <tr style=\"text-align: right;\">\n",
       "      <th></th>\n",
       "      <th>Features</th>\n",
       "      <th>VIF</th>\n",
       "    </tr>\n",
       "  </thead>\n",
       "  <tbody>\n",
       "    <tr>\n",
       "      <th>9</th>\n",
       "      <td>Last Activity_SMS Sent</td>\n",
       "      <td>6.12</td>\n",
       "    </tr>\n",
       "    <tr>\n",
       "      <th>14</th>\n",
       "      <td>Last Notable Activity_SMS Sent</td>\n",
       "      <td>4.73</td>\n",
       "    </tr>\n",
       "    <tr>\n",
       "      <th>1</th>\n",
       "      <td>Lead Origin_Landing Page Submission</td>\n",
       "      <td>2.97</td>\n",
       "    </tr>\n",
       "    <tr>\n",
       "      <th>7</th>\n",
       "      <td>Last Activity_Email Opened</td>\n",
       "      <td>2.69</td>\n",
       "    </tr>\n",
       "    <tr>\n",
       "      <th>10</th>\n",
       "      <td>Specialization_Others</td>\n",
       "      <td>2.69</td>\n",
       "    </tr>\n",
       "    <tr>\n",
       "      <th>3</th>\n",
       "      <td>Lead Source_Olark Chat</td>\n",
       "      <td>2.28</td>\n",
       "    </tr>\n",
       "    <tr>\n",
       "      <th>8</th>\n",
       "      <td>Last Activity_Olark Chat Conversation</td>\n",
       "      <td>1.87</td>\n",
       "    </tr>\n",
       "    <tr>\n",
       "      <th>2</th>\n",
       "      <td>Lead Origin_Lead Add Form</td>\n",
       "      <td>1.73</td>\n",
       "    </tr>\n",
       "    <tr>\n",
       "      <th>4</th>\n",
       "      <td>Lead Source_Welingak Website</td>\n",
       "      <td>1.35</td>\n",
       "    </tr>\n",
       "    <tr>\n",
       "      <th>0</th>\n",
       "      <td>Time Spent</td>\n",
       "      <td>1.31</td>\n",
       "    </tr>\n",
       "    <tr>\n",
       "      <th>5</th>\n",
       "      <td>Last Activity_Email Bounced</td>\n",
       "      <td>1.24</td>\n",
       "    </tr>\n",
       "    <tr>\n",
       "      <th>12</th>\n",
       "      <td>Occupation_Working Professional</td>\n",
       "      <td>1.19</td>\n",
       "    </tr>\n",
       "    <tr>\n",
       "      <th>6</th>\n",
       "      <td>Last Activity_Email Link Clicked</td>\n",
       "      <td>1.15</td>\n",
       "    </tr>\n",
       "    <tr>\n",
       "      <th>13</th>\n",
       "      <td>Last Notable Activity_Others</td>\n",
       "      <td>1.12</td>\n",
       "    </tr>\n",
       "    <tr>\n",
       "      <th>11</th>\n",
       "      <td>Occupation_Student</td>\n",
       "      <td>1.03</td>\n",
       "    </tr>\n",
       "  </tbody>\n",
       "</table>\n",
       "</div>"
      ],
      "text/plain": [
       "                                 Features   VIF\n",
       "9                  Last Activity_SMS Sent  6.12\n",
       "14         Last Notable Activity_SMS Sent  4.73\n",
       "1     Lead Origin_Landing Page Submission  2.97\n",
       "7              Last Activity_Email Opened  2.69\n",
       "10                  Specialization_Others  2.69\n",
       "3                  Lead Source_Olark Chat  2.28\n",
       "8   Last Activity_Olark Chat Conversation  1.87\n",
       "2               Lead Origin_Lead Add Form  1.73\n",
       "4            Lead Source_Welingak Website  1.35\n",
       "0                              Time Spent  1.31\n",
       "5             Last Activity_Email Bounced  1.24\n",
       "12        Occupation_Working Professional  1.19\n",
       "6        Last Activity_Email Link Clicked  1.15\n",
       "13           Last Notable Activity_Others  1.12\n",
       "11                     Occupation_Student  1.03"
      ]
     },
     "execution_count": 85,
     "metadata": {},
     "output_type": "execute_result"
    }
   ],
   "source": [
    "#Dropping Specialization_Hospitality Management since it is coming out to be relatively less significant\n",
    "x_train_sm = sm.add_constant(x_train_sm.drop('Specialization_Hospitality Management',axis=1))\n",
    "#Rebuilding the model\n",
    "m7 = sm.GLM(y_train,x_train_sm,family=sm.families.Binomial())\n",
    "print(m7.fit().summary())\n",
    "#checking vifs\n",
    "getvif(x_train_sm)"
   ]
  },
  {
   "cell_type": "code",
   "execution_count": 86,
   "metadata": {},
   "outputs": [
    {
     "data": {
      "text/html": [
       "<div>\n",
       "<style scoped>\n",
       "    .dataframe tbody tr th:only-of-type {\n",
       "        vertical-align: middle;\n",
       "    }\n",
       "\n",
       "    .dataframe tbody tr th {\n",
       "        vertical-align: top;\n",
       "    }\n",
       "\n",
       "    .dataframe thead th {\n",
       "        text-align: right;\n",
       "    }\n",
       "</style>\n",
       "<table border=\"1\" class=\"dataframe\">\n",
       "  <thead>\n",
       "    <tr style=\"text-align: right;\">\n",
       "      <th></th>\n",
       "      <th>Last Activity_SMS Sent</th>\n",
       "      <th>Last Notable Activity_SMS Sent</th>\n",
       "    </tr>\n",
       "  </thead>\n",
       "  <tbody>\n",
       "    <tr>\n",
       "      <th>Last Activity_SMS Sent</th>\n",
       "      <td>1.000000</td>\n",
       "      <td>0.849553</td>\n",
       "    </tr>\n",
       "    <tr>\n",
       "      <th>Last Notable Activity_SMS Sent</th>\n",
       "      <td>0.849553</td>\n",
       "      <td>1.000000</td>\n",
       "    </tr>\n",
       "  </tbody>\n",
       "</table>\n",
       "</div>"
      ],
      "text/plain": [
       "                                Last Activity_SMS Sent  \\\n",
       "Last Activity_SMS Sent                        1.000000   \n",
       "Last Notable Activity_SMS Sent                0.849553   \n",
       "\n",
       "                                Last Notable Activity_SMS Sent  \n",
       "Last Activity_SMS Sent                                0.849553  \n",
       "Last Notable Activity_SMS Sent                        1.000000  "
      ]
     },
     "execution_count": 86,
     "metadata": {},
     "output_type": "execute_result"
    }
   ],
   "source": [
    "#We are getting a high VIF for last activity and last notable activity \"SMS Sent\"\n",
    "#We can see that these two are highly correlated, thus we can drop one of them\n",
    "x_train_sm[['Last Activity_SMS Sent','Last Notable Activity_SMS Sent']].corr()"
   ]
  },
  {
   "cell_type": "code",
   "execution_count": 87,
   "metadata": {
    "scrolled": true
   },
   "outputs": [
    {
     "name": "stdout",
     "output_type": "stream",
     "text": [
      "                 Generalized Linear Model Regression Results                  \n",
      "==============================================================================\n",
      "Dep. Variable:              Converted   No. Observations:                 6351\n",
      "Model:                            GLM   Df Residuals:                     6336\n",
      "Model Family:                Binomial   Df Model:                           14\n",
      "Link Function:                  logit   Scale:                          1.0000\n",
      "Method:                          IRLS   Log-Likelihood:                -2651.7\n",
      "Date:                Sun, 06 Sep 2020   Deviance:                       5303.3\n",
      "Time:                        00:27:10   Pearson chi2:                 6.54e+03\n",
      "No. Iterations:                     7                                         \n",
      "Covariance Type:            nonrobust                                         \n",
      "=========================================================================================================\n",
      "                                            coef    std err          z      P>|z|      [0.025      0.975]\n",
      "---------------------------------------------------------------------------------------------------------\n",
      "const                                    -0.6547      0.138     -4.741      0.000      -0.925      -0.384\n",
      "Time Spent                                1.0775      0.040     27.169      0.000       1.000       1.155\n",
      "Lead Origin_Landing Page Submission      -1.2155      0.127     -9.559      0.000      -1.465      -0.966\n",
      "Lead Origin_Lead Add Form                 3.3892      0.246     13.804      0.000       2.908       3.870\n",
      "Lead Source_Olark Chat                    1.1031      0.123      8.959      0.000       0.862       1.344\n",
      "Lead Source_Welingak Website              3.1278      1.038      3.013      0.003       1.093       5.163\n",
      "Last Activity_Email Bounced              -1.9288      0.376     -5.125      0.000      -2.666      -1.191\n",
      "Last Activity_Email Link Clicked          0.1476      0.218      0.677      0.498      -0.280       0.575\n",
      "Last Activity_Email Opened                0.5557      0.096      5.768      0.000       0.367       0.745\n",
      "Last Activity_Olark Chat Conversation    -0.9042      0.177     -5.120      0.000      -1.250      -0.558\n",
      "Specialization_Others                    -1.3337      0.124    -10.713      0.000      -1.578      -1.090\n",
      "Occupation_Student                        0.5463      0.225      2.428      0.015       0.105       0.987\n",
      "Occupation_Working Professional           2.5376      0.190     13.330      0.000       2.164       2.911\n",
      "Last Notable Activity_Others              1.0817      0.272      3.981      0.000       0.549       1.614\n",
      "Last Notable Activity_SMS Sent            1.9193      0.105     18.307      0.000       1.714       2.125\n",
      "=========================================================================================================\n"
     ]
    },
    {
     "data": {
      "text/html": [
       "<div>\n",
       "<style scoped>\n",
       "    .dataframe tbody tr th:only-of-type {\n",
       "        vertical-align: middle;\n",
       "    }\n",
       "\n",
       "    .dataframe tbody tr th {\n",
       "        vertical-align: top;\n",
       "    }\n",
       "\n",
       "    .dataframe thead th {\n",
       "        text-align: right;\n",
       "    }\n",
       "</style>\n",
       "<table border=\"1\" class=\"dataframe\">\n",
       "  <thead>\n",
       "    <tr style=\"text-align: right;\">\n",
       "      <th></th>\n",
       "      <th>Features</th>\n",
       "      <th>VIF</th>\n",
       "    </tr>\n",
       "  </thead>\n",
       "  <tbody>\n",
       "    <tr>\n",
       "      <th>9</th>\n",
       "      <td>Specialization_Others</td>\n",
       "      <td>2.44</td>\n",
       "    </tr>\n",
       "    <tr>\n",
       "      <th>1</th>\n",
       "      <td>Lead Origin_Landing Page Submission</td>\n",
       "      <td>2.41</td>\n",
       "    </tr>\n",
       "    <tr>\n",
       "      <th>7</th>\n",
       "      <td>Last Activity_Email Opened</td>\n",
       "      <td>2.31</td>\n",
       "    </tr>\n",
       "    <tr>\n",
       "      <th>3</th>\n",
       "      <td>Lead Source_Olark Chat</td>\n",
       "      <td>2.24</td>\n",
       "    </tr>\n",
       "    <tr>\n",
       "      <th>13</th>\n",
       "      <td>Last Notable Activity_SMS Sent</td>\n",
       "      <td>1.94</td>\n",
       "    </tr>\n",
       "    <tr>\n",
       "      <th>8</th>\n",
       "      <td>Last Activity_Olark Chat Conversation</td>\n",
       "      <td>1.74</td>\n",
       "    </tr>\n",
       "    <tr>\n",
       "      <th>2</th>\n",
       "      <td>Lead Origin_Lead Add Form</td>\n",
       "      <td>1.65</td>\n",
       "    </tr>\n",
       "    <tr>\n",
       "      <th>4</th>\n",
       "      <td>Lead Source_Welingak Website</td>\n",
       "      <td>1.35</td>\n",
       "    </tr>\n",
       "    <tr>\n",
       "      <th>0</th>\n",
       "      <td>Time Spent</td>\n",
       "      <td>1.30</td>\n",
       "    </tr>\n",
       "    <tr>\n",
       "      <th>5</th>\n",
       "      <td>Last Activity_Email Bounced</td>\n",
       "      <td>1.21</td>\n",
       "    </tr>\n",
       "    <tr>\n",
       "      <th>11</th>\n",
       "      <td>Occupation_Working Professional</td>\n",
       "      <td>1.18</td>\n",
       "    </tr>\n",
       "    <tr>\n",
       "      <th>6</th>\n",
       "      <td>Last Activity_Email Link Clicked</td>\n",
       "      <td>1.11</td>\n",
       "    </tr>\n",
       "    <tr>\n",
       "      <th>12</th>\n",
       "      <td>Last Notable Activity_Others</td>\n",
       "      <td>1.11</td>\n",
       "    </tr>\n",
       "    <tr>\n",
       "      <th>10</th>\n",
       "      <td>Occupation_Student</td>\n",
       "      <td>1.03</td>\n",
       "    </tr>\n",
       "  </tbody>\n",
       "</table>\n",
       "</div>"
      ],
      "text/plain": [
       "                                 Features   VIF\n",
       "9                   Specialization_Others  2.44\n",
       "1     Lead Origin_Landing Page Submission  2.41\n",
       "7              Last Activity_Email Opened  2.31\n",
       "3                  Lead Source_Olark Chat  2.24\n",
       "13         Last Notable Activity_SMS Sent  1.94\n",
       "8   Last Activity_Olark Chat Conversation  1.74\n",
       "2               Lead Origin_Lead Add Form  1.65\n",
       "4            Lead Source_Welingak Website  1.35\n",
       "0                              Time Spent  1.30\n",
       "5             Last Activity_Email Bounced  1.21\n",
       "11        Occupation_Working Professional  1.18\n",
       "6        Last Activity_Email Link Clicked  1.11\n",
       "12           Last Notable Activity_Others  1.11\n",
       "10                     Occupation_Student  1.03"
      ]
     },
     "execution_count": 87,
     "metadata": {},
     "output_type": "execute_result"
    }
   ],
   "source": [
    "#We'll drop Last Activity_SMS Sent due to the high correlation\n",
    "x_train_sm = sm.add_constant(x_train_sm.drop('Last Activity_SMS Sent',axis=1))\n",
    "#Rebuilding the model\n",
    "m8 = sm.GLM(y_train,x_train_sm,family=sm.families.Binomial())\n",
    "print(m8.fit().summary())\n",
    "#checking VIFs too\n",
    "getvif(x_train_sm)"
   ]
  },
  {
   "cell_type": "code",
   "execution_count": 88,
   "metadata": {},
   "outputs": [
    {
     "name": "stdout",
     "output_type": "stream",
     "text": [
      "                 Generalized Linear Model Regression Results                  \n",
      "==============================================================================\n",
      "Dep. Variable:              Converted   No. Observations:                 6351\n",
      "Model:                            GLM   Df Residuals:                     6337\n",
      "Model Family:                Binomial   Df Model:                           13\n",
      "Link Function:                  logit   Scale:                          1.0000\n",
      "Method:                          IRLS   Log-Likelihood:                -2651.9\n",
      "Date:                Sun, 06 Sep 2020   Deviance:                       5303.8\n",
      "Time:                        00:27:11   Pearson chi2:                 6.54e+03\n",
      "No. Iterations:                     7                                         \n",
      "Covariance Type:            nonrobust                                         \n",
      "=========================================================================================================\n",
      "                                            coef    std err          z      P>|z|      [0.025      0.975]\n",
      "---------------------------------------------------------------------------------------------------------\n",
      "const                                    -0.6360      0.135     -4.705      0.000      -0.901      -0.371\n",
      "Time Spent                                1.0771      0.040     27.168      0.000       0.999       1.155\n",
      "Lead Origin_Landing Page Submission      -1.2153      0.127     -9.558      0.000      -1.465      -0.966\n",
      "Lead Origin_Lead Add Form                 3.3943      0.245     13.830      0.000       2.913       3.875\n",
      "Lead Source_Olark Chat                    1.1084      0.123      9.015      0.000       0.867       1.349\n",
      "Lead Source_Welingak Website              3.1238      1.038      3.009      0.003       1.089       5.159\n",
      "Last Activity_Email Bounced              -1.9418      0.376     -5.171      0.000      -2.678      -1.206\n",
      "Last Activity_Email Opened                0.5356      0.091      5.857      0.000       0.356       0.715\n",
      "Last Activity_Olark Chat Conversation    -0.9269      0.173     -5.349      0.000      -1.267      -0.587\n",
      "Specialization_Others                    -1.3331      0.124    -10.709      0.000      -1.577      -1.089\n",
      "Occupation_Student                        0.5482      0.225      2.436      0.015       0.107       0.989\n",
      "Occupation_Working Professional           2.5353      0.190     13.326      0.000       2.162       2.908\n",
      "Last Notable Activity_Others              1.0647      0.270      3.937      0.000       0.535       1.595\n",
      "Last Notable Activity_SMS Sent            1.8993      0.100     18.920      0.000       1.703       2.096\n",
      "=========================================================================================================\n"
     ]
    },
    {
     "data": {
      "text/html": [
       "<div>\n",
       "<style scoped>\n",
       "    .dataframe tbody tr th:only-of-type {\n",
       "        vertical-align: middle;\n",
       "    }\n",
       "\n",
       "    .dataframe tbody tr th {\n",
       "        vertical-align: top;\n",
       "    }\n",
       "\n",
       "    .dataframe thead th {\n",
       "        text-align: right;\n",
       "    }\n",
       "</style>\n",
       "<table border=\"1\" class=\"dataframe\">\n",
       "  <thead>\n",
       "    <tr style=\"text-align: right;\">\n",
       "      <th></th>\n",
       "      <th>Features</th>\n",
       "      <th>VIF</th>\n",
       "    </tr>\n",
       "  </thead>\n",
       "  <tbody>\n",
       "    <tr>\n",
       "      <th>8</th>\n",
       "      <td>Specialization_Others</td>\n",
       "      <td>2.36</td>\n",
       "    </tr>\n",
       "    <tr>\n",
       "      <th>1</th>\n",
       "      <td>Lead Origin_Landing Page Submission</td>\n",
       "      <td>2.24</td>\n",
       "    </tr>\n",
       "    <tr>\n",
       "      <th>3</th>\n",
       "      <td>Lead Source_Olark Chat</td>\n",
       "      <td>2.20</td>\n",
       "    </tr>\n",
       "    <tr>\n",
       "      <th>6</th>\n",
       "      <td>Last Activity_Email Opened</td>\n",
       "      <td>2.18</td>\n",
       "    </tr>\n",
       "    <tr>\n",
       "      <th>12</th>\n",
       "      <td>Last Notable Activity_SMS Sent</td>\n",
       "      <td>1.85</td>\n",
       "    </tr>\n",
       "    <tr>\n",
       "      <th>7</th>\n",
       "      <td>Last Activity_Olark Chat Conversation</td>\n",
       "      <td>1.68</td>\n",
       "    </tr>\n",
       "    <tr>\n",
       "      <th>2</th>\n",
       "      <td>Lead Origin_Lead Add Form</td>\n",
       "      <td>1.62</td>\n",
       "    </tr>\n",
       "    <tr>\n",
       "      <th>4</th>\n",
       "      <td>Lead Source_Welingak Website</td>\n",
       "      <td>1.34</td>\n",
       "    </tr>\n",
       "    <tr>\n",
       "      <th>0</th>\n",
       "      <td>Time Spent</td>\n",
       "      <td>1.30</td>\n",
       "    </tr>\n",
       "    <tr>\n",
       "      <th>5</th>\n",
       "      <td>Last Activity_Email Bounced</td>\n",
       "      <td>1.19</td>\n",
       "    </tr>\n",
       "    <tr>\n",
       "      <th>10</th>\n",
       "      <td>Occupation_Working Professional</td>\n",
       "      <td>1.18</td>\n",
       "    </tr>\n",
       "    <tr>\n",
       "      <th>11</th>\n",
       "      <td>Last Notable Activity_Others</td>\n",
       "      <td>1.11</td>\n",
       "    </tr>\n",
       "    <tr>\n",
       "      <th>9</th>\n",
       "      <td>Occupation_Student</td>\n",
       "      <td>1.03</td>\n",
       "    </tr>\n",
       "  </tbody>\n",
       "</table>\n",
       "</div>"
      ],
      "text/plain": [
       "                                 Features   VIF\n",
       "8                   Specialization_Others  2.36\n",
       "1     Lead Origin_Landing Page Submission  2.24\n",
       "3                  Lead Source_Olark Chat  2.20\n",
       "6              Last Activity_Email Opened  2.18\n",
       "12         Last Notable Activity_SMS Sent  1.85\n",
       "7   Last Activity_Olark Chat Conversation  1.68\n",
       "2               Lead Origin_Lead Add Form  1.62\n",
       "4            Lead Source_Welingak Website  1.34\n",
       "0                              Time Spent  1.30\n",
       "5             Last Activity_Email Bounced  1.19\n",
       "10        Occupation_Working Professional  1.18\n",
       "11           Last Notable Activity_Others  1.11\n",
       "9                      Occupation_Student  1.03"
      ]
     },
     "execution_count": 88,
     "metadata": {},
     "output_type": "execute_result"
    }
   ],
   "source": [
    "#Last Activity_Email Link Clicked is highly insignificant in the model with a high p value\n",
    "#we will drop it \n",
    "x_train_sm = sm.add_constant(x_train_sm.drop('Last Activity_Email Link Clicked',axis=1))\n",
    "#Rebuilding the model\n",
    "m9 = sm.GLM(y_train,x_train_sm,family=sm.families.Binomial())\n",
    "print(m9.fit().summary())\n",
    "#checking VIFs too\n",
    "getvif(x_train_sm)"
   ]
  },
  {
   "cell_type": "code",
   "execution_count": 89,
   "metadata": {},
   "outputs": [],
   "source": [
    "#Let's move forward with this model\n",
    "res = m9.fit()"
   ]
  },
  {
   "cell_type": "code",
   "execution_count": 90,
   "metadata": {},
   "outputs": [],
   "source": [
    "#getting predicted values on the train set\n",
    "y_train_pred = res.predict(x_train_sm)"
   ]
  },
  {
   "cell_type": "code",
   "execution_count": 91,
   "metadata": {},
   "outputs": [
    {
     "data": {
      "text/plain": [
       "(6351,)"
      ]
     },
     "execution_count": 91,
     "metadata": {},
     "output_type": "execute_result"
    }
   ],
   "source": [
    "y_train_pred.shape"
   ]
  },
  {
   "cell_type": "code",
   "execution_count": 92,
   "metadata": {},
   "outputs": [
    {
     "data": {
      "text/plain": [
       "7656    0.448574\n",
       "7775    0.100615\n",
       "5287    0.135509\n",
       "3315    0.541455\n",
       "4058    0.995919\n",
       "363     0.340352\n",
       "6714    0.665101\n",
       "4797    0.783092\n",
       "9109    0.265426\n",
       "5264    0.060730\n",
       "dtype: float64"
      ]
     },
     "execution_count": 92,
     "metadata": {},
     "output_type": "execute_result"
    }
   ],
   "source": [
    "y_train_pred[:10]"
   ]
  },
  {
   "cell_type": "code",
   "execution_count": 93,
   "metadata": {},
   "outputs": [
    {
     "data": {
      "text/plain": [
       "array([0.44857353, 0.10061459, 0.13550857, 0.54145524, 0.99591905,\n",
       "       0.34035159, 0.6651007 , 0.78309201, 0.26542613, 0.06073011])"
      ]
     },
     "execution_count": 93,
     "metadata": {},
     "output_type": "execute_result"
    }
   ],
   "source": [
    "#changing predictions to array\n",
    "y_train_pred=y_train_pred.values.reshape(-1)\n",
    "y_train_pred[:10]"
   ]
  },
  {
   "cell_type": "code",
   "execution_count": 94,
   "metadata": {},
   "outputs": [
    {
     "data": {
      "text/html": [
       "<div>\n",
       "<style scoped>\n",
       "    .dataframe tbody tr th:only-of-type {\n",
       "        vertical-align: middle;\n",
       "    }\n",
       "\n",
       "    .dataframe tbody tr th {\n",
       "        vertical-align: top;\n",
       "    }\n",
       "\n",
       "    .dataframe thead th {\n",
       "        text-align: right;\n",
       "    }\n",
       "</style>\n",
       "<table border=\"1\" class=\"dataframe\">\n",
       "  <thead>\n",
       "    <tr style=\"text-align: right;\">\n",
       "      <th></th>\n",
       "      <th>Converted</th>\n",
       "      <th>Prob</th>\n",
       "      <th>ID</th>\n",
       "    </tr>\n",
       "  </thead>\n",
       "  <tbody>\n",
       "    <tr>\n",
       "      <th>0</th>\n",
       "      <td>0</td>\n",
       "      <td>0.448574</td>\n",
       "      <td>7656</td>\n",
       "    </tr>\n",
       "    <tr>\n",
       "      <th>1</th>\n",
       "      <td>0</td>\n",
       "      <td>0.100615</td>\n",
       "      <td>7775</td>\n",
       "    </tr>\n",
       "    <tr>\n",
       "      <th>2</th>\n",
       "      <td>0</td>\n",
       "      <td>0.135509</td>\n",
       "      <td>5287</td>\n",
       "    </tr>\n",
       "    <tr>\n",
       "      <th>3</th>\n",
       "      <td>1</td>\n",
       "      <td>0.541455</td>\n",
       "      <td>3315</td>\n",
       "    </tr>\n",
       "    <tr>\n",
       "      <th>4</th>\n",
       "      <td>1</td>\n",
       "      <td>0.995919</td>\n",
       "      <td>4058</td>\n",
       "    </tr>\n",
       "  </tbody>\n",
       "</table>\n",
       "</div>"
      ],
      "text/plain": [
       "   Converted      Prob    ID\n",
       "0          0  0.448574  7656\n",
       "1          0  0.100615  7775\n",
       "2          0  0.135509  5287\n",
       "3          1  0.541455  3315\n",
       "4          1  0.995919  4058"
      ]
     },
     "execution_count": 94,
     "metadata": {},
     "output_type": "execute_result"
    }
   ],
   "source": [
    "#creating new df for predictions\n",
    "y_train_pred_final = pd.DataFrame({'Converted':y_train.values.reshape(-1),'Prob':y_train_pred})\n",
    "y_train_pred_final['ID'] = y_train.index\n",
    "y_train_pred_final.head()"
   ]
  },
  {
   "cell_type": "code",
   "execution_count": 95,
   "metadata": {},
   "outputs": [
    {
     "data": {
      "text/html": [
       "<div>\n",
       "<style scoped>\n",
       "    .dataframe tbody tr th:only-of-type {\n",
       "        vertical-align: middle;\n",
       "    }\n",
       "\n",
       "    .dataframe tbody tr th {\n",
       "        vertical-align: top;\n",
       "    }\n",
       "\n",
       "    .dataframe thead th {\n",
       "        text-align: right;\n",
       "    }\n",
       "</style>\n",
       "<table border=\"1\" class=\"dataframe\">\n",
       "  <thead>\n",
       "    <tr style=\"text-align: right;\">\n",
       "      <th></th>\n",
       "      <th>Converted</th>\n",
       "      <th>Prob</th>\n",
       "      <th>ID</th>\n",
       "      <th>Predicted</th>\n",
       "    </tr>\n",
       "  </thead>\n",
       "  <tbody>\n",
       "    <tr>\n",
       "      <th>0</th>\n",
       "      <td>0</td>\n",
       "      <td>0.448574</td>\n",
       "      <td>7656</td>\n",
       "      <td>0</td>\n",
       "    </tr>\n",
       "    <tr>\n",
       "      <th>1</th>\n",
       "      <td>0</td>\n",
       "      <td>0.100615</td>\n",
       "      <td>7775</td>\n",
       "      <td>0</td>\n",
       "    </tr>\n",
       "    <tr>\n",
       "      <th>2</th>\n",
       "      <td>0</td>\n",
       "      <td>0.135509</td>\n",
       "      <td>5287</td>\n",
       "      <td>0</td>\n",
       "    </tr>\n",
       "    <tr>\n",
       "      <th>3</th>\n",
       "      <td>1</td>\n",
       "      <td>0.541455</td>\n",
       "      <td>3315</td>\n",
       "      <td>1</td>\n",
       "    </tr>\n",
       "    <tr>\n",
       "      <th>4</th>\n",
       "      <td>1</td>\n",
       "      <td>0.995919</td>\n",
       "      <td>4058</td>\n",
       "      <td>1</td>\n",
       "    </tr>\n",
       "    <tr>\n",
       "      <th>5</th>\n",
       "      <td>0</td>\n",
       "      <td>0.340352</td>\n",
       "      <td>363</td>\n",
       "      <td>0</td>\n",
       "    </tr>\n",
       "    <tr>\n",
       "      <th>6</th>\n",
       "      <td>1</td>\n",
       "      <td>0.665101</td>\n",
       "      <td>6714</td>\n",
       "      <td>1</td>\n",
       "    </tr>\n",
       "    <tr>\n",
       "      <th>7</th>\n",
       "      <td>1</td>\n",
       "      <td>0.783092</td>\n",
       "      <td>4797</td>\n",
       "      <td>1</td>\n",
       "    </tr>\n",
       "    <tr>\n",
       "      <th>8</th>\n",
       "      <td>1</td>\n",
       "      <td>0.265426</td>\n",
       "      <td>9109</td>\n",
       "      <td>0</td>\n",
       "    </tr>\n",
       "    <tr>\n",
       "      <th>9</th>\n",
       "      <td>0</td>\n",
       "      <td>0.060730</td>\n",
       "      <td>5264</td>\n",
       "      <td>0</td>\n",
       "    </tr>\n",
       "  </tbody>\n",
       "</table>\n",
       "</div>"
      ],
      "text/plain": [
       "   Converted      Prob    ID  Predicted\n",
       "0          0  0.448574  7656          0\n",
       "1          0  0.100615  7775          0\n",
       "2          0  0.135509  5287          0\n",
       "3          1  0.541455  3315          1\n",
       "4          1  0.995919  4058          1\n",
       "5          0  0.340352   363          0\n",
       "6          1  0.665101  6714          1\n",
       "7          1  0.783092  4797          1\n",
       "8          1  0.265426  9109          0\n",
       "9          0  0.060730  5264          0"
      ]
     },
     "execution_count": 95,
     "metadata": {},
     "output_type": "execute_result"
    }
   ],
   "source": [
    "y_train_pred_final['Predicted'] = y_train_pred_final.Prob.map(lambda x: 1 if x>0.5 else 0)\n",
    "y_train_pred_final[:10]"
   ]
  },
  {
   "cell_type": "markdown",
   "metadata": {},
   "source": [
    "Now we have trained our model and have the predictions on the training set. We will now see some metrics on the predictions made on the training set."
   ]
  },
  {
   "cell_type": "code",
   "execution_count": 96,
   "metadata": {},
   "outputs": [],
   "source": [
    "from sklearn import metrics"
   ]
  },
  {
   "cell_type": "code",
   "execution_count": 97,
   "metadata": {},
   "outputs": [
    {
     "data": {
      "text/plain": [
       "array([[3489,  450],\n",
       "       [ 718, 1694]], dtype=int64)"
      ]
     },
     "execution_count": 97,
     "metadata": {},
     "output_type": "execute_result"
    }
   ],
   "source": [
    "#confusion matrix\n",
    "confusion = metrics.confusion_matrix(y_train_pred_final.Converted, y_train_pred_final.Predicted)\n",
    "confusion"
   ]
  },
  {
   "cell_type": "code",
   "execution_count": 98,
   "metadata": {},
   "outputs": [],
   "source": [
    "#We now have our confusion matrix. \n",
    "tn = confusion[0][0] #true neatives\n",
    "tp = confusion[1][1] #true positives\n",
    "fp = confusion[0][1] #false positives\n",
    "fn = confusion[1][0] #false negatives"
   ]
  },
  {
   "cell_type": "code",
   "execution_count": 99,
   "metadata": {},
   "outputs": [
    {
     "data": {
      "text/plain": [
       "0.8160919540229885"
      ]
     },
     "execution_count": 99,
     "metadata": {},
     "output_type": "execute_result"
    }
   ],
   "source": [
    "#Let's check overall accuracy\n",
    "metrics.accuracy_score(y_train_pred_final.Converted, y_train_pred_final.Predicted)"
   ]
  },
  {
   "cell_type": "markdown",
   "metadata": {},
   "source": [
    "#### Note\n",
    "We have obtained quite good accuracy of 81.6%"
   ]
  },
  {
   "cell_type": "markdown",
   "metadata": {},
   "source": [
    "We will now look at some more metrics, to see how the model is really performing on the train data, and how relevant it will be to meet the business objective."
   ]
  },
  {
   "cell_type": "code",
   "execution_count": 100,
   "metadata": {},
   "outputs": [
    {
     "data": {
      "text/plain": [
       "0.7023217247097844"
      ]
     },
     "execution_count": 100,
     "metadata": {},
     "output_type": "execute_result"
    }
   ],
   "source": [
    "#Sensitivity - this will need to be maximized since the business objective is to identify the hottest leads. \n",
    "#We would not want to miss any of the positives in this scenario.\n",
    "tp / float (tp+fn)"
   ]
  },
  {
   "cell_type": "code",
   "execution_count": 101,
   "metadata": {},
   "outputs": [
    {
     "data": {
      "text/plain": [
       "0.8857578065498858"
      ]
     },
     "execution_count": 101,
     "metadata": {},
     "output_type": "execute_result"
    }
   ],
   "source": [
    "#specificity - this is a measure of how well the model can tell if a lead is not worth following\n",
    "tn / float(tn+fp)"
   ]
  },
  {
   "cell_type": "code",
   "execution_count": 102,
   "metadata": {},
   "outputs": [
    {
     "data": {
      "text/plain": [
       "0.11424219345011424"
      ]
     },
     "execution_count": 102,
     "metadata": {},
     "output_type": "execute_result"
    }
   ],
   "source": [
    "#False positive rate - from all the neagtives, how many were falsely predicted as positive? This should be minimized.\n",
    "fp/float(tn+fp)"
   ]
  },
  {
   "cell_type": "code",
   "execution_count": 103,
   "metadata": {},
   "outputs": [
    {
     "data": {
      "text/plain": [
       "0.7023217247097844"
      ]
     },
     "execution_count": 103,
     "metadata": {},
     "output_type": "execute_result"
    }
   ],
   "source": [
    "#True positive rate - from all the positives, how many were correctly predicted as positive? This should be maximized.\n",
    "#This is same as sensitivity\n",
    "tp/float(tp+fn)"
   ]
  },
  {
   "cell_type": "code",
   "execution_count": 104,
   "metadata": {},
   "outputs": [
    {
     "data": {
      "text/plain": [
       "0.7901119402985075"
      ]
     },
     "execution_count": 104,
     "metadata": {},
     "output_type": "execute_result"
    }
   ],
   "source": [
    "#Positive predictive value\n",
    "tp/float(tp+fp)"
   ]
  },
  {
   "cell_type": "code",
   "execution_count": 105,
   "metadata": {},
   "outputs": [
    {
     "data": {
      "text/plain": [
       "0.8293320656049441"
      ]
     },
     "execution_count": 105,
     "metadata": {},
     "output_type": "execute_result"
    }
   ],
   "source": [
    "#negative predictive value \n",
    "tn/float(tn+fn)"
   ]
  },
  {
   "cell_type": "markdown",
   "metadata": {},
   "source": [
    "All the metrics calculated above are in an acceptable range, but we can work on improving it further and tuning the model to better align with business objective"
   ]
  },
  {
   "cell_type": "markdown",
   "metadata": {},
   "source": [
    "We will now plot the ROC curve.\n",
    "An ROC curve demonstrates several things:\n",
    "\n",
    "- It shows the tradeoff between sensitivity and specificity (any increase in sensitivity will be accompanied by a decrease in specificity).\n",
    "- The closer the curve follows the left-hand border and then the top border of the ROC space, the more accurate the test.\n",
    "- The closer the curve comes to the 45-degree diagonal of the ROC space, the less accurate the test."
   ]
  },
  {
   "cell_type": "code",
   "execution_count": 106,
   "metadata": {},
   "outputs": [],
   "source": [
    "def draw_roc( actual, probs ):\n",
    "    fpr, tpr, thresholds = metrics.roc_curve( actual, probs,\n",
    "                                              drop_intermediate = False )\n",
    "    auc_score = metrics.roc_auc_score( actual, probs )\n",
    "    plt.figure(figsize=(5, 5))\n",
    "    plt.plot( fpr, tpr, label='ROC curve (area = %0.2f)' % auc_score )\n",
    "    plt.plot([0, 1], [0, 1], 'k--')\n",
    "    plt.xlim([0.0, 1.0])\n",
    "    plt.ylim([0.0, 1.05])\n",
    "    plt.xlabel('False Positive Rate or [1 - True Negative Rate]')\n",
    "    plt.ylabel('True Positive Rate')\n",
    "    plt.title('Receiver operating characteristic')\n",
    "    plt.legend(loc=\"lower right\")\n",
    "    plt.show()\n",
    "\n",
    "    return None"
   ]
  },
  {
   "cell_type": "code",
   "execution_count": 107,
   "metadata": {},
   "outputs": [
    {
     "data": {
      "image/png": "[encoded data removed]",
      "text/plain": [
       "<Figure size 360x360 with 1 Axes>"
      ]
     },
     "metadata": {
      "needs_background": "light"
     },
     "output_type": "display_data"
    }
   ],
   "source": [
    "draw_roc(y_train_pred_final.Converted, y_train_pred_final.Prob)"
   ]
  },
  {
   "cell_type": "markdown",
   "metadata": {},
   "source": [
    "#### Inference\n",
    "Since the ROC curve sticking close to the edge and resembling a right angle triangle, we have a good operating chacteristic"
   ]
  },
  {
   "cell_type": "markdown",
   "metadata": {},
   "source": [
    "#### Finding optimal cut-off point\n",
    "We initially chose the cut-off point for the model as 0.5. The lead score itself would serve the purpose of the model, but for sake on analysis, we will try to find the optimal cutoff point for prediction, and it can be included as a recommendation to the business. "
   ]
  },
  {
   "cell_type": "code",
   "execution_count": 108,
   "metadata": {},
   "outputs": [
    {
     "data": {
      "text/html": [
       "<div>\n",
       "<style scoped>\n",
       "    .dataframe tbody tr th:only-of-type {\n",
       "        vertical-align: middle;\n",
       "    }\n",
       "\n",
       "    .dataframe tbody tr th {\n",
       "        vertical-align: top;\n",
       "    }\n",
       "\n",
       "    .dataframe thead th {\n",
       "        text-align: right;\n",
       "    }\n",
       "</style>\n",
       "<table border=\"1\" class=\"dataframe\">\n",
       "  <thead>\n",
       "    <tr style=\"text-align: right;\">\n",
       "      <th></th>\n",
       "      <th>Converted</th>\n",
       "      <th>Prob</th>\n",
       "      <th>ID</th>\n",
       "      <th>Predicted</th>\n",
       "      <th>0.0</th>\n",
       "      <th>0.05</th>\n",
       "      <th>0.1</th>\n",
       "      <th>0.15</th>\n",
       "      <th>0.2</th>\n",
       "      <th>0.25</th>\n",
       "      <th>...</th>\n",
       "      <th>0.55</th>\n",
       "      <th>0.6</th>\n",
       "      <th>0.65</th>\n",
       "      <th>0.7</th>\n",
       "      <th>0.75</th>\n",
       "      <th>0.8</th>\n",
       "      <th>0.85</th>\n",
       "      <th>0.9</th>\n",
       "      <th>0.95</th>\n",
       "      <th>1.0</th>\n",
       "    </tr>\n",
       "  </thead>\n",
       "  <tbody>\n",
       "    <tr>\n",
       "      <th>0</th>\n",
       "      <td>0</td>\n",
       "      <td>0.448574</td>\n",
       "      <td>7656</td>\n",
       "      <td>0</td>\n",
       "      <td>1</td>\n",
       "      <td>1</td>\n",
       "      <td>1</td>\n",
       "      <td>1</td>\n",
       "      <td>1</td>\n",
       "      <td>1</td>\n",
       "      <td>...</td>\n",
       "      <td>0</td>\n",
       "      <td>0</td>\n",
       "      <td>0</td>\n",
       "      <td>0</td>\n",
       "      <td>0</td>\n",
       "      <td>0</td>\n",
       "      <td>0</td>\n",
       "      <td>0</td>\n",
       "      <td>0</td>\n",
       "      <td>0</td>\n",
       "    </tr>\n",
       "    <tr>\n",
       "      <th>1</th>\n",
       "      <td>0</td>\n",
       "      <td>0.100615</td>\n",
       "      <td>7775</td>\n",
       "      <td>0</td>\n",
       "      <td>1</td>\n",
       "      <td>1</td>\n",
       "      <td>1</td>\n",
       "      <td>0</td>\n",
       "      <td>0</td>\n",
       "      <td>0</td>\n",
       "      <td>...</td>\n",
       "      <td>0</td>\n",
       "      <td>0</td>\n",
       "      <td>0</td>\n",
       "      <td>0</td>\n",
       "      <td>0</td>\n",
       "      <td>0</td>\n",
       "      <td>0</td>\n",
       "      <td>0</td>\n",
       "      <td>0</td>\n",
       "      <td>0</td>\n",
       "    </tr>\n",
       "    <tr>\n",
       "      <th>2</th>\n",
       "      <td>0</td>\n",
       "      <td>0.135509</td>\n",
       "      <td>5287</td>\n",
       "      <td>0</td>\n",
       "      <td>1</td>\n",
       "      <td>1</td>\n",
       "      <td>1</td>\n",
       "      <td>0</td>\n",
       "      <td>0</td>\n",
       "      <td>0</td>\n",
       "      <td>...</td>\n",
       "      <td>0</td>\n",
       "      <td>0</td>\n",
       "      <td>0</td>\n",
       "      <td>0</td>\n",
       "      <td>0</td>\n",
       "      <td>0</td>\n",
       "      <td>0</td>\n",
       "      <td>0</td>\n",
       "      <td>0</td>\n",
       "      <td>0</td>\n",
       "    </tr>\n",
       "    <tr>\n",
       "      <th>3</th>\n",
       "      <td>1</td>\n",
       "      <td>0.541455</td>\n",
       "      <td>3315</td>\n",
       "      <td>1</td>\n",
       "      <td>1</td>\n",
       "      <td>1</td>\n",
       "      <td>1</td>\n",
       "      <td>1</td>\n",
       "      <td>1</td>\n",
       "      <td>1</td>\n",
       "      <td>...</td>\n",
       "      <td>0</td>\n",
       "      <td>0</td>\n",
       "      <td>0</td>\n",
       "      <td>0</td>\n",
       "      <td>0</td>\n",
       "      <td>0</td>\n",
       "      <td>0</td>\n",
       "      <td>0</td>\n",
       "      <td>0</td>\n",
       "      <td>0</td>\n",
       "    </tr>\n",
       "    <tr>\n",
       "      <th>4</th>\n",
       "      <td>1</td>\n",
       "      <td>0.995919</td>\n",
       "      <td>4058</td>\n",
       "      <td>1</td>\n",
       "      <td>1</td>\n",
       "      <td>1</td>\n",
       "      <td>1</td>\n",
       "      <td>1</td>\n",
       "      <td>1</td>\n",
       "      <td>1</td>\n",
       "      <td>...</td>\n",
       "      <td>1</td>\n",
       "      <td>1</td>\n",
       "      <td>1</td>\n",
       "      <td>1</td>\n",
       "      <td>1</td>\n",
       "      <td>1</td>\n",
       "      <td>1</td>\n",
       "      <td>1</td>\n",
       "      <td>1</td>\n",
       "      <td>0</td>\n",
       "    </tr>\n",
       "  </tbody>\n",
       "</table>\n",
       "<p>5 rows × 25 columns</p>\n",
       "</div>"
      ],
      "text/plain": [
       "   Converted      Prob    ID  Predicted  0.0  0.05  0.1  0.15  0.2  0.25  ...  \\\n",
       "0          0  0.448574  7656          0    1     1    1     1    1     1  ...   \n",
       "1          0  0.100615  7775          0    1     1    1     0    0     0  ...   \n",
       "2          0  0.135509  5287          0    1     1    1     0    0     0  ...   \n",
       "3          1  0.541455  3315          1    1     1    1     1    1     1  ...   \n",
       "4          1  0.995919  4058          1    1     1    1     1    1     1  ...   \n",
       "\n",
       "   0.55  0.6  0.65  0.7  0.75  0.8  0.85  0.9  0.95  1.0  \n",
       "0     0    0     0    0     0    0     0    0     0    0  \n",
       "1     0    0     0    0     0    0     0    0     0    0  \n",
       "2     0    0     0    0     0    0     0    0     0    0  \n",
       "3     0    0     0    0     0    0     0    0     0    0  \n",
       "4     1    1     1    1     1    1     1    1     1    0  \n",
       "\n",
       "[5 rows x 25 columns]"
      ]
     },
     "execution_count": 108,
     "metadata": {},
     "output_type": "execute_result"
    }
   ],
   "source": [
    "# Let's create columns with different probability cutoffs \n",
    "numbers = [(round(i/100,2)) for i in range(0,101,5)]\n",
    "for i in numbers:\n",
    "    y_train_pred_final[i]= y_train_pred_final.Prob.map(lambda x: 1 if x > i else 0)\n",
    "y_train_pred_final.head()"
   ]
  },
  {
   "cell_type": "code",
   "execution_count": 109,
   "metadata": {},
   "outputs": [
    {
     "name": "stdout",
     "output_type": "stream",
     "text": [
      "      prob  accuracy  sensitivity  specificity\n",
      "0.00  0.00  0.379783     1.000000     0.000000\n",
      "0.05  0.05  0.430326     0.995854     0.084031\n",
      "0.10  0.10  0.595339     0.970564     0.365575\n",
      "0.15  0.15  0.693749     0.928690     0.549886\n",
      "0.20  0.20  0.740198     0.907546     0.637725\n",
      "0.25  0.25  0.779877     0.859867     0.730896\n",
      "0.30  0.30  0.790269     0.837065     0.761615\n",
      "0.35  0.35  0.804913     0.801824     0.806804\n",
      "0.40  0.40  0.812943     0.771973     0.838030\n",
      "0.45  0.45  0.815462     0.733002     0.865956\n",
      "0.50  0.50  0.816092     0.702322     0.885758\n",
      "0.55  0.55  0.802236     0.619818     0.913938\n",
      "0.60  0.60  0.797512     0.583333     0.928662\n",
      "0.65  0.65  0.791214     0.543118     0.943133\n",
      "0.70  0.70  0.782554     0.508292     0.950495\n",
      "0.75  0.75  0.772162     0.466003     0.959634\n",
      "0.80  0.80  0.760353     0.415423     0.971566\n",
      "0.85  0.85  0.743977     0.357794     0.980452\n",
      "0.90  0.90  0.720989     0.284411     0.988322\n",
      "0.95  0.95  0.688238     0.185323     0.996192\n",
      "1.00  1.00  0.620217     0.000000     1.000000\n"
     ]
    }
   ],
   "source": [
    "# Now let's calculate accuracy sensitivity and specificity for various probability cutoffs.\n",
    "cutoff_df = pd.DataFrame( columns = ['prob','accuracy','sensitivity','specificity'])\n",
    "from sklearn.metrics import confusion_matrix\n",
    "\n",
    "# TP = confusion[1,1] # true positive \n",
    "# TN = confusion[0,0] # true negatives\n",
    "# FP = confusion[0,1] # false positives\n",
    "# FN = confusion[1,0] # false negatives\n",
    "\n",
    "num = [(round(i/100,2)) for i in range(0,101,5)]\n",
    "for i in num:\n",
    "    cm1 = metrics.confusion_matrix(y_train_pred_final.Converted, y_train_pred_final[i] )\n",
    "    total1=sum(sum(cm1))\n",
    "    accuracy = (cm1[0,0]+cm1[1,1])/total1\n",
    "#     accuracy = metrics.accuracy_score(y_train_pred_final.Converted, y_train_pred_final[i])\n",
    "    specificity = cm1[0,0]/(cm1[0,0]+cm1[0,1])\n",
    "    sensitivity = cm1[1,1]/(cm1[1,0]+cm1[1,1])\n",
    "    cutoff_df.loc[i] =[ i ,accuracy,sensitivity,specificity]\n",
    "print(cutoff_df)"
   ]
  },
  {
   "cell_type": "code",
   "execution_count": 110,
   "metadata": {},
   "outputs": [
    {
     "data": {
      "image/png": "[encoded data removed]",
      "text/plain": [
       "<Figure size 432x288 with 1 Axes>"
      ]
     },
     "metadata": {
      "needs_background": "light"
     },
     "output_type": "display_data"
    }
   ],
   "source": [
    "# Let's plot accuracy sensitivity and specificity for various probabilities.\n",
    "cutoff_df.plot.line(x='prob', y=['accuracy','sensitivity','specificity'])\n",
    "plt.show()"
   ]
  },
  {
   "cell_type": "markdown",
   "metadata": {},
   "source": [
    "#### Inference\n",
    "From the plot above, it is clear that a value of around 0.3 would be the optimum cut-off for the lead score. Thus, a lead score above 0.3 would qualify as a hot lead and should be pursued by the company, and would have a much better chance of getting converted.\n",
    "\n",
    "Since the business objective is to get a target of 80% lead conversion rate, we have to keep this in mind while setting the threshold as well."
   ]
  },
  {
   "cell_type": "code",
   "execution_count": 111,
   "metadata": {},
   "outputs": [
    {
     "data": {
      "text/html": [
       "<div>\n",
       "<style scoped>\n",
       "    .dataframe tbody tr th:only-of-type {\n",
       "        vertical-align: middle;\n",
       "    }\n",
       "\n",
       "    .dataframe tbody tr th {\n",
       "        vertical-align: top;\n",
       "    }\n",
       "\n",
       "    .dataframe thead th {\n",
       "        text-align: right;\n",
       "    }\n",
       "</style>\n",
       "<table border=\"1\" class=\"dataframe\">\n",
       "  <thead>\n",
       "    <tr style=\"text-align: right;\">\n",
       "      <th></th>\n",
       "      <th>Converted</th>\n",
       "      <th>Prob</th>\n",
       "      <th>ID</th>\n",
       "      <th>Predicted</th>\n",
       "      <th>0.0</th>\n",
       "      <th>0.05</th>\n",
       "      <th>0.1</th>\n",
       "      <th>0.15</th>\n",
       "      <th>0.2</th>\n",
       "      <th>0.25</th>\n",
       "      <th>...</th>\n",
       "      <th>0.55</th>\n",
       "      <th>0.6</th>\n",
       "      <th>0.65</th>\n",
       "      <th>0.7</th>\n",
       "      <th>0.75</th>\n",
       "      <th>0.8</th>\n",
       "      <th>0.85</th>\n",
       "      <th>0.9</th>\n",
       "      <th>0.95</th>\n",
       "      <th>1.0</th>\n",
       "    </tr>\n",
       "  </thead>\n",
       "  <tbody>\n",
       "    <tr>\n",
       "      <th>0</th>\n",
       "      <td>0</td>\n",
       "      <td>0.448574</td>\n",
       "      <td>7656</td>\n",
       "      <td>0</td>\n",
       "      <td>1</td>\n",
       "      <td>1</td>\n",
       "      <td>1</td>\n",
       "      <td>1</td>\n",
       "      <td>1</td>\n",
       "      <td>1</td>\n",
       "      <td>...</td>\n",
       "      <td>0</td>\n",
       "      <td>0</td>\n",
       "      <td>0</td>\n",
       "      <td>0</td>\n",
       "      <td>0</td>\n",
       "      <td>0</td>\n",
       "      <td>0</td>\n",
       "      <td>0</td>\n",
       "      <td>0</td>\n",
       "      <td>0</td>\n",
       "    </tr>\n",
       "    <tr>\n",
       "      <th>1</th>\n",
       "      <td>0</td>\n",
       "      <td>0.100615</td>\n",
       "      <td>7775</td>\n",
       "      <td>0</td>\n",
       "      <td>1</td>\n",
       "      <td>1</td>\n",
       "      <td>1</td>\n",
       "      <td>0</td>\n",
       "      <td>0</td>\n",
       "      <td>0</td>\n",
       "      <td>...</td>\n",
       "      <td>0</td>\n",
       "      <td>0</td>\n",
       "      <td>0</td>\n",
       "      <td>0</td>\n",
       "      <td>0</td>\n",
       "      <td>0</td>\n",
       "      <td>0</td>\n",
       "      <td>0</td>\n",
       "      <td>0</td>\n",
       "      <td>0</td>\n",
       "    </tr>\n",
       "    <tr>\n",
       "      <th>2</th>\n",
       "      <td>0</td>\n",
       "      <td>0.135509</td>\n",
       "      <td>5287</td>\n",
       "      <td>0</td>\n",
       "      <td>1</td>\n",
       "      <td>1</td>\n",
       "      <td>1</td>\n",
       "      <td>0</td>\n",
       "      <td>0</td>\n",
       "      <td>0</td>\n",
       "      <td>...</td>\n",
       "      <td>0</td>\n",
       "      <td>0</td>\n",
       "      <td>0</td>\n",
       "      <td>0</td>\n",
       "      <td>0</td>\n",
       "      <td>0</td>\n",
       "      <td>0</td>\n",
       "      <td>0</td>\n",
       "      <td>0</td>\n",
       "      <td>0</td>\n",
       "    </tr>\n",
       "    <tr>\n",
       "      <th>3</th>\n",
       "      <td>1</td>\n",
       "      <td>0.541455</td>\n",
       "      <td>3315</td>\n",
       "      <td>1</td>\n",
       "      <td>1</td>\n",
       "      <td>1</td>\n",
       "      <td>1</td>\n",
       "      <td>1</td>\n",
       "      <td>1</td>\n",
       "      <td>1</td>\n",
       "      <td>...</td>\n",
       "      <td>0</td>\n",
       "      <td>0</td>\n",
       "      <td>0</td>\n",
       "      <td>0</td>\n",
       "      <td>0</td>\n",
       "      <td>0</td>\n",
       "      <td>0</td>\n",
       "      <td>0</td>\n",
       "      <td>0</td>\n",
       "      <td>0</td>\n",
       "    </tr>\n",
       "    <tr>\n",
       "      <th>4</th>\n",
       "      <td>1</td>\n",
       "      <td>0.995919</td>\n",
       "      <td>4058</td>\n",
       "      <td>1</td>\n",
       "      <td>1</td>\n",
       "      <td>1</td>\n",
       "      <td>1</td>\n",
       "      <td>1</td>\n",
       "      <td>1</td>\n",
       "      <td>1</td>\n",
       "      <td>...</td>\n",
       "      <td>1</td>\n",
       "      <td>1</td>\n",
       "      <td>1</td>\n",
       "      <td>1</td>\n",
       "      <td>1</td>\n",
       "      <td>1</td>\n",
       "      <td>1</td>\n",
       "      <td>1</td>\n",
       "      <td>1</td>\n",
       "      <td>0</td>\n",
       "    </tr>\n",
       "  </tbody>\n",
       "</table>\n",
       "<p>5 rows × 25 columns</p>\n",
       "</div>"
      ],
      "text/plain": [
       "   Converted      Prob    ID  Predicted  0.0  0.05  0.1  0.15  0.2  0.25  ...  \\\n",
       "0          0  0.448574  7656          0    1     1    1     1    1     1  ...   \n",
       "1          0  0.100615  7775          0    1     1    1     0    0     0  ...   \n",
       "2          0  0.135509  5287          0    1     1    1     0    0     0  ...   \n",
       "3          1  0.541455  3315          1    1     1    1     1    1     1  ...   \n",
       "4          1  0.995919  4058          1    1     1    1     1    1     1  ...   \n",
       "\n",
       "   0.55  0.6  0.65  0.7  0.75  0.8  0.85  0.9  0.95  1.0  \n",
       "0     0    0     0    0     0    0     0    0     0    0  \n",
       "1     0    0     0    0     0    0     0    0     0    0  \n",
       "2     0    0     0    0     0    0     0    0     0    0  \n",
       "3     0    0     0    0     0    0     0    0     0    0  \n",
       "4     1    1     1    1     1    1     1    1     1    0  \n",
       "\n",
       "[5 rows x 25 columns]"
      ]
     },
     "execution_count": 111,
     "metadata": {},
     "output_type": "execute_result"
    }
   ],
   "source": [
    "y_train_pred_final.head()"
   ]
  },
  {
   "cell_type": "code",
   "execution_count": 112,
   "metadata": {},
   "outputs": [],
   "source": [
    "#Trying cutoff 0.35\n",
    "cutoff=0.35"
   ]
  },
  {
   "cell_type": "code",
   "execution_count": 113,
   "metadata": {},
   "outputs": [
    {
     "data": {
      "text/html": [
       "<div>\n",
       "<style scoped>\n",
       "    .dataframe tbody tr th:only-of-type {\n",
       "        vertical-align: middle;\n",
       "    }\n",
       "\n",
       "    .dataframe tbody tr th {\n",
       "        vertical-align: top;\n",
       "    }\n",
       "\n",
       "    .dataframe thead th {\n",
       "        text-align: right;\n",
       "    }\n",
       "</style>\n",
       "<table border=\"1\" class=\"dataframe\">\n",
       "  <thead>\n",
       "    <tr style=\"text-align: right;\">\n",
       "      <th></th>\n",
       "      <th>Converted</th>\n",
       "      <th>Prob</th>\n",
       "      <th>ID</th>\n",
       "      <th>final_predicted</th>\n",
       "      <th>Lead Score</th>\n",
       "    </tr>\n",
       "  </thead>\n",
       "  <tbody>\n",
       "    <tr>\n",
       "      <th>0</th>\n",
       "      <td>0</td>\n",
       "      <td>0.448574</td>\n",
       "      <td>7656</td>\n",
       "      <td>1</td>\n",
       "      <td>45</td>\n",
       "    </tr>\n",
       "    <tr>\n",
       "      <th>1</th>\n",
       "      <td>0</td>\n",
       "      <td>0.100615</td>\n",
       "      <td>7775</td>\n",
       "      <td>0</td>\n",
       "      <td>10</td>\n",
       "    </tr>\n",
       "    <tr>\n",
       "      <th>2</th>\n",
       "      <td>0</td>\n",
       "      <td>0.135509</td>\n",
       "      <td>5287</td>\n",
       "      <td>0</td>\n",
       "      <td>14</td>\n",
       "    </tr>\n",
       "    <tr>\n",
       "      <th>3</th>\n",
       "      <td>1</td>\n",
       "      <td>0.541455</td>\n",
       "      <td>3315</td>\n",
       "      <td>1</td>\n",
       "      <td>54</td>\n",
       "    </tr>\n",
       "    <tr>\n",
       "      <th>4</th>\n",
       "      <td>1</td>\n",
       "      <td>0.995919</td>\n",
       "      <td>4058</td>\n",
       "      <td>1</td>\n",
       "      <td>100</td>\n",
       "    </tr>\n",
       "  </tbody>\n",
       "</table>\n",
       "</div>"
      ],
      "text/plain": [
       "   Converted      Prob    ID  final_predicted  Lead Score\n",
       "0          0  0.448574  7656                1          45\n",
       "1          0  0.100615  7775                0          10\n",
       "2          0  0.135509  5287                0          14\n",
       "3          1  0.541455  3315                1          54\n",
       "4          1  0.995919  4058                1         100"
      ]
     },
     "execution_count": 113,
     "metadata": {},
     "output_type": "execute_result"
    }
   ],
   "source": [
    "y_train_pred_final['final_predicted'] = y_train_pred_final.Prob.map( lambda x: 1 if x > cutoff else 0)\n",
    "\n",
    "#Also adding Lead Score in line with the business objective\n",
    "y_train_pred_final['Lead Score'] = y_train_pred_final['Prob'].apply(lambda x: int(round(x*100,0)))\n",
    "\n",
    "#We can remove the rest of the columns now\n",
    "y_train_pred_final = y_train_pred_final[['Converted','Prob','ID','final_predicted','Lead Score']]\n",
    "\n",
    "y_train_pred_final.head()"
   ]
  },
  {
   "cell_type": "code",
   "execution_count": 114,
   "metadata": {},
   "outputs": [
    {
     "data": {
      "text/plain": [
       "array([[3178,  761],\n",
       "       [ 478, 1934]], dtype=int64)"
      ]
     },
     "execution_count": 114,
     "metadata": {},
     "output_type": "execute_result"
    }
   ],
   "source": [
    "confusion2 = metrics.confusion_matrix(y_train_pred_final.Converted, y_train_pred_final.final_predicted )\n",
    "TP = confusion2[1,1] # true positive \n",
    "TN = confusion2[0,0] # true negatives\n",
    "FP = confusion2[0,1] # false positives\n",
    "FN = confusion2[1,0] # false negatives\n",
    "confusion2"
   ]
  },
  {
   "cell_type": "code",
   "execution_count": 115,
   "metadata": {},
   "outputs": [
    {
     "data": {
      "text/plain": [
       "0.8049126121870571"
      ]
     },
     "execution_count": 115,
     "metadata": {},
     "output_type": "execute_result"
    }
   ],
   "source": [
    "# Let's check the overall accuracy.\n",
    "metrics.accuracy_score(y_train_pred_final.Converted, y_train_pred_final.final_predicted)"
   ]
  },
  {
   "cell_type": "code",
   "execution_count": 116,
   "metadata": {},
   "outputs": [
    {
     "data": {
      "text/plain": [
       "0.8018242122719734"
      ]
     },
     "execution_count": 116,
     "metadata": {},
     "output_type": "execute_result"
    }
   ],
   "source": [
    "# Let's see the sensitivity of our logistic regression model\n",
    "TP / float(TP+FN)"
   ]
  },
  {
   "cell_type": "code",
   "execution_count": 117,
   "metadata": {},
   "outputs": [
    {
     "data": {
      "text/plain": [
       "0.8068037572988068"
      ]
     },
     "execution_count": 117,
     "metadata": {},
     "output_type": "execute_result"
    }
   ],
   "source": [
    "# Let us calculate specificity\n",
    "TN / float(TN+FP)"
   ]
  },
  {
   "cell_type": "code",
   "execution_count": 118,
   "metadata": {},
   "outputs": [
    {
     "name": "stdout",
     "output_type": "stream",
     "text": [
      "0.1931962427011932\n"
     ]
    }
   ],
   "source": [
    "# Calculate false postive rate - predicting conversion when the customer would not convert\n",
    "print(FP/ float(TN+FP))"
   ]
  },
  {
   "cell_type": "code",
   "execution_count": 119,
   "metadata": {},
   "outputs": [],
   "source": [
    "#Setting cutoff 0.3\n",
    "cutoff=0.3"
   ]
  },
  {
   "cell_type": "code",
   "execution_count": 120,
   "metadata": {
    "scrolled": true
   },
   "outputs": [
    {
     "data": {
      "text/html": [
       "<div>\n",
       "<style scoped>\n",
       "    .dataframe tbody tr th:only-of-type {\n",
       "        vertical-align: middle;\n",
       "    }\n",
       "\n",
       "    .dataframe tbody tr th {\n",
       "        vertical-align: top;\n",
       "    }\n",
       "\n",
       "    .dataframe thead th {\n",
       "        text-align: right;\n",
       "    }\n",
       "</style>\n",
       "<table border=\"1\" class=\"dataframe\">\n",
       "  <thead>\n",
       "    <tr style=\"text-align: right;\">\n",
       "      <th></th>\n",
       "      <th>Converted</th>\n",
       "      <th>Prob</th>\n",
       "      <th>ID</th>\n",
       "      <th>final_predicted</th>\n",
       "      <th>Lead Score</th>\n",
       "    </tr>\n",
       "  </thead>\n",
       "  <tbody>\n",
       "    <tr>\n",
       "      <th>0</th>\n",
       "      <td>0</td>\n",
       "      <td>0.448574</td>\n",
       "      <td>7656</td>\n",
       "      <td>1</td>\n",
       "      <td>45</td>\n",
       "    </tr>\n",
       "    <tr>\n",
       "      <th>1</th>\n",
       "      <td>0</td>\n",
       "      <td>0.100615</td>\n",
       "      <td>7775</td>\n",
       "      <td>0</td>\n",
       "      <td>10</td>\n",
       "    </tr>\n",
       "    <tr>\n",
       "      <th>2</th>\n",
       "      <td>0</td>\n",
       "      <td>0.135509</td>\n",
       "      <td>5287</td>\n",
       "      <td>0</td>\n",
       "      <td>14</td>\n",
       "    </tr>\n",
       "    <tr>\n",
       "      <th>3</th>\n",
       "      <td>1</td>\n",
       "      <td>0.541455</td>\n",
       "      <td>3315</td>\n",
       "      <td>1</td>\n",
       "      <td>54</td>\n",
       "    </tr>\n",
       "    <tr>\n",
       "      <th>4</th>\n",
       "      <td>1</td>\n",
       "      <td>0.995919</td>\n",
       "      <td>4058</td>\n",
       "      <td>1</td>\n",
       "      <td>100</td>\n",
       "    </tr>\n",
       "  </tbody>\n",
       "</table>\n",
       "</div>"
      ],
      "text/plain": [
       "   Converted      Prob    ID  final_predicted  Lead Score\n",
       "0          0  0.448574  7656                1          45\n",
       "1          0  0.100615  7775                0          10\n",
       "2          0  0.135509  5287                0          14\n",
       "3          1  0.541455  3315                1          54\n",
       "4          1  0.995919  4058                1         100"
      ]
     },
     "execution_count": 120,
     "metadata": {},
     "output_type": "execute_result"
    }
   ],
   "source": [
    "y_train_pred_final['final_predicted'] = y_train_pred_final.Prob.map( lambda x: 1 if x > cutoff else 0)\n",
    "\n",
    "#Also adding Lead Score in line with the business objective\n",
    "y_train_pred_final['Lead Score'] = y_train_pred_final['Prob'].apply(lambda x: int(round(x*100,0)))\n",
    "\n",
    "#We can remove the rest of the columns now\n",
    "y_train_pred_final = y_train_pred_final[['Converted','Prob','ID','final_predicted','Lead Score']]\n",
    "\n",
    "y_train_pred_final.head()"
   ]
  },
  {
   "cell_type": "code",
   "execution_count": 121,
   "metadata": {},
   "outputs": [
    {
     "data": {
      "text/plain": [
       "0.7902692489371752"
      ]
     },
     "execution_count": 121,
     "metadata": {},
     "output_type": "execute_result"
    }
   ],
   "source": [
    "# Let's check the overall accuracy.\n",
    "metrics.accuracy_score(y_train_pred_final.Converted, y_train_pred_final.final_predicted)"
   ]
  },
  {
   "cell_type": "code",
   "execution_count": 122,
   "metadata": {},
   "outputs": [
    {
     "data": {
      "text/plain": [
       "array([[3000,  939],\n",
       "       [ 393, 2019]], dtype=int64)"
      ]
     },
     "execution_count": 122,
     "metadata": {},
     "output_type": "execute_result"
    }
   ],
   "source": [
    "confusion2 = metrics.confusion_matrix(y_train_pred_final.Converted, y_train_pred_final.final_predicted )\n",
    "confusion2"
   ]
  },
  {
   "cell_type": "code",
   "execution_count": 123,
   "metadata": {},
   "outputs": [],
   "source": [
    "TP = confusion2[1,1] # true positive \n",
    "TN = confusion2[0,0] # true negatives\n",
    "FP = confusion2[0,1] # false positives\n",
    "FN = confusion2[1,0] # false negatives"
   ]
  },
  {
   "cell_type": "code",
   "execution_count": 124,
   "metadata": {},
   "outputs": [
    {
     "data": {
      "text/plain": [
       "0.8370646766169154"
      ]
     },
     "execution_count": 124,
     "metadata": {},
     "output_type": "execute_result"
    }
   ],
   "source": [
    "# Let's see the sensitivity of our logistic regression model\n",
    "TP / float(TP+FN)"
   ]
  },
  {
   "cell_type": "code",
   "execution_count": 125,
   "metadata": {},
   "outputs": [
    {
     "data": {
      "text/plain": [
       "0.7616146230007617"
      ]
     },
     "execution_count": 125,
     "metadata": {},
     "output_type": "execute_result"
    }
   ],
   "source": [
    "# Let us calculate specificity\n",
    "TN / float(TN+FP)"
   ]
  },
  {
   "cell_type": "code",
   "execution_count": 126,
   "metadata": {},
   "outputs": [
    {
     "name": "stdout",
     "output_type": "stream",
     "text": [
      "0.2383853769992384\n"
     ]
    }
   ],
   "source": [
    "# Calculate false postive rate - predicting conversion when the customer would not convert\n",
    "print(FP/ float(TN+FP))"
   ]
  },
  {
   "cell_type": "code",
   "execution_count": 127,
   "metadata": {},
   "outputs": [
    {
     "name": "stdout",
     "output_type": "stream",
     "text": [
      "0.6825557809330629\n"
     ]
    }
   ],
   "source": [
    "# Positive predictive value \n",
    "print (TP / float(TP+FP))"
   ]
  },
  {
   "cell_type": "code",
   "execution_count": 128,
   "metadata": {
    "scrolled": true
   },
   "outputs": [
    {
     "name": "stdout",
     "output_type": "stream",
     "text": [
      "0.8841732979664014\n"
     ]
    }
   ],
   "source": [
    "# Negative predictive value\n",
    "print (TN / float(TN+ FN))"
   ]
  },
  {
   "cell_type": "markdown",
   "metadata": {},
   "source": [
    "#### Inference\n",
    "* We obtain an accuracy of 79% on the training data, while maintaing a sensitivity of 84%. \n",
    "* We can proceed with these results since they are in line with business objective"
   ]
  },
  {
   "cell_type": "markdown",
   "metadata": {},
   "source": [
    "### Precision and Recall"
   ]
  },
  {
   "cell_type": "code",
   "execution_count": 129,
   "metadata": {},
   "outputs": [
    {
     "data": {
      "text/plain": [
       "array([[3000,  939],\n",
       "       [ 393, 2019]], dtype=int64)"
      ]
     },
     "execution_count": 129,
     "metadata": {},
     "output_type": "execute_result"
    }
   ],
   "source": [
    "#We have the confusion matrix as \n",
    "confusion2"
   ]
  },
  {
   "cell_type": "code",
   "execution_count": 130,
   "metadata": {},
   "outputs": [
    {
     "data": {
      "text/plain": [
       "0.6825557809330629"
      ]
     },
     "execution_count": 130,
     "metadata": {},
     "output_type": "execute_result"
    }
   ],
   "source": [
    "#Precision \n",
    "TP/(TP+FP)"
   ]
  },
  {
   "cell_type": "code",
   "execution_count": 131,
   "metadata": {},
   "outputs": [
    {
     "data": {
      "text/plain": [
       "0.8370646766169154"
      ]
     },
     "execution_count": 131,
     "metadata": {},
     "output_type": "execute_result"
    }
   ],
   "source": [
    "#recall\n",
    "TP/(TP+FN)"
   ]
  },
  {
   "cell_type": "code",
   "execution_count": 132,
   "metadata": {},
   "outputs": [],
   "source": [
    "#We can also get the precision and recall values usking sklearn\n",
    "from sklearn.metrics import precision_score, recall_score"
   ]
  },
  {
   "cell_type": "code",
   "execution_count": 133,
   "metadata": {},
   "outputs": [
    {
     "data": {
      "text/plain": [
       "0.6825557809330629"
      ]
     },
     "execution_count": 133,
     "metadata": {},
     "output_type": "execute_result"
    }
   ],
   "source": [
    "precision_score(y_train_pred_final.Converted, y_train_pred_final.final_predicted)"
   ]
  },
  {
   "cell_type": "code",
   "execution_count": 134,
   "metadata": {},
   "outputs": [
    {
     "data": {
      "text/plain": [
       "0.8370646766169154"
      ]
     },
     "execution_count": 134,
     "metadata": {},
     "output_type": "execute_result"
    }
   ],
   "source": [
    "recall_score(y_train_pred_final.Converted, y_train_pred_final.final_predicted)"
   ]
  },
  {
   "cell_type": "markdown",
   "metadata": {},
   "source": [
    "### Precision and Recall Trade-off"
   ]
  },
  {
   "cell_type": "code",
   "execution_count": 135,
   "metadata": {},
   "outputs": [],
   "source": [
    "from sklearn.metrics import precision_recall_curve"
   ]
  },
  {
   "cell_type": "code",
   "execution_count": 136,
   "metadata": {},
   "outputs": [],
   "source": [
    "p, r, thresholds = precision_recall_curve(y_train_pred_final.Converted, y_train_pred_final.Prob)"
   ]
  },
  {
   "cell_type": "code",
   "execution_count": 137,
   "metadata": {
    "scrolled": true
   },
   "outputs": [
    {
     "data": {
      "image/png": "[encoded data removed]",
      "text/plain": [
       "<Figure size 432x288 with 1 Axes>"
      ]
     },
     "metadata": {
      "needs_background": "light"
     },
     "output_type": "display_data"
    }
   ],
   "source": [
    "fig,ax=plt.subplots()\n",
    "ax.plot(thresholds, p[:-1], \"g-\", label='Precision') #plotting precision as green line\n",
    "ax.plot(thresholds, r[:-1], \"r-\", label = 'Recall') #plotting recall as red line\n",
    "plt.xlabel('Probability Threshold')\n",
    "legend = ax.legend(loc='best', shadow=True)\n",
    "plt.ylabel('Precision/Recall')\n",
    "plt.title('Precision - Recall Curve')\n",
    "plt.show()"
   ]
  },
  {
   "cell_type": "markdown",
   "metadata": {},
   "source": [
    "A value close to 0.3 seems to be optimal."
   ]
  },
  {
   "cell_type": "markdown",
   "metadata": {},
   "source": [
    "### Making predictions on the test set"
   ]
  },
  {
   "cell_type": "code",
   "execution_count": 138,
   "metadata": {},
   "outputs": [
    {
     "data": {
      "text/html": [
       "<div>\n",
       "<style scoped>\n",
       "    .dataframe tbody tr th:only-of-type {\n",
       "        vertical-align: middle;\n",
       "    }\n",
       "\n",
       "    .dataframe tbody tr th {\n",
       "        vertical-align: top;\n",
       "    }\n",
       "\n",
       "    .dataframe thead th {\n",
       "        text-align: right;\n",
       "    }\n",
       "</style>\n",
       "<table border=\"1\" class=\"dataframe\">\n",
       "  <thead>\n",
       "    <tr style=\"text-align: right;\">\n",
       "      <th></th>\n",
       "      <th>TotalVisits</th>\n",
       "      <th>Time Spent</th>\n",
       "      <th>Views</th>\n",
       "      <th>Free Copy</th>\n",
       "      <th>Lead Origin_Landing Page Submission</th>\n",
       "      <th>Lead Origin_Lead Add Form</th>\n",
       "      <th>Lead Origin_Lead Import</th>\n",
       "      <th>Lead Source_Google</th>\n",
       "      <th>Lead Source_Olark Chat</th>\n",
       "      <th>Lead Source_Organic Search</th>\n",
       "      <th>...</th>\n",
       "      <th>City_Other Cities of Maharashtra</th>\n",
       "      <th>City_Other Metro Cities</th>\n",
       "      <th>City_Thane &amp; Outskirts</th>\n",
       "      <th>City_Tier II Cities</th>\n",
       "      <th>Last Notable Activity_Email Opened</th>\n",
       "      <th>Last Notable Activity_Modified</th>\n",
       "      <th>Last Notable Activity_Olark Chat Conversation</th>\n",
       "      <th>Last Notable Activity_Others</th>\n",
       "      <th>Last Notable Activity_Page Visited on Website</th>\n",
       "      <th>Last Notable Activity_SMS Sent</th>\n",
       "    </tr>\n",
       "  </thead>\n",
       "  <tbody>\n",
       "    <tr>\n",
       "      <th>4079</th>\n",
       "      <td>0.158305</td>\n",
       "      <td>1.795869</td>\n",
       "      <td>0.774233</td>\n",
       "      <td>0</td>\n",
       "      <td>1</td>\n",
       "      <td>0</td>\n",
       "      <td>0</td>\n",
       "      <td>0</td>\n",
       "      <td>0</td>\n",
       "      <td>0</td>\n",
       "      <td>...</td>\n",
       "      <td>0</td>\n",
       "      <td>0</td>\n",
       "      <td>0</td>\n",
       "      <td>0</td>\n",
       "      <td>0</td>\n",
       "      <td>1</td>\n",
       "      <td>0</td>\n",
       "      <td>0</td>\n",
       "      <td>0</td>\n",
       "      <td>0</td>\n",
       "    </tr>\n",
       "    <tr>\n",
       "      <th>8310</th>\n",
       "      <td>-0.849104</td>\n",
       "      <td>-0.882958</td>\n",
       "      <td>-1.087151</td>\n",
       "      <td>0</td>\n",
       "      <td>0</td>\n",
       "      <td>0</td>\n",
       "      <td>0</td>\n",
       "      <td>0</td>\n",
       "      <td>1</td>\n",
       "      <td>0</td>\n",
       "      <td>...</td>\n",
       "      <td>0</td>\n",
       "      <td>0</td>\n",
       "      <td>0</td>\n",
       "      <td>0</td>\n",
       "      <td>0</td>\n",
       "      <td>0</td>\n",
       "      <td>0</td>\n",
       "      <td>0</td>\n",
       "      <td>0</td>\n",
       "      <td>1</td>\n",
       "    </tr>\n",
       "    <tr>\n",
       "      <th>1708</th>\n",
       "      <td>-0.093547</td>\n",
       "      <td>-0.375855</td>\n",
       "      <td>0.308887</td>\n",
       "      <td>1</td>\n",
       "      <td>1</td>\n",
       "      <td>0</td>\n",
       "      <td>0</td>\n",
       "      <td>0</td>\n",
       "      <td>0</td>\n",
       "      <td>1</td>\n",
       "      <td>...</td>\n",
       "      <td>0</td>\n",
       "      <td>0</td>\n",
       "      <td>0</td>\n",
       "      <td>0</td>\n",
       "      <td>0</td>\n",
       "      <td>1</td>\n",
       "      <td>0</td>\n",
       "      <td>0</td>\n",
       "      <td>0</td>\n",
       "      <td>0</td>\n",
       "    </tr>\n",
       "    <tr>\n",
       "      <th>8025</th>\n",
       "      <td>1.417566</td>\n",
       "      <td>1.777496</td>\n",
       "      <td>-0.249528</td>\n",
       "      <td>0</td>\n",
       "      <td>0</td>\n",
       "      <td>0</td>\n",
       "      <td>0</td>\n",
       "      <td>0</td>\n",
       "      <td>0</td>\n",
       "      <td>0</td>\n",
       "      <td>...</td>\n",
       "      <td>0</td>\n",
       "      <td>0</td>\n",
       "      <td>0</td>\n",
       "      <td>0</td>\n",
       "      <td>1</td>\n",
       "      <td>0</td>\n",
       "      <td>0</td>\n",
       "      <td>0</td>\n",
       "      <td>0</td>\n",
       "      <td>0</td>\n",
       "    </tr>\n",
       "    <tr>\n",
       "      <th>2414</th>\n",
       "      <td>-0.849104</td>\n",
       "      <td>-0.882958</td>\n",
       "      <td>-1.087151</td>\n",
       "      <td>0</td>\n",
       "      <td>0</td>\n",
       "      <td>0</td>\n",
       "      <td>0</td>\n",
       "      <td>0</td>\n",
       "      <td>1</td>\n",
       "      <td>0</td>\n",
       "      <td>...</td>\n",
       "      <td>0</td>\n",
       "      <td>0</td>\n",
       "      <td>0</td>\n",
       "      <td>0</td>\n",
       "      <td>0</td>\n",
       "      <td>1</td>\n",
       "      <td>0</td>\n",
       "      <td>0</td>\n",
       "      <td>0</td>\n",
       "      <td>0</td>\n",
       "    </tr>\n",
       "  </tbody>\n",
       "</table>\n",
       "<p>5 rows × 56 columns</p>\n",
       "</div>"
      ],
      "text/plain": [
       "      TotalVisits  Time Spent     Views  Free Copy  \\\n",
       "4079     0.158305    1.795869  0.774233          0   \n",
       "8310    -0.849104   -0.882958 -1.087151          0   \n",
       "1708    -0.093547   -0.375855  0.308887          1   \n",
       "8025     1.417566    1.777496 -0.249528          0   \n",
       "2414    -0.849104   -0.882958 -1.087151          0   \n",
       "\n",
       "      Lead Origin_Landing Page Submission  Lead Origin_Lead Add Form  \\\n",
       "4079                                    1                          0   \n",
       "8310                                    0                          0   \n",
       "1708                                    1                          0   \n",
       "8025                                    0                          0   \n",
       "2414                                    0                          0   \n",
       "\n",
       "      Lead Origin_Lead Import  Lead Source_Google  Lead Source_Olark Chat  \\\n",
       "4079                        0                   0                       0   \n",
       "8310                        0                   0                       1   \n",
       "1708                        0                   0                       0   \n",
       "8025                        0                   0                       0   \n",
       "2414                        0                   0                       1   \n",
       "\n",
       "      Lead Source_Organic Search  ...  City_Other Cities of Maharashtra  \\\n",
       "4079                           0  ...                                 0   \n",
       "8310                           0  ...                                 0   \n",
       "1708                           1  ...                                 0   \n",
       "8025                           0  ...                                 0   \n",
       "2414                           0  ...                                 0   \n",
       "\n",
       "      City_Other Metro Cities  City_Thane & Outskirts  City_Tier II Cities  \\\n",
       "4079                        0                       0                    0   \n",
       "8310                        0                       0                    0   \n",
       "1708                        0                       0                    0   \n",
       "8025                        0                       0                    0   \n",
       "2414                        0                       0                    0   \n",
       "\n",
       "      Last Notable Activity_Email Opened  Last Notable Activity_Modified  \\\n",
       "4079                                   0                               1   \n",
       "8310                                   0                               0   \n",
       "1708                                   0                               1   \n",
       "8025                                   1                               0   \n",
       "2414                                   0                               1   \n",
       "\n",
       "      Last Notable Activity_Olark Chat Conversation  \\\n",
       "4079                                              0   \n",
       "8310                                              0   \n",
       "1708                                              0   \n",
       "8025                                              0   \n",
       "2414                                              0   \n",
       "\n",
       "      Last Notable Activity_Others  \\\n",
       "4079                             0   \n",
       "8310                             0   \n",
       "1708                             0   \n",
       "8025                             0   \n",
       "2414                             0   \n",
       "\n",
       "      Last Notable Activity_Page Visited on Website  \\\n",
       "4079                                              0   \n",
       "8310                                              0   \n",
       "1708                                              0   \n",
       "8025                                              0   \n",
       "2414                                              0   \n",
       "\n",
       "      Last Notable Activity_SMS Sent  \n",
       "4079                               0  \n",
       "8310                               1  \n",
       "1708                               0  \n",
       "8025                               0  \n",
       "2414                               0  \n",
       "\n",
       "[5 rows x 56 columns]"
      ]
     },
     "execution_count": 138,
     "metadata": {},
     "output_type": "execute_result"
    }
   ],
   "source": [
    "#We will scale numerical features just like we did in train set. This time, we fit don't fit the scaler, we directly transform the data.\n",
    "x_test[['TotalVisits','Time Spent','Views']] = scaler.transform(x_test[['TotalVisits','Time Spent','Views']])\n",
    "x_test.head()"
   ]
  },
  {
   "cell_type": "code",
   "execution_count": 139,
   "metadata": {},
   "outputs": [],
   "source": [
    "#retaining only the features that we used in our final model\n",
    "x_test = x_test[list(x_train_sm.drop('const',axis=1).columns)]"
   ]
  },
  {
   "cell_type": "code",
   "execution_count": 140,
   "metadata": {},
   "outputs": [],
   "source": [
    "x_test_sm = sm.add_constant(x_test)"
   ]
  },
  {
   "cell_type": "code",
   "execution_count": 141,
   "metadata": {},
   "outputs": [
    {
     "data": {
      "text/html": [
       "<div>\n",
       "<style scoped>\n",
       "    .dataframe tbody tr th:only-of-type {\n",
       "        vertical-align: middle;\n",
       "    }\n",
       "\n",
       "    .dataframe tbody tr th {\n",
       "        vertical-align: top;\n",
       "    }\n",
       "\n",
       "    .dataframe thead th {\n",
       "        text-align: right;\n",
       "    }\n",
       "</style>\n",
       "<table border=\"1\" class=\"dataframe\">\n",
       "  <thead>\n",
       "    <tr style=\"text-align: right;\">\n",
       "      <th></th>\n",
       "      <th>const</th>\n",
       "      <th>Time Spent</th>\n",
       "      <th>Lead Origin_Landing Page Submission</th>\n",
       "      <th>Lead Origin_Lead Add Form</th>\n",
       "      <th>Lead Source_Olark Chat</th>\n",
       "      <th>Lead Source_Welingak Website</th>\n",
       "      <th>Last Activity_Email Bounced</th>\n",
       "      <th>Last Activity_Email Opened</th>\n",
       "      <th>Last Activity_Olark Chat Conversation</th>\n",
       "      <th>Specialization_Others</th>\n",
       "      <th>Occupation_Student</th>\n",
       "      <th>Occupation_Working Professional</th>\n",
       "      <th>Last Notable Activity_Others</th>\n",
       "      <th>Last Notable Activity_SMS Sent</th>\n",
       "    </tr>\n",
       "  </thead>\n",
       "  <tbody>\n",
       "    <tr>\n",
       "      <th>4079</th>\n",
       "      <td>1.0</td>\n",
       "      <td>1.795869</td>\n",
       "      <td>1</td>\n",
       "      <td>0</td>\n",
       "      <td>0</td>\n",
       "      <td>0</td>\n",
       "      <td>0</td>\n",
       "      <td>1</td>\n",
       "      <td>0</td>\n",
       "      <td>0</td>\n",
       "      <td>0</td>\n",
       "      <td>0</td>\n",
       "      <td>0</td>\n",
       "      <td>0</td>\n",
       "    </tr>\n",
       "    <tr>\n",
       "      <th>8310</th>\n",
       "      <td>1.0</td>\n",
       "      <td>-0.882958</td>\n",
       "      <td>0</td>\n",
       "      <td>0</td>\n",
       "      <td>1</td>\n",
       "      <td>0</td>\n",
       "      <td>0</td>\n",
       "      <td>0</td>\n",
       "      <td>0</td>\n",
       "      <td>1</td>\n",
       "      <td>0</td>\n",
       "      <td>0</td>\n",
       "      <td>0</td>\n",
       "      <td>1</td>\n",
       "    </tr>\n",
       "    <tr>\n",
       "      <th>1708</th>\n",
       "      <td>1.0</td>\n",
       "      <td>-0.375855</td>\n",
       "      <td>1</td>\n",
       "      <td>0</td>\n",
       "      <td>0</td>\n",
       "      <td>0</td>\n",
       "      <td>0</td>\n",
       "      <td>0</td>\n",
       "      <td>0</td>\n",
       "      <td>0</td>\n",
       "      <td>0</td>\n",
       "      <td>0</td>\n",
       "      <td>0</td>\n",
       "      <td>0</td>\n",
       "    </tr>\n",
       "    <tr>\n",
       "      <th>8025</th>\n",
       "      <td>1.0</td>\n",
       "      <td>1.777496</td>\n",
       "      <td>0</td>\n",
       "      <td>0</td>\n",
       "      <td>0</td>\n",
       "      <td>0</td>\n",
       "      <td>0</td>\n",
       "      <td>1</td>\n",
       "      <td>0</td>\n",
       "      <td>1</td>\n",
       "      <td>0</td>\n",
       "      <td>0</td>\n",
       "      <td>0</td>\n",
       "      <td>0</td>\n",
       "    </tr>\n",
       "    <tr>\n",
       "      <th>2414</th>\n",
       "      <td>1.0</td>\n",
       "      <td>-0.882958</td>\n",
       "      <td>0</td>\n",
       "      <td>0</td>\n",
       "      <td>1</td>\n",
       "      <td>0</td>\n",
       "      <td>0</td>\n",
       "      <td>1</td>\n",
       "      <td>0</td>\n",
       "      <td>1</td>\n",
       "      <td>0</td>\n",
       "      <td>0</td>\n",
       "      <td>0</td>\n",
       "      <td>0</td>\n",
       "    </tr>\n",
       "    <tr>\n",
       "      <th>...</th>\n",
       "      <td>...</td>\n",
       "      <td>...</td>\n",
       "      <td>...</td>\n",
       "      <td>...</td>\n",
       "      <td>...</td>\n",
       "      <td>...</td>\n",
       "      <td>...</td>\n",
       "      <td>...</td>\n",
       "      <td>...</td>\n",
       "      <td>...</td>\n",
       "      <td>...</td>\n",
       "      <td>...</td>\n",
       "      <td>...</td>\n",
       "      <td>...</td>\n",
       "    </tr>\n",
       "    <tr>\n",
       "      <th>4671</th>\n",
       "      <td>1.0</td>\n",
       "      <td>-0.570612</td>\n",
       "      <td>1</td>\n",
       "      <td>0</td>\n",
       "      <td>0</td>\n",
       "      <td>0</td>\n",
       "      <td>0</td>\n",
       "      <td>0</td>\n",
       "      <td>0</td>\n",
       "      <td>0</td>\n",
       "      <td>0</td>\n",
       "      <td>1</td>\n",
       "      <td>0</td>\n",
       "      <td>1</td>\n",
       "    </tr>\n",
       "    <tr>\n",
       "      <th>5884</th>\n",
       "      <td>1.0</td>\n",
       "      <td>-0.622057</td>\n",
       "      <td>1</td>\n",
       "      <td>0</td>\n",
       "      <td>0</td>\n",
       "      <td>0</td>\n",
       "      <td>0</td>\n",
       "      <td>1</td>\n",
       "      <td>0</td>\n",
       "      <td>0</td>\n",
       "      <td>0</td>\n",
       "      <td>0</td>\n",
       "      <td>0</td>\n",
       "      <td>0</td>\n",
       "    </tr>\n",
       "    <tr>\n",
       "      <th>2407</th>\n",
       "      <td>1.0</td>\n",
       "      <td>-0.405252</td>\n",
       "      <td>1</td>\n",
       "      <td>0</td>\n",
       "      <td>0</td>\n",
       "      <td>0</td>\n",
       "      <td>0</td>\n",
       "      <td>0</td>\n",
       "      <td>0</td>\n",
       "      <td>0</td>\n",
       "      <td>0</td>\n",
       "      <td>0</td>\n",
       "      <td>0</td>\n",
       "      <td>0</td>\n",
       "    </tr>\n",
       "    <tr>\n",
       "      <th>148</th>\n",
       "      <td>1.0</td>\n",
       "      <td>-0.456698</td>\n",
       "      <td>1</td>\n",
       "      <td>0</td>\n",
       "      <td>0</td>\n",
       "      <td>0</td>\n",
       "      <td>0</td>\n",
       "      <td>1</td>\n",
       "      <td>0</td>\n",
       "      <td>0</td>\n",
       "      <td>0</td>\n",
       "      <td>0</td>\n",
       "      <td>0</td>\n",
       "      <td>0</td>\n",
       "    </tr>\n",
       "    <tr>\n",
       "      <th>6993</th>\n",
       "      <td>1.0</td>\n",
       "      <td>-0.221519</td>\n",
       "      <td>0</td>\n",
       "      <td>0</td>\n",
       "      <td>0</td>\n",
       "      <td>0</td>\n",
       "      <td>0</td>\n",
       "      <td>1</td>\n",
       "      <td>0</td>\n",
       "      <td>0</td>\n",
       "      <td>1</td>\n",
       "      <td>0</td>\n",
       "      <td>0</td>\n",
       "      <td>0</td>\n",
       "    </tr>\n",
       "  </tbody>\n",
       "</table>\n",
       "<p>2723 rows × 14 columns</p>\n",
       "</div>"
      ],
      "text/plain": [
       "      const  Time Spent  Lead Origin_Landing Page Submission  \\\n",
       "4079    1.0    1.795869                                    1   \n",
       "8310    1.0   -0.882958                                    0   \n",
       "1708    1.0   -0.375855                                    1   \n",
       "8025    1.0    1.777496                                    0   \n",
       "2414    1.0   -0.882958                                    0   \n",
       "...     ...         ...                                  ...   \n",
       "4671    1.0   -0.570612                                    1   \n",
       "5884    1.0   -0.622057                                    1   \n",
       "2407    1.0   -0.405252                                    1   \n",
       "148     1.0   -0.456698                                    1   \n",
       "6993    1.0   -0.221519                                    0   \n",
       "\n",
       "      Lead Origin_Lead Add Form  Lead Source_Olark Chat  \\\n",
       "4079                          0                       0   \n",
       "8310                          0                       1   \n",
       "1708                          0                       0   \n",
       "8025                          0                       0   \n",
       "2414                          0                       1   \n",
       "...                         ...                     ...   \n",
       "4671                          0                       0   \n",
       "5884                          0                       0   \n",
       "2407                          0                       0   \n",
       "148                           0                       0   \n",
       "6993                          0                       0   \n",
       "\n",
       "      Lead Source_Welingak Website  Last Activity_Email Bounced  \\\n",
       "4079                             0                            0   \n",
       "8310                             0                            0   \n",
       "1708                             0                            0   \n",
       "8025                             0                            0   \n",
       "2414                             0                            0   \n",
       "...                            ...                          ...   \n",
       "4671                             0                            0   \n",
       "5884                             0                            0   \n",
       "2407                             0                            0   \n",
       "148                              0                            0   \n",
       "6993                             0                            0   \n",
       "\n",
       "      Last Activity_Email Opened  Last Activity_Olark Chat Conversation  \\\n",
       "4079                           1                                      0   \n",
       "8310                           0                                      0   \n",
       "1708                           0                                      0   \n",
       "8025                           1                                      0   \n",
       "2414                           1                                      0   \n",
       "...                          ...                                    ...   \n",
       "4671                           0                                      0   \n",
       "5884                           1                                      0   \n",
       "2407                           0                                      0   \n",
       "148                            1                                      0   \n",
       "6993                           1                                      0   \n",
       "\n",
       "      Specialization_Others  Occupation_Student  \\\n",
       "4079                      0                   0   \n",
       "8310                      1                   0   \n",
       "1708                      0                   0   \n",
       "8025                      1                   0   \n",
       "2414                      1                   0   \n",
       "...                     ...                 ...   \n",
       "4671                      0                   0   \n",
       "5884                      0                   0   \n",
       "2407                      0                   0   \n",
       "148                       0                   0   \n",
       "6993                      0                   1   \n",
       "\n",
       "      Occupation_Working Professional  Last Notable Activity_Others  \\\n",
       "4079                                0                             0   \n",
       "8310                                0                             0   \n",
       "1708                                0                             0   \n",
       "8025                                0                             0   \n",
       "2414                                0                             0   \n",
       "...                               ...                           ...   \n",
       "4671                                1                             0   \n",
       "5884                                0                             0   \n",
       "2407                                0                             0   \n",
       "148                                 0                             0   \n",
       "6993                                0                             0   \n",
       "\n",
       "      Last Notable Activity_SMS Sent  \n",
       "4079                               0  \n",
       "8310                               1  \n",
       "1708                               0  \n",
       "8025                               0  \n",
       "2414                               0  \n",
       "...                              ...  \n",
       "4671                               1  \n",
       "5884                               0  \n",
       "2407                               0  \n",
       "148                                0  \n",
       "6993                               0  \n",
       "\n",
       "[2723 rows x 14 columns]"
      ]
     },
     "execution_count": 141,
     "metadata": {},
     "output_type": "execute_result"
    }
   ],
   "source": [
    "x_test_sm"
   ]
  },
  {
   "cell_type": "code",
   "execution_count": 142,
   "metadata": {},
   "outputs": [],
   "source": [
    "#Making predictions\n",
    "y_test_pred = res.predict(x_test_sm)"
   ]
  },
  {
   "cell_type": "code",
   "execution_count": 143,
   "metadata": {},
   "outputs": [
    {
     "data": {
      "text/html": [
       "<div>\n",
       "<style scoped>\n",
       "    .dataframe tbody tr th:only-of-type {\n",
       "        vertical-align: middle;\n",
       "    }\n",
       "\n",
       "    .dataframe tbody tr th {\n",
       "        vertical-align: top;\n",
       "    }\n",
       "\n",
       "    .dataframe thead th {\n",
       "        text-align: right;\n",
       "    }\n",
       "</style>\n",
       "<table border=\"1\" class=\"dataframe\">\n",
       "  <thead>\n",
       "    <tr style=\"text-align: right;\">\n",
       "      <th></th>\n",
       "      <th>Converted</th>\n",
       "      <th>Prob</th>\n",
       "      <th>ID</th>\n",
       "    </tr>\n",
       "  </thead>\n",
       "  <tbody>\n",
       "    <tr>\n",
       "      <th>4079</th>\n",
       "      <td>0</td>\n",
       "      <td>0.649925</td>\n",
       "      <td>4079</td>\n",
       "    </tr>\n",
       "    <tr>\n",
       "      <th>8310</th>\n",
       "      <td>1</td>\n",
       "      <td>0.521875</td>\n",
       "      <td>8310</td>\n",
       "    </tr>\n",
       "    <tr>\n",
       "      <th>1708</th>\n",
       "      <td>0</td>\n",
       "      <td>0.094822</td>\n",
       "      <td>1708</td>\n",
       "    </tr>\n",
       "    <tr>\n",
       "      <th>8025</th>\n",
       "      <td>1</td>\n",
       "      <td>0.618026</td>\n",
       "      <td>8025</td>\n",
       "    </tr>\n",
       "    <tr>\n",
       "      <th>2414</th>\n",
       "      <td>0</td>\n",
       "      <td>0.218212</td>\n",
       "      <td>2414</td>\n",
       "    </tr>\n",
       "  </tbody>\n",
       "</table>\n",
       "</div>"
      ],
      "text/plain": [
       "      Converted      Prob    ID\n",
       "4079          0  0.649925  4079\n",
       "8310          1  0.521875  8310\n",
       "1708          0  0.094822  1708\n",
       "8025          1  0.618026  8025\n",
       "2414          0  0.218212  2414"
      ]
     },
     "execution_count": 143,
     "metadata": {},
     "output_type": "execute_result"
    }
   ],
   "source": [
    "#creating new df for predictions\n",
    "y_test_pred_final = pd.DataFrame({'Converted':y_test.values.reshape(-1),'Prob':y_test_pred})\n",
    "y_test_pred_final['ID'] = y_test.index\n",
    "y_test_pred_final.head()"
   ]
  },
  {
   "cell_type": "code",
   "execution_count": 144,
   "metadata": {},
   "outputs": [],
   "source": [
    "#Setting cutoff to 0.35 to see parameters\n",
    "cutoff = 0.35"
   ]
  },
  {
   "cell_type": "code",
   "execution_count": 145,
   "metadata": {},
   "outputs": [
    {
     "data": {
      "text/html": [
       "<div>\n",
       "<style scoped>\n",
       "    .dataframe tbody tr th:only-of-type {\n",
       "        vertical-align: middle;\n",
       "    }\n",
       "\n",
       "    .dataframe tbody tr th {\n",
       "        vertical-align: top;\n",
       "    }\n",
       "\n",
       "    .dataframe thead th {\n",
       "        text-align: right;\n",
       "    }\n",
       "</style>\n",
       "<table border=\"1\" class=\"dataframe\">\n",
       "  <thead>\n",
       "    <tr style=\"text-align: right;\">\n",
       "      <th></th>\n",
       "      <th>Converted</th>\n",
       "      <th>Prob</th>\n",
       "      <th>ID</th>\n",
       "      <th>Predicted</th>\n",
       "      <th>Lead Score</th>\n",
       "    </tr>\n",
       "  </thead>\n",
       "  <tbody>\n",
       "    <tr>\n",
       "      <th>4079</th>\n",
       "      <td>0</td>\n",
       "      <td>0.649925</td>\n",
       "      <td>4079</td>\n",
       "      <td>1</td>\n",
       "      <td>65</td>\n",
       "    </tr>\n",
       "    <tr>\n",
       "      <th>8310</th>\n",
       "      <td>1</td>\n",
       "      <td>0.521875</td>\n",
       "      <td>8310</td>\n",
       "      <td>1</td>\n",
       "      <td>52</td>\n",
       "    </tr>\n",
       "    <tr>\n",
       "      <th>1708</th>\n",
       "      <td>0</td>\n",
       "      <td>0.094822</td>\n",
       "      <td>1708</td>\n",
       "      <td>0</td>\n",
       "      <td>9</td>\n",
       "    </tr>\n",
       "    <tr>\n",
       "      <th>8025</th>\n",
       "      <td>1</td>\n",
       "      <td>0.618026</td>\n",
       "      <td>8025</td>\n",
       "      <td>1</td>\n",
       "      <td>62</td>\n",
       "    </tr>\n",
       "    <tr>\n",
       "      <th>2414</th>\n",
       "      <td>0</td>\n",
       "      <td>0.218212</td>\n",
       "      <td>2414</td>\n",
       "      <td>0</td>\n",
       "      <td>22</td>\n",
       "    </tr>\n",
       "    <tr>\n",
       "      <th>5640</th>\n",
       "      <td>0</td>\n",
       "      <td>0.218212</td>\n",
       "      <td>5640</td>\n",
       "      <td>0</td>\n",
       "      <td>22</td>\n",
       "    </tr>\n",
       "    <tr>\n",
       "      <th>5978</th>\n",
       "      <td>0</td>\n",
       "      <td>0.392433</td>\n",
       "      <td>5978</td>\n",
       "      <td>1</td>\n",
       "      <td>39</td>\n",
       "    </tr>\n",
       "    <tr>\n",
       "      <th>8659</th>\n",
       "      <td>0</td>\n",
       "      <td>0.059925</td>\n",
       "      <td>8659</td>\n",
       "      <td>0</td>\n",
       "      <td>6</td>\n",
       "    </tr>\n",
       "    <tr>\n",
       "      <th>9095</th>\n",
       "      <td>0</td>\n",
       "      <td>0.119355</td>\n",
       "      <td>9095</td>\n",
       "      <td>0</td>\n",
       "      <td>12</td>\n",
       "    </tr>\n",
       "    <tr>\n",
       "      <th>2861</th>\n",
       "      <td>0</td>\n",
       "      <td>0.084036</td>\n",
       "      <td>2861</td>\n",
       "      <td>0</td>\n",
       "      <td>8</td>\n",
       "    </tr>\n",
       "  </tbody>\n",
       "</table>\n",
       "</div>"
      ],
      "text/plain": [
       "      Converted      Prob    ID  Predicted  Lead Score\n",
       "4079          0  0.649925  4079          1          65\n",
       "8310          1  0.521875  8310          1          52\n",
       "1708          0  0.094822  1708          0           9\n",
       "8025          1  0.618026  8025          1          62\n",
       "2414          0  0.218212  2414          0          22\n",
       "5640          0  0.218212  5640          0          22\n",
       "5978          0  0.392433  5978          1          39\n",
       "8659          0  0.059925  8659          0           6\n",
       "9095          0  0.119355  9095          0          12\n",
       "2861          0  0.084036  2861          0           8"
      ]
     },
     "execution_count": 145,
     "metadata": {},
     "output_type": "execute_result"
    }
   ],
   "source": [
    "y_test_pred_final['Predicted'] = y_test_pred_final.Prob.map(lambda x: 1 if x>cutoff else 0)\n",
    "#We will also all add a \"Lead Score\" column, in line with the business objective.\n",
    "y_test_pred_final['Lead Score'] = y_test_pred_final['Prob'].apply(lambda x: int(round(x*100,0)))\n",
    "y_test_pred_final[:10]"
   ]
  },
  {
   "cell_type": "code",
   "execution_count": 146,
   "metadata": {},
   "outputs": [
    {
     "data": {
      "text/plain": [
       "array([[1352,  348],\n",
       "       [ 185,  838]], dtype=int64)"
      ]
     },
     "execution_count": 146,
     "metadata": {},
     "output_type": "execute_result"
    }
   ],
   "source": [
    "#Confusion Matrix for predictions on test data\n",
    "confusion3 = metrics.confusion_matrix(y_test_pred_final.Converted, y_test_pred_final.Predicted)\n",
    "TP = confusion3[1,1] # true positive \n",
    "TN = confusion3[0,0] # true negatives\n",
    "FP = confusion3[0,1] # false positives\n",
    "FN = confusion3[1,0] # false negatives# Let's see the sensitivity of our logistic regression model\n",
    "confusion3"
   ]
  },
  {
   "cell_type": "code",
   "execution_count": 147,
   "metadata": {},
   "outputs": [
    {
     "data": {
      "text/plain": [
       "0.8042600073448403"
      ]
     },
     "execution_count": 147,
     "metadata": {},
     "output_type": "execute_result"
    }
   ],
   "source": [
    "#Accuracy on test data\n",
    "metrics.accuracy_score(y_test_pred_final.Converted, y_test_pred_final.Predicted)"
   ]
  },
  {
   "cell_type": "code",
   "execution_count": 148,
   "metadata": {},
   "outputs": [
    {
     "data": {
      "text/plain": [
       "0.8191593352883676"
      ]
     },
     "execution_count": 148,
     "metadata": {},
     "output_type": "execute_result"
    }
   ],
   "source": [
    "# Let's see the sensitivity of our logistic regression model\n",
    "TP / float(TP+FN)"
   ]
  },
  {
   "cell_type": "code",
   "execution_count": 149,
   "metadata": {
    "scrolled": false
   },
   "outputs": [
    {
     "data": {
      "text/plain": [
       "0.7952941176470588"
      ]
     },
     "execution_count": 149,
     "metadata": {},
     "output_type": "execute_result"
    }
   ],
   "source": [
    "# Let us calculate specificity\n",
    "TN / float(TN+FP)"
   ]
  },
  {
   "cell_type": "code",
   "execution_count": 150,
   "metadata": {},
   "outputs": [
    {
     "name": "stdout",
     "output_type": "stream",
     "text": [
      "0.20470588235294118\n"
     ]
    }
   ],
   "source": [
    "# Calculate false postive rate \n",
    "print(FP/ float(TN+FP))"
   ]
  },
  {
   "cell_type": "code",
   "execution_count": 151,
   "metadata": {},
   "outputs": [],
   "source": [
    "#Setting cutoff to 0.3\n",
    "cutoff=0.3"
   ]
  },
  {
   "cell_type": "code",
   "execution_count": 152,
   "metadata": {},
   "outputs": [
    {
     "data": {
      "text/html": [
       "<div>\n",
       "<style scoped>\n",
       "    .dataframe tbody tr th:only-of-type {\n",
       "        vertical-align: middle;\n",
       "    }\n",
       "\n",
       "    .dataframe tbody tr th {\n",
       "        vertical-align: top;\n",
       "    }\n",
       "\n",
       "    .dataframe thead th {\n",
       "        text-align: right;\n",
       "    }\n",
       "</style>\n",
       "<table border=\"1\" class=\"dataframe\">\n",
       "  <thead>\n",
       "    <tr style=\"text-align: right;\">\n",
       "      <th></th>\n",
       "      <th>Converted</th>\n",
       "      <th>Prob</th>\n",
       "      <th>ID</th>\n",
       "      <th>Predicted</th>\n",
       "      <th>Lead Score</th>\n",
       "    </tr>\n",
       "  </thead>\n",
       "  <tbody>\n",
       "    <tr>\n",
       "      <th>4079</th>\n",
       "      <td>0</td>\n",
       "      <td>0.649925</td>\n",
       "      <td>4079</td>\n",
       "      <td>1</td>\n",
       "      <td>65</td>\n",
       "    </tr>\n",
       "    <tr>\n",
       "      <th>8310</th>\n",
       "      <td>1</td>\n",
       "      <td>0.521875</td>\n",
       "      <td>8310</td>\n",
       "      <td>1</td>\n",
       "      <td>52</td>\n",
       "    </tr>\n",
       "    <tr>\n",
       "      <th>1708</th>\n",
       "      <td>0</td>\n",
       "      <td>0.094822</td>\n",
       "      <td>1708</td>\n",
       "      <td>0</td>\n",
       "      <td>9</td>\n",
       "    </tr>\n",
       "    <tr>\n",
       "      <th>8025</th>\n",
       "      <td>1</td>\n",
       "      <td>0.618026</td>\n",
       "      <td>8025</td>\n",
       "      <td>1</td>\n",
       "      <td>62</td>\n",
       "    </tr>\n",
       "    <tr>\n",
       "      <th>2414</th>\n",
       "      <td>0</td>\n",
       "      <td>0.218212</td>\n",
       "      <td>2414</td>\n",
       "      <td>0</td>\n",
       "      <td>22</td>\n",
       "    </tr>\n",
       "    <tr>\n",
       "      <th>5640</th>\n",
       "      <td>0</td>\n",
       "      <td>0.218212</td>\n",
       "      <td>5640</td>\n",
       "      <td>0</td>\n",
       "      <td>22</td>\n",
       "    </tr>\n",
       "    <tr>\n",
       "      <th>5978</th>\n",
       "      <td>0</td>\n",
       "      <td>0.392433</td>\n",
       "      <td>5978</td>\n",
       "      <td>1</td>\n",
       "      <td>39</td>\n",
       "    </tr>\n",
       "    <tr>\n",
       "      <th>8659</th>\n",
       "      <td>0</td>\n",
       "      <td>0.059925</td>\n",
       "      <td>8659</td>\n",
       "      <td>0</td>\n",
       "      <td>6</td>\n",
       "    </tr>\n",
       "    <tr>\n",
       "      <th>9095</th>\n",
       "      <td>0</td>\n",
       "      <td>0.119355</td>\n",
       "      <td>9095</td>\n",
       "      <td>0</td>\n",
       "      <td>12</td>\n",
       "    </tr>\n",
       "    <tr>\n",
       "      <th>2861</th>\n",
       "      <td>0</td>\n",
       "      <td>0.084036</td>\n",
       "      <td>2861</td>\n",
       "      <td>0</td>\n",
       "      <td>8</td>\n",
       "    </tr>\n",
       "  </tbody>\n",
       "</table>\n",
       "</div>"
      ],
      "text/plain": [
       "      Converted      Prob    ID  Predicted  Lead Score\n",
       "4079          0  0.649925  4079          1          65\n",
       "8310          1  0.521875  8310          1          52\n",
       "1708          0  0.094822  1708          0           9\n",
       "8025          1  0.618026  8025          1          62\n",
       "2414          0  0.218212  2414          0          22\n",
       "5640          0  0.218212  5640          0          22\n",
       "5978          0  0.392433  5978          1          39\n",
       "8659          0  0.059925  8659          0           6\n",
       "9095          0  0.119355  9095          0          12\n",
       "2861          0  0.084036  2861          0           8"
      ]
     },
     "execution_count": 152,
     "metadata": {},
     "output_type": "execute_result"
    }
   ],
   "source": [
    "y_test_pred_final['Predicted'] = y_test_pred_final.Prob.map(lambda x: 1 if x>cutoff else 0)\n",
    "#We will also all add a \"Lead Score\" column, in line with the business objective.\n",
    "y_test_pred_final['Lead Score'] = y_test_pred_final['Prob'].apply(lambda x: int(round(x*100,0)))\n",
    "y_test_pred_final[:10]"
   ]
  },
  {
   "cell_type": "code",
   "execution_count": 153,
   "metadata": {},
   "outputs": [
    {
     "data": {
      "text/plain": [
       "0.792508262945281"
      ]
     },
     "execution_count": 153,
     "metadata": {},
     "output_type": "execute_result"
    }
   ],
   "source": [
    "#Accuracy on test data\n",
    "metrics.accuracy_score(y_test_pred_final.Converted, y_test_pred_final.Predicted)"
   ]
  },
  {
   "cell_type": "code",
   "execution_count": 154,
   "metadata": {},
   "outputs": [
    {
     "data": {
      "text/plain": [
       "array([[1285,  415],\n",
       "       [ 150,  873]], dtype=int64)"
      ]
     },
     "execution_count": 154,
     "metadata": {},
     "output_type": "execute_result"
    }
   ],
   "source": [
    "#Confusion Matrix for predictions on test data\n",
    "confusion3 = metrics.confusion_matrix(y_test_pred_final.Converted, y_test_pred_final.Predicted)\n",
    "TP = confusion3[1,1] # true positive \n",
    "TN = confusion3[0,0] # true negatives\n",
    "FP = confusion3[0,1] # false positives\n",
    "FN = confusion3[1,0] # false negatives# Let's see the sensitivity of our logistic regression model\n",
    "confusion3"
   ]
  },
  {
   "cell_type": "code",
   "execution_count": 155,
   "metadata": {},
   "outputs": [
    {
     "data": {
      "text/plain": [
       "0.8533724340175953"
      ]
     },
     "execution_count": 155,
     "metadata": {},
     "output_type": "execute_result"
    }
   ],
   "source": [
    "# Let's see the sensitivity of our logistic regression model\n",
    "TP / float(TP+FN)"
   ]
  },
  {
   "cell_type": "code",
   "execution_count": 156,
   "metadata": {
    "scrolled": false
   },
   "outputs": [
    {
     "data": {
      "text/plain": [
       "0.7558823529411764"
      ]
     },
     "execution_count": 156,
     "metadata": {},
     "output_type": "execute_result"
    }
   ],
   "source": [
    "# Let us calculate specificity\n",
    "TN / float(TN+FP)"
   ]
  },
  {
   "cell_type": "code",
   "execution_count": 157,
   "metadata": {},
   "outputs": [
    {
     "name": "stdout",
     "output_type": "stream",
     "text": [
      "0.24411764705882352\n"
     ]
    }
   ],
   "source": [
    "# Calculate false postive rate \n",
    "print(FP/ float(TN+FP))"
   ]
  },
  {
   "cell_type": "code",
   "execution_count": 158,
   "metadata": {},
   "outputs": [
    {
     "name": "stdout",
     "output_type": "stream",
     "text": [
      "0.6777950310559007\n"
     ]
    }
   ],
   "source": [
    "# Positive predictive value \n",
    "print (TP / float(TP+FP))"
   ]
  },
  {
   "cell_type": "code",
   "execution_count": 159,
   "metadata": {},
   "outputs": [
    {
     "name": "stdout",
     "output_type": "stream",
     "text": [
      "0.8954703832752613\n"
     ]
    }
   ],
   "source": [
    "# Negative predictive value\n",
    "print (TN / float(TN+ FN))"
   ]
  },
  {
   "cell_type": "markdown",
   "metadata": {},
   "source": [
    "#### Inference\n",
    "* We have obtained an accuracy of 79.25% on the test data, while maintaining a sensitivity of 85.3%. Thus, we can conclude that our model is performing well and can be rolled out to meet the business objective.\n",
    "* Our model evaluation parameters have not changed and remained about the same when runnning them on test data. Hence, we can conclude that the model is quite stable."
   ]
  },
  {
   "cell_type": "code",
   "execution_count": 160,
   "metadata": {},
   "outputs": [
    {
     "data": {
      "text/html": [
       "<table class=\"simpletable\">\n",
       "<caption>Generalized Linear Model Regression Results</caption>\n",
       "<tr>\n",
       "  <th>Dep. Variable:</th>       <td>Converted</td>    <th>  No. Observations:  </th>  <td>  6351</td> \n",
       "</tr>\n",
       "<tr>\n",
       "  <th>Model:</th>                  <td>GLM</td>       <th>  Df Residuals:      </th>  <td>  6337</td> \n",
       "</tr>\n",
       "<tr>\n",
       "  <th>Model Family:</th>        <td>Binomial</td>     <th>  Df Model:          </th>  <td>    13</td> \n",
       "</tr>\n",
       "<tr>\n",
       "  <th>Link Function:</th>         <td>logit</td>      <th>  Scale:             </th> <td>  1.0000</td>\n",
       "</tr>\n",
       "<tr>\n",
       "  <th>Method:</th>                <td>IRLS</td>       <th>  Log-Likelihood:    </th> <td> -2651.9</td>\n",
       "</tr>\n",
       "<tr>\n",
       "  <th>Date:</th>            <td>Sun, 06 Sep 2020</td> <th>  Deviance:          </th> <td>  5303.8</td>\n",
       "</tr>\n",
       "<tr>\n",
       "  <th>Time:</th>                <td>00:27:14</td>     <th>  Pearson chi2:      </th> <td>6.54e+03</td>\n",
       "</tr>\n",
       "<tr>\n",
       "  <th>No. Iterations:</th>          <td>7</td>        <th>                     </th>     <td> </td>   \n",
       "</tr>\n",
       "<tr>\n",
       "  <th>Covariance Type:</th>     <td>nonrobust</td>    <th>                     </th>     <td> </td>   \n",
       "</tr>\n",
       "</table>\n",
       "<table class=\"simpletable\">\n",
       "<tr>\n",
       "                    <td></td>                       <th>coef</th>     <th>std err</th>      <th>z</th>      <th>P>|z|</th>  <th>[0.025</th>    <th>0.975]</th>  \n",
       "</tr>\n",
       "<tr>\n",
       "  <th>const</th>                                 <td>   -0.6360</td> <td>    0.135</td> <td>   -4.705</td> <td> 0.000</td> <td>   -0.901</td> <td>   -0.371</td>\n",
       "</tr>\n",
       "<tr>\n",
       "  <th>Time Spent</th>                            <td>    1.0771</td> <td>    0.040</td> <td>   27.168</td> <td> 0.000</td> <td>    0.999</td> <td>    1.155</td>\n",
       "</tr>\n",
       "<tr>\n",
       "  <th>Lead Origin_Landing Page Submission</th>   <td>   -1.2153</td> <td>    0.127</td> <td>   -9.558</td> <td> 0.000</td> <td>   -1.465</td> <td>   -0.966</td>\n",
       "</tr>\n",
       "<tr>\n",
       "  <th>Lead Origin_Lead Add Form</th>             <td>    3.3943</td> <td>    0.245</td> <td>   13.830</td> <td> 0.000</td> <td>    2.913</td> <td>    3.875</td>\n",
       "</tr>\n",
       "<tr>\n",
       "  <th>Lead Source_Olark Chat</th>                <td>    1.1084</td> <td>    0.123</td> <td>    9.015</td> <td> 0.000</td> <td>    0.867</td> <td>    1.349</td>\n",
       "</tr>\n",
       "<tr>\n",
       "  <th>Lead Source_Welingak Website</th>          <td>    3.1238</td> <td>    1.038</td> <td>    3.009</td> <td> 0.003</td> <td>    1.089</td> <td>    5.159</td>\n",
       "</tr>\n",
       "<tr>\n",
       "  <th>Last Activity_Email Bounced</th>           <td>   -1.9418</td> <td>    0.376</td> <td>   -5.171</td> <td> 0.000</td> <td>   -2.678</td> <td>   -1.206</td>\n",
       "</tr>\n",
       "<tr>\n",
       "  <th>Last Activity_Email Opened</th>            <td>    0.5356</td> <td>    0.091</td> <td>    5.857</td> <td> 0.000</td> <td>    0.356</td> <td>    0.715</td>\n",
       "</tr>\n",
       "<tr>\n",
       "  <th>Last Activity_Olark Chat Conversation</th> <td>   -0.9269</td> <td>    0.173</td> <td>   -5.349</td> <td> 0.000</td> <td>   -1.267</td> <td>   -0.587</td>\n",
       "</tr>\n",
       "<tr>\n",
       "  <th>Specialization_Others</th>                 <td>   -1.3331</td> <td>    0.124</td> <td>  -10.709</td> <td> 0.000</td> <td>   -1.577</td> <td>   -1.089</td>\n",
       "</tr>\n",
       "<tr>\n",
       "  <th>Occupation_Student</th>                    <td>    0.5482</td> <td>    0.225</td> <td>    2.436</td> <td> 0.015</td> <td>    0.107</td> <td>    0.989</td>\n",
       "</tr>\n",
       "<tr>\n",
       "  <th>Occupation_Working Professional</th>       <td>    2.5353</td> <td>    0.190</td> <td>   13.326</td> <td> 0.000</td> <td>    2.162</td> <td>    2.908</td>\n",
       "</tr>\n",
       "<tr>\n",
       "  <th>Last Notable Activity_Others</th>          <td>    1.0647</td> <td>    0.270</td> <td>    3.937</td> <td> 0.000</td> <td>    0.535</td> <td>    1.595</td>\n",
       "</tr>\n",
       "<tr>\n",
       "  <th>Last Notable Activity_SMS Sent</th>        <td>    1.8993</td> <td>    0.100</td> <td>   18.920</td> <td> 0.000</td> <td>    1.703</td> <td>    2.096</td>\n",
       "</tr>\n",
       "</table>"
      ],
      "text/plain": [
       "<class 'statsmodels.iolib.summary.Summary'>\n",
       "\"\"\"\n",
       "                 Generalized Linear Model Regression Results                  \n",
       "==============================================================================\n",
       "Dep. Variable:              Converted   No. Observations:                 6351\n",
       "Model:                            GLM   Df Residuals:                     6337\n",
       "Model Family:                Binomial   Df Model:                           13\n",
       "Link Function:                  logit   Scale:                          1.0000\n",
       "Method:                          IRLS   Log-Likelihood:                -2651.9\n",
       "Date:                Sun, 06 Sep 2020   Deviance:                       5303.8\n",
       "Time:                        00:27:14   Pearson chi2:                 6.54e+03\n",
       "No. Iterations:                     7                                         \n",
       "Covariance Type:            nonrobust                                         \n",
       "=========================================================================================================\n",
       "                                            coef    std err          z      P>|z|      [0.025      0.975]\n",
       "---------------------------------------------------------------------------------------------------------\n",
       "const                                    -0.6360      0.135     -4.705      0.000      -0.901      -0.371\n",
       "Time Spent                                1.0771      0.040     27.168      0.000       0.999       1.155\n",
       "Lead Origin_Landing Page Submission      -1.2153      0.127     -9.558      0.000      -1.465      -0.966\n",
       "Lead Origin_Lead Add Form                 3.3943      0.245     13.830      0.000       2.913       3.875\n",
       "Lead Source_Olark Chat                    1.1084      0.123      9.015      0.000       0.867       1.349\n",
       "Lead Source_Welingak Website              3.1238      1.038      3.009      0.003       1.089       5.159\n",
       "Last Activity_Email Bounced              -1.9418      0.376     -5.171      0.000      -2.678      -1.206\n",
       "Last Activity_Email Opened                0.5356      0.091      5.857      0.000       0.356       0.715\n",
       "Last Activity_Olark Chat Conversation    -0.9269      0.173     -5.349      0.000      -1.267      -0.587\n",
       "Specialization_Others                    -1.3331      0.124    -10.709      0.000      -1.577      -1.089\n",
       "Occupation_Student                        0.5482      0.225      2.436      0.015       0.107       0.989\n",
       "Occupation_Working Professional           2.5353      0.190     13.326      0.000       2.162       2.908\n",
       "Last Notable Activity_Others              1.0647      0.270      3.937      0.000       0.535       1.595\n",
       "Last Notable Activity_SMS Sent            1.8993      0.100     18.920      0.000       1.703       2.096\n",
       "=========================================================================================================\n",
       "\"\"\""
      ]
     },
     "execution_count": 160,
     "metadata": {},
     "output_type": "execute_result"
    }
   ],
   "source": [
    "#Recommendations\n",
    "res.summary()"
   ]
  },
  {
   "cell_type": "code",
   "execution_count": 161,
   "metadata": {},
   "outputs": [
    {
     "data": {
      "text/html": [
       "<div>\n",
       "<style scoped>\n",
       "    .dataframe tbody tr th:only-of-type {\n",
       "        vertical-align: middle;\n",
       "    }\n",
       "\n",
       "    .dataframe tbody tr th {\n",
       "        vertical-align: top;\n",
       "    }\n",
       "\n",
       "    .dataframe thead th {\n",
       "        text-align: right;\n",
       "    }\n",
       "</style>\n",
       "<table border=\"1\" class=\"dataframe\">\n",
       "  <thead>\n",
       "    <tr style=\"text-align: right;\">\n",
       "      <th></th>\n",
       "      <th>Feature</th>\n",
       "      <th>Coefficient</th>\n",
       "    </tr>\n",
       "  </thead>\n",
       "  <tbody>\n",
       "    <tr>\n",
       "      <th>0</th>\n",
       "      <td>Lead Origin_Lead Add Form</td>\n",
       "      <td>3.394285</td>\n",
       "    </tr>\n",
       "    <tr>\n",
       "      <th>1</th>\n",
       "      <td>Lead Source_Welingak Website</td>\n",
       "      <td>3.123849</td>\n",
       "    </tr>\n",
       "    <tr>\n",
       "      <th>2</th>\n",
       "      <td>Occupation_Working Professional</td>\n",
       "      <td>2.535268</td>\n",
       "    </tr>\n",
       "    <tr>\n",
       "      <th>3</th>\n",
       "      <td>Last Notable Activity_SMS Sent</td>\n",
       "      <td>1.899293</td>\n",
       "    </tr>\n",
       "    <tr>\n",
       "      <th>4</th>\n",
       "      <td>Lead Source_Olark Chat</td>\n",
       "      <td>1.108351</td>\n",
       "    </tr>\n",
       "    <tr>\n",
       "      <th>5</th>\n",
       "      <td>Time Spent</td>\n",
       "      <td>1.077125</td>\n",
       "    </tr>\n",
       "    <tr>\n",
       "      <th>6</th>\n",
       "      <td>Last Notable Activity_Others</td>\n",
       "      <td>1.064727</td>\n",
       "    </tr>\n",
       "    <tr>\n",
       "      <th>7</th>\n",
       "      <td>Occupation_Student</td>\n",
       "      <td>0.548249</td>\n",
       "    </tr>\n",
       "    <tr>\n",
       "      <th>8</th>\n",
       "      <td>Last Activity_Email Opened</td>\n",
       "      <td>0.535624</td>\n",
       "    </tr>\n",
       "    <tr>\n",
       "      <th>9</th>\n",
       "      <td>const</td>\n",
       "      <td>-0.635963</td>\n",
       "    </tr>\n",
       "    <tr>\n",
       "      <th>10</th>\n",
       "      <td>Last Activity_Olark Chat Conversation</td>\n",
       "      <td>-0.926925</td>\n",
       "    </tr>\n",
       "    <tr>\n",
       "      <th>11</th>\n",
       "      <td>Lead Origin_Landing Page Submission</td>\n",
       "      <td>-1.215329</td>\n",
       "    </tr>\n",
       "    <tr>\n",
       "      <th>12</th>\n",
       "      <td>Specialization_Others</td>\n",
       "      <td>-1.333070</td>\n",
       "    </tr>\n",
       "    <tr>\n",
       "      <th>13</th>\n",
       "      <td>Last Activity_Email Bounced</td>\n",
       "      <td>-1.941786</td>\n",
       "    </tr>\n",
       "  </tbody>\n",
       "</table>\n",
       "</div>"
      ],
      "text/plain": [
       "                                  Feature  Coefficient\n",
       "0               Lead Origin_Lead Add Form     3.394285\n",
       "1            Lead Source_Welingak Website     3.123849\n",
       "2         Occupation_Working Professional     2.535268\n",
       "3          Last Notable Activity_SMS Sent     1.899293\n",
       "4                  Lead Source_Olark Chat     1.108351\n",
       "5                              Time Spent     1.077125\n",
       "6            Last Notable Activity_Others     1.064727\n",
       "7                      Occupation_Student     0.548249\n",
       "8              Last Activity_Email Opened     0.535624\n",
       "9                                   const    -0.635963\n",
       "10  Last Activity_Olark Chat Conversation    -0.926925\n",
       "11    Lead Origin_Landing Page Submission    -1.215329\n",
       "12                  Specialization_Others    -1.333070\n",
       "13            Last Activity_Email Bounced    -1.941786"
      ]
     },
     "execution_count": 161,
     "metadata": {},
     "output_type": "execute_result"
    }
   ],
   "source": [
    "#We will now look at the most important features identified in our model\n",
    "\n",
    "final_model = pd.DataFrame(res.params) #getting model parameters (features and coefficients)\n",
    "\n",
    "final_model['Feature']=final_model.index \n",
    "final_model.index = range(len(final_model))\n",
    "\n",
    "final_model = final_model.rename(columns = {0:'Coefficient'})[['Feature','Coefficient']] #renaming columns for better understanding\n",
    "final_model.sort_values(by='Coefficient', ascending=False, ignore_index = True) #sorting by coefficient"
   ]
  },
  {
   "cell_type": "markdown",
   "metadata": {},
   "source": [
    "#### Inferences\n",
    "* The most important colums from the dataset can be identified as below\n",
    "    * Lead Origin\n",
    "    * Lead Source\n",
    "    * Time Spent\n",
    "    * Occupation\n",
    "    * Last Activity\n",
    "    * Last Notable Activity\n",
    "* The most important features (dummy variables) used in the model can be identified as below: \n",
    "    * Lead Origin_Lead Add Form\n",
    "    * Lead Source_Welingak Website\n",
    "    * Occupation_Working Professional\n",
    "    * Last Activity_Email Bounced\n",
    "    * Last Notable Activity_SMS Sent\n",
    "* Recommendations to business can be made on the basis of the lead score. Since we chose the probability cut off at 0.3, this would translate to a score of 30. This can be tweaked as and when the needs of the business change   "
   ]
  }
 ],
 "metadata": {
  "kernelspec": {
   "display_name": "Python 3",
   "language": "python",
   "name": "python3"
  },
  "language_info": {
   "codemirror_mode": {
    "name": "ipython",
    "version": 3
   },
   "file_extension": ".py",
   "mimetype": "text/x-python",
   "name": "python",
   "nbconvert_exporter": "python",
   "pygments_lexer": "ipython3",
   "version": "3.7.6"
  }
 },
 "nbformat": 4,
 "nbformat_minor": 4
}
